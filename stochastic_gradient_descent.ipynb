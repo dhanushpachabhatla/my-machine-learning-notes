{
  "nbformat": 4,
  "nbformat_minor": 0,
  "metadata": {
    "colab": {
      "provenance": [],
      "authorship_tag": "ABX9TyMXDny9UbR58T1QYjYB7A/L",
      "include_colab_link": true
    },
    "kernelspec": {
      "name": "python3",
      "display_name": "Python 3"
    },
    "language_info": {
      "name": "python"
    }
  },
  "cells": [
    {
      "cell_type": "markdown",
      "metadata": {
        "id": "view-in-github",
        "colab_type": "text"
      },
      "source": [
        "<a href=\"https://colab.research.google.com/github/dhanushpachabhatla/my-machine-learning-notes/blob/main/stochastic_gradient_descent.ipynb\" target=\"_parent\"><img src=\"https://colab.research.google.com/assets/colab-badge.svg\" alt=\"Open In Colab\"/></a>"
      ]
    },
    {
      "cell_type": "markdown",
      "source": [
        "#stochastic GD"
      ],
      "metadata": {
        "id": "ZhH8uyZ2rU_j"
      }
    },
    {
      "cell_type": "code",
      "source": [
        "from sklearn.datasets import load_diabetes\n",
        "\n",
        "import numpy as np\n",
        "from sklearn.linear_model import LinearRegression\n",
        "from sklearn.metrics import r2_score\n",
        "from sklearn.model_selection import train_test_split\n",
        "import time"
      ],
      "metadata": {
        "id": "msjoFWuDzkax"
      },
      "execution_count": null,
      "outputs": []
    },
    {
      "cell_type": "code",
      "source": [
        "X,y = load_diabetes(return_X_y=True)"
      ],
      "metadata": {
        "id": "B0jnkgMYzpd0"
      },
      "execution_count": null,
      "outputs": []
    },
    {
      "cell_type": "code",
      "source": [
        "print(X.shape)\n",
        "print(y.shape)"
      ],
      "metadata": {
        "colab": {
          "base_uri": "https://localhost:8080/"
        },
        "id": "02_SZLz4zq8l",
        "outputId": "20463c0b-7c0b-43a9-e952-fd512f24053d"
      },
      "execution_count": null,
      "outputs": [
        {
          "output_type": "stream",
          "name": "stdout",
          "text": [
            "(442, 10)\n",
            "(442,)\n"
          ]
        }
      ]
    },
    {
      "cell_type": "code",
      "source": [
        "X_train,X_test,y_train,y_test = train_test_split(X,y,test_size=0.2,random_state=2)"
      ],
      "metadata": {
        "id": "kAyUW2YJzr1x"
      },
      "execution_count": null,
      "outputs": []
    },
    {
      "cell_type": "code",
      "source": [
        "reg = LinearRegression()\n",
        "reg.fit(X_train,y_train)"
      ],
      "metadata": {
        "colab": {
          "base_uri": "https://localhost:8080/",
          "height": 79
        },
        "id": "Wt0_H2dYzs7o",
        "outputId": "b3c6db7e-a57d-4703-a1b4-a486c92548b5"
      },
      "execution_count": null,
      "outputs": [
        {
          "output_type": "execute_result",
          "data": {
            "text/plain": [
              "LinearRegression()"
            ],
            "text/html": [
              "<style>#sk-container-id-1 {\n",
              "  /* Definition of color scheme common for light and dark mode */\n",
              "  --sklearn-color-text: #000;\n",
              "  --sklearn-color-text-muted: #666;\n",
              "  --sklearn-color-line: gray;\n",
              "  /* Definition of color scheme for unfitted estimators */\n",
              "  --sklearn-color-unfitted-level-0: #fff5e6;\n",
              "  --sklearn-color-unfitted-level-1: #f6e4d2;\n",
              "  --sklearn-color-unfitted-level-2: #ffe0b3;\n",
              "  --sklearn-color-unfitted-level-3: chocolate;\n",
              "  /* Definition of color scheme for fitted estimators */\n",
              "  --sklearn-color-fitted-level-0: #f0f8ff;\n",
              "  --sklearn-color-fitted-level-1: #d4ebff;\n",
              "  --sklearn-color-fitted-level-2: #b3dbfd;\n",
              "  --sklearn-color-fitted-level-3: cornflowerblue;\n",
              "\n",
              "  /* Specific color for light theme */\n",
              "  --sklearn-color-text-on-default-background: var(--sg-text-color, var(--theme-code-foreground, var(--jp-content-font-color1, black)));\n",
              "  --sklearn-color-background: var(--sg-background-color, var(--theme-background, var(--jp-layout-color0, white)));\n",
              "  --sklearn-color-border-box: var(--sg-text-color, var(--theme-code-foreground, var(--jp-content-font-color1, black)));\n",
              "  --sklearn-color-icon: #696969;\n",
              "\n",
              "  @media (prefers-color-scheme: dark) {\n",
              "    /* Redefinition of color scheme for dark theme */\n",
              "    --sklearn-color-text-on-default-background: var(--sg-text-color, var(--theme-code-foreground, var(--jp-content-font-color1, white)));\n",
              "    --sklearn-color-background: var(--sg-background-color, var(--theme-background, var(--jp-layout-color0, #111)));\n",
              "    --sklearn-color-border-box: var(--sg-text-color, var(--theme-code-foreground, var(--jp-content-font-color1, white)));\n",
              "    --sklearn-color-icon: #878787;\n",
              "  }\n",
              "}\n",
              "\n",
              "#sk-container-id-1 {\n",
              "  color: var(--sklearn-color-text);\n",
              "}\n",
              "\n",
              "#sk-container-id-1 pre {\n",
              "  padding: 0;\n",
              "}\n",
              "\n",
              "#sk-container-id-1 input.sk-hidden--visually {\n",
              "  border: 0;\n",
              "  clip: rect(1px 1px 1px 1px);\n",
              "  clip: rect(1px, 1px, 1px, 1px);\n",
              "  height: 1px;\n",
              "  margin: -1px;\n",
              "  overflow: hidden;\n",
              "  padding: 0;\n",
              "  position: absolute;\n",
              "  width: 1px;\n",
              "}\n",
              "\n",
              "#sk-container-id-1 div.sk-dashed-wrapped {\n",
              "  border: 1px dashed var(--sklearn-color-line);\n",
              "  margin: 0 0.4em 0.5em 0.4em;\n",
              "  box-sizing: border-box;\n",
              "  padding-bottom: 0.4em;\n",
              "  background-color: var(--sklearn-color-background);\n",
              "}\n",
              "\n",
              "#sk-container-id-1 div.sk-container {\n",
              "  /* jupyter's `normalize.less` sets `[hidden] { display: none; }`\n",
              "     but bootstrap.min.css set `[hidden] { display: none !important; }`\n",
              "     so we also need the `!important` here to be able to override the\n",
              "     default hidden behavior on the sphinx rendered scikit-learn.org.\n",
              "     See: https://github.com/scikit-learn/scikit-learn/issues/21755 */\n",
              "  display: inline-block !important;\n",
              "  position: relative;\n",
              "}\n",
              "\n",
              "#sk-container-id-1 div.sk-text-repr-fallback {\n",
              "  display: none;\n",
              "}\n",
              "\n",
              "div.sk-parallel-item,\n",
              "div.sk-serial,\n",
              "div.sk-item {\n",
              "  /* draw centered vertical line to link estimators */\n",
              "  background-image: linear-gradient(var(--sklearn-color-text-on-default-background), var(--sklearn-color-text-on-default-background));\n",
              "  background-size: 2px 100%;\n",
              "  background-repeat: no-repeat;\n",
              "  background-position: center center;\n",
              "}\n",
              "\n",
              "/* Parallel-specific style estimator block */\n",
              "\n",
              "#sk-container-id-1 div.sk-parallel-item::after {\n",
              "  content: \"\";\n",
              "  width: 100%;\n",
              "  border-bottom: 2px solid var(--sklearn-color-text-on-default-background);\n",
              "  flex-grow: 1;\n",
              "}\n",
              "\n",
              "#sk-container-id-1 div.sk-parallel {\n",
              "  display: flex;\n",
              "  align-items: stretch;\n",
              "  justify-content: center;\n",
              "  background-color: var(--sklearn-color-background);\n",
              "  position: relative;\n",
              "}\n",
              "\n",
              "#sk-container-id-1 div.sk-parallel-item {\n",
              "  display: flex;\n",
              "  flex-direction: column;\n",
              "}\n",
              "\n",
              "#sk-container-id-1 div.sk-parallel-item:first-child::after {\n",
              "  align-self: flex-end;\n",
              "  width: 50%;\n",
              "}\n",
              "\n",
              "#sk-container-id-1 div.sk-parallel-item:last-child::after {\n",
              "  align-self: flex-start;\n",
              "  width: 50%;\n",
              "}\n",
              "\n",
              "#sk-container-id-1 div.sk-parallel-item:only-child::after {\n",
              "  width: 0;\n",
              "}\n",
              "\n",
              "/* Serial-specific style estimator block */\n",
              "\n",
              "#sk-container-id-1 div.sk-serial {\n",
              "  display: flex;\n",
              "  flex-direction: column;\n",
              "  align-items: center;\n",
              "  background-color: var(--sklearn-color-background);\n",
              "  padding-right: 1em;\n",
              "  padding-left: 1em;\n",
              "}\n",
              "\n",
              "\n",
              "/* Toggleable style: style used for estimator/Pipeline/ColumnTransformer box that is\n",
              "clickable and can be expanded/collapsed.\n",
              "- Pipeline and ColumnTransformer use this feature and define the default style\n",
              "- Estimators will overwrite some part of the style using the `sk-estimator` class\n",
              "*/\n",
              "\n",
              "/* Pipeline and ColumnTransformer style (default) */\n",
              "\n",
              "#sk-container-id-1 div.sk-toggleable {\n",
              "  /* Default theme specific background. It is overwritten whether we have a\n",
              "  specific estimator or a Pipeline/ColumnTransformer */\n",
              "  background-color: var(--sklearn-color-background);\n",
              "}\n",
              "\n",
              "/* Toggleable label */\n",
              "#sk-container-id-1 label.sk-toggleable__label {\n",
              "  cursor: pointer;\n",
              "  display: flex;\n",
              "  width: 100%;\n",
              "  margin-bottom: 0;\n",
              "  padding: 0.5em;\n",
              "  box-sizing: border-box;\n",
              "  text-align: center;\n",
              "  align-items: start;\n",
              "  justify-content: space-between;\n",
              "  gap: 0.5em;\n",
              "}\n",
              "\n",
              "#sk-container-id-1 label.sk-toggleable__label .caption {\n",
              "  font-size: 0.6rem;\n",
              "  font-weight: lighter;\n",
              "  color: var(--sklearn-color-text-muted);\n",
              "}\n",
              "\n",
              "#sk-container-id-1 label.sk-toggleable__label-arrow:before {\n",
              "  /* Arrow on the left of the label */\n",
              "  content: \"▸\";\n",
              "  float: left;\n",
              "  margin-right: 0.25em;\n",
              "  color: var(--sklearn-color-icon);\n",
              "}\n",
              "\n",
              "#sk-container-id-1 label.sk-toggleable__label-arrow:hover:before {\n",
              "  color: var(--sklearn-color-text);\n",
              "}\n",
              "\n",
              "/* Toggleable content - dropdown */\n",
              "\n",
              "#sk-container-id-1 div.sk-toggleable__content {\n",
              "  max-height: 0;\n",
              "  max-width: 0;\n",
              "  overflow: hidden;\n",
              "  text-align: left;\n",
              "  /* unfitted */\n",
              "  background-color: var(--sklearn-color-unfitted-level-0);\n",
              "}\n",
              "\n",
              "#sk-container-id-1 div.sk-toggleable__content.fitted {\n",
              "  /* fitted */\n",
              "  background-color: var(--sklearn-color-fitted-level-0);\n",
              "}\n",
              "\n",
              "#sk-container-id-1 div.sk-toggleable__content pre {\n",
              "  margin: 0.2em;\n",
              "  border-radius: 0.25em;\n",
              "  color: var(--sklearn-color-text);\n",
              "  /* unfitted */\n",
              "  background-color: var(--sklearn-color-unfitted-level-0);\n",
              "}\n",
              "\n",
              "#sk-container-id-1 div.sk-toggleable__content.fitted pre {\n",
              "  /* unfitted */\n",
              "  background-color: var(--sklearn-color-fitted-level-0);\n",
              "}\n",
              "\n",
              "#sk-container-id-1 input.sk-toggleable__control:checked~div.sk-toggleable__content {\n",
              "  /* Expand drop-down */\n",
              "  max-height: 200px;\n",
              "  max-width: 100%;\n",
              "  overflow: auto;\n",
              "}\n",
              "\n",
              "#sk-container-id-1 input.sk-toggleable__control:checked~label.sk-toggleable__label-arrow:before {\n",
              "  content: \"▾\";\n",
              "}\n",
              "\n",
              "/* Pipeline/ColumnTransformer-specific style */\n",
              "\n",
              "#sk-container-id-1 div.sk-label input.sk-toggleable__control:checked~label.sk-toggleable__label {\n",
              "  color: var(--sklearn-color-text);\n",
              "  background-color: var(--sklearn-color-unfitted-level-2);\n",
              "}\n",
              "\n",
              "#sk-container-id-1 div.sk-label.fitted input.sk-toggleable__control:checked~label.sk-toggleable__label {\n",
              "  background-color: var(--sklearn-color-fitted-level-2);\n",
              "}\n",
              "\n",
              "/* Estimator-specific style */\n",
              "\n",
              "/* Colorize estimator box */\n",
              "#sk-container-id-1 div.sk-estimator input.sk-toggleable__control:checked~label.sk-toggleable__label {\n",
              "  /* unfitted */\n",
              "  background-color: var(--sklearn-color-unfitted-level-2);\n",
              "}\n",
              "\n",
              "#sk-container-id-1 div.sk-estimator.fitted input.sk-toggleable__control:checked~label.sk-toggleable__label {\n",
              "  /* fitted */\n",
              "  background-color: var(--sklearn-color-fitted-level-2);\n",
              "}\n",
              "\n",
              "#sk-container-id-1 div.sk-label label.sk-toggleable__label,\n",
              "#sk-container-id-1 div.sk-label label {\n",
              "  /* The background is the default theme color */\n",
              "  color: var(--sklearn-color-text-on-default-background);\n",
              "}\n",
              "\n",
              "/* On hover, darken the color of the background */\n",
              "#sk-container-id-1 div.sk-label:hover label.sk-toggleable__label {\n",
              "  color: var(--sklearn-color-text);\n",
              "  background-color: var(--sklearn-color-unfitted-level-2);\n",
              "}\n",
              "\n",
              "/* Label box, darken color on hover, fitted */\n",
              "#sk-container-id-1 div.sk-label.fitted:hover label.sk-toggleable__label.fitted {\n",
              "  color: var(--sklearn-color-text);\n",
              "  background-color: var(--sklearn-color-fitted-level-2);\n",
              "}\n",
              "\n",
              "/* Estimator label */\n",
              "\n",
              "#sk-container-id-1 div.sk-label label {\n",
              "  font-family: monospace;\n",
              "  font-weight: bold;\n",
              "  display: inline-block;\n",
              "  line-height: 1.2em;\n",
              "}\n",
              "\n",
              "#sk-container-id-1 div.sk-label-container {\n",
              "  text-align: center;\n",
              "}\n",
              "\n",
              "/* Estimator-specific */\n",
              "#sk-container-id-1 div.sk-estimator {\n",
              "  font-family: monospace;\n",
              "  border: 1px dotted var(--sklearn-color-border-box);\n",
              "  border-radius: 0.25em;\n",
              "  box-sizing: border-box;\n",
              "  margin-bottom: 0.5em;\n",
              "  /* unfitted */\n",
              "  background-color: var(--sklearn-color-unfitted-level-0);\n",
              "}\n",
              "\n",
              "#sk-container-id-1 div.sk-estimator.fitted {\n",
              "  /* fitted */\n",
              "  background-color: var(--sklearn-color-fitted-level-0);\n",
              "}\n",
              "\n",
              "/* on hover */\n",
              "#sk-container-id-1 div.sk-estimator:hover {\n",
              "  /* unfitted */\n",
              "  background-color: var(--sklearn-color-unfitted-level-2);\n",
              "}\n",
              "\n",
              "#sk-container-id-1 div.sk-estimator.fitted:hover {\n",
              "  /* fitted */\n",
              "  background-color: var(--sklearn-color-fitted-level-2);\n",
              "}\n",
              "\n",
              "/* Specification for estimator info (e.g. \"i\" and \"?\") */\n",
              "\n",
              "/* Common style for \"i\" and \"?\" */\n",
              "\n",
              ".sk-estimator-doc-link,\n",
              "a:link.sk-estimator-doc-link,\n",
              "a:visited.sk-estimator-doc-link {\n",
              "  float: right;\n",
              "  font-size: smaller;\n",
              "  line-height: 1em;\n",
              "  font-family: monospace;\n",
              "  background-color: var(--sklearn-color-background);\n",
              "  border-radius: 1em;\n",
              "  height: 1em;\n",
              "  width: 1em;\n",
              "  text-decoration: none !important;\n",
              "  margin-left: 0.5em;\n",
              "  text-align: center;\n",
              "  /* unfitted */\n",
              "  border: var(--sklearn-color-unfitted-level-1) 1pt solid;\n",
              "  color: var(--sklearn-color-unfitted-level-1);\n",
              "}\n",
              "\n",
              ".sk-estimator-doc-link.fitted,\n",
              "a:link.sk-estimator-doc-link.fitted,\n",
              "a:visited.sk-estimator-doc-link.fitted {\n",
              "  /* fitted */\n",
              "  border: var(--sklearn-color-fitted-level-1) 1pt solid;\n",
              "  color: var(--sklearn-color-fitted-level-1);\n",
              "}\n",
              "\n",
              "/* On hover */\n",
              "div.sk-estimator:hover .sk-estimator-doc-link:hover,\n",
              ".sk-estimator-doc-link:hover,\n",
              "div.sk-label-container:hover .sk-estimator-doc-link:hover,\n",
              ".sk-estimator-doc-link:hover {\n",
              "  /* unfitted */\n",
              "  background-color: var(--sklearn-color-unfitted-level-3);\n",
              "  color: var(--sklearn-color-background);\n",
              "  text-decoration: none;\n",
              "}\n",
              "\n",
              "div.sk-estimator.fitted:hover .sk-estimator-doc-link.fitted:hover,\n",
              ".sk-estimator-doc-link.fitted:hover,\n",
              "div.sk-label-container:hover .sk-estimator-doc-link.fitted:hover,\n",
              ".sk-estimator-doc-link.fitted:hover {\n",
              "  /* fitted */\n",
              "  background-color: var(--sklearn-color-fitted-level-3);\n",
              "  color: var(--sklearn-color-background);\n",
              "  text-decoration: none;\n",
              "}\n",
              "\n",
              "/* Span, style for the box shown on hovering the info icon */\n",
              ".sk-estimator-doc-link span {\n",
              "  display: none;\n",
              "  z-index: 9999;\n",
              "  position: relative;\n",
              "  font-weight: normal;\n",
              "  right: .2ex;\n",
              "  padding: .5ex;\n",
              "  margin: .5ex;\n",
              "  width: min-content;\n",
              "  min-width: 20ex;\n",
              "  max-width: 50ex;\n",
              "  color: var(--sklearn-color-text);\n",
              "  box-shadow: 2pt 2pt 4pt #999;\n",
              "  /* unfitted */\n",
              "  background: var(--sklearn-color-unfitted-level-0);\n",
              "  border: .5pt solid var(--sklearn-color-unfitted-level-3);\n",
              "}\n",
              "\n",
              ".sk-estimator-doc-link.fitted span {\n",
              "  /* fitted */\n",
              "  background: var(--sklearn-color-fitted-level-0);\n",
              "  border: var(--sklearn-color-fitted-level-3);\n",
              "}\n",
              "\n",
              ".sk-estimator-doc-link:hover span {\n",
              "  display: block;\n",
              "}\n",
              "\n",
              "/* \"?\"-specific style due to the `<a>` HTML tag */\n",
              "\n",
              "#sk-container-id-1 a.estimator_doc_link {\n",
              "  float: right;\n",
              "  font-size: 1rem;\n",
              "  line-height: 1em;\n",
              "  font-family: monospace;\n",
              "  background-color: var(--sklearn-color-background);\n",
              "  border-radius: 1rem;\n",
              "  height: 1rem;\n",
              "  width: 1rem;\n",
              "  text-decoration: none;\n",
              "  /* unfitted */\n",
              "  color: var(--sklearn-color-unfitted-level-1);\n",
              "  border: var(--sklearn-color-unfitted-level-1) 1pt solid;\n",
              "}\n",
              "\n",
              "#sk-container-id-1 a.estimator_doc_link.fitted {\n",
              "  /* fitted */\n",
              "  border: var(--sklearn-color-fitted-level-1) 1pt solid;\n",
              "  color: var(--sklearn-color-fitted-level-1);\n",
              "}\n",
              "\n",
              "/* On hover */\n",
              "#sk-container-id-1 a.estimator_doc_link:hover {\n",
              "  /* unfitted */\n",
              "  background-color: var(--sklearn-color-unfitted-level-3);\n",
              "  color: var(--sklearn-color-background);\n",
              "  text-decoration: none;\n",
              "}\n",
              "\n",
              "#sk-container-id-1 a.estimator_doc_link.fitted:hover {\n",
              "  /* fitted */\n",
              "  background-color: var(--sklearn-color-fitted-level-3);\n",
              "}\n",
              "</style><div id=\"sk-container-id-1\" class=\"sk-top-container\"><div class=\"sk-text-repr-fallback\"><pre>LinearRegression()</pre><b>In a Jupyter environment, please rerun this cell to show the HTML representation or trust the notebook. <br />On GitHub, the HTML representation is unable to render, please try loading this page with nbviewer.org.</b></div><div class=\"sk-container\" hidden><div class=\"sk-item\"><div class=\"sk-estimator fitted sk-toggleable\"><input class=\"sk-toggleable__control sk-hidden--visually\" id=\"sk-estimator-id-1\" type=\"checkbox\" checked><label for=\"sk-estimator-id-1\" class=\"sk-toggleable__label fitted sk-toggleable__label-arrow\"><div><div>LinearRegression</div></div><div><a class=\"sk-estimator-doc-link fitted\" rel=\"noreferrer\" target=\"_blank\" href=\"https://scikit-learn.org/1.6/modules/generated/sklearn.linear_model.LinearRegression.html\">?<span>Documentation for LinearRegression</span></a><span class=\"sk-estimator-doc-link fitted\">i<span>Fitted</span></span></div></label><div class=\"sk-toggleable__content fitted\"><pre>LinearRegression()</pre></div> </div></div></div></div>"
            ]
          },
          "metadata": {},
          "execution_count": 5
        }
      ]
    },
    {
      "cell_type": "code",
      "source": [
        "print(reg.coef_)\n",
        "print(reg.intercept_)"
      ],
      "metadata": {
        "colab": {
          "base_uri": "https://localhost:8080/"
        },
        "id": "XBAxglDVzxsz",
        "outputId": "86854674-4401-4d52-ba03-3b48d82cae77"
      },
      "execution_count": null,
      "outputs": [
        {
          "output_type": "stream",
          "name": "stdout",
          "text": [
            "[  -9.15865318 -205.45432163  516.69374454  340.61999905 -895.5520019\n",
            "  561.22067904  153.89310954  126.73139688  861.12700152   52.42112238]\n",
            "151.88331005254167\n"
          ]
        }
      ]
    },
    {
      "cell_type": "code",
      "source": [
        "y_pred = reg.predict(X_test)\n",
        "r2_score(y_test,y_pred)"
      ],
      "metadata": {
        "colab": {
          "base_uri": "https://localhost:8080/"
        },
        "id": "UIfZqHkdzzj3",
        "outputId": "868e1b28-de2a-4666-cdf4-b6f7e2070f63"
      },
      "execution_count": null,
      "outputs": [
        {
          "output_type": "execute_result",
          "data": {
            "text/plain": [
              "0.4399338661568968"
            ]
          },
          "metadata": {},
          "execution_count": 7
        }
      ]
    },
    {
      "cell_type": "markdown",
      "source": [
        "* actual mathematical code"
      ],
      "metadata": {
        "id": "YJz0EDHp0PvF"
      }
    },
    {
      "cell_type": "code",
      "source": [
        "class SGDRegressor:\n",
        "\n",
        "    def __init__(self,learning_rate=0.01,epochs=100):\n",
        "\n",
        "        self.coef_ = None\n",
        "        self.intercept_ = None\n",
        "        self.lr = learning_rate\n",
        "        self.epochs = epochs\n",
        "\n",
        "    def fit(self,X_train,y_train):\n",
        "        # init your coefs\n",
        "        self.intercept_ = 0\n",
        "        self.coef_ = np.ones(X_train.shape[1])\n",
        "\n",
        "        for i in range(self.epochs):\n",
        "            for j in range(X_train.shape[0]):\n",
        "                idx = np.random.randint(0,X_train.shape[0])\n",
        "\n",
        "                y_hat = np.dot(X_train[idx],self.coef_) + self.intercept_\n",
        "\n",
        "                intercept_der = -2 * (y_train[idx] - y_hat)\n",
        "                self.intercept_ = self.intercept_ - (self.lr * intercept_der)\n",
        "\n",
        "                coef_der = -2 * np.dot((y_train[idx] - y_hat),X_train[idx])\n",
        "                self.coef_ = self.coef_ - (self.lr * coef_der)\n",
        "\n",
        "        print(self.intercept_,self.coef_)\n",
        "\n",
        "    def predict(self,X_test):\n",
        "        return np.dot(X_test,self.coef_) + self.intercept_"
      ],
      "metadata": {
        "id": "n3vLzy3Uz1T1"
      },
      "execution_count": null,
      "outputs": []
    },
    {
      "cell_type": "markdown",
      "source": [
        "* here you can see that we update your coefficents and intercept for every row so now we can finish in less epochs and it can converge faster.\n",
        "* but accuracy may be less than other gd methods\n",
        "* random row for each inner loop"
      ],
      "metadata": {
        "id": "YYz2bO7X0WDG"
      }
    },
    {
      "cell_type": "markdown",
      "source": [
        "![Screenshot 2025-05-26 142011.png](data:image/png;base64,iVBORw0KGgoAAAANSUhEUgAABToAAALqCAYAAAAVTetsAAAAAXNSR0IArs4c6QAAAARnQU1BAACxjwv8YQUAAAAJcEhZcwAADsMAAA7DAcdvqGQAAP+lSURBVHhe7P0HdJxpeh/4/isnoJBzJMCcyWazAzvPdJierMmjVbIlWVpJXu/utcfhXrfGPmftPfa5Xl9bK2lXstaywow04xnNjDTT093TzWYn5hwBIudQKFTOdb/nrSqyCAIkCCLUV/X/Se8poABw2ERVfd/31PN/H0MqlUqDiIiIiIiIiIiISMeM2VsiIiIiIiIiIiIi3WKhk4iIiIiIiIiIiHSPhU4iIiIiIiIiIiLSPRY6iYiIiIiIiIiISPdY6CQiIiIiIiIiIiLdY6GTiIiIiIiIiIiIdI+FTiIiIiIiIiIiItI9FjqJiIiIiIiIiIhI91joJCIiIiIiIiIiIt1joZOIiIiIiIiIiIh0j4VOIiIiIiIiIiIi0j0WOomIiIiIiIiIiEj3WOgkIiIiIiIiIiIi3WOhk4iIiIiIiIiIiHSPhU4iIiIiIiIiIiLSPRY6iYiIiIiIiIiISPdY6CQiIiIiIiIiIiLdY6GTiIiIiIiIiIiIdI+FTiIiIiIiIiIiItI9FjqJiIiIiIiIiIhI91joJCIiIiIiIiIiIt1joZOIiIiIiIiIiIh0j4VOIiIiIiIiIiIi0j0WOomIiIiIiIiIiEj3WOgkIiIiIiIiIiIi3WOhk4iIiIiIiIiIiHSPhU4iIiIiIiIiIiLSPRY6iYiIiIiIiIiISPdY6CQiIiIiIiIiIiLdY6GTiIiIiIiIiIiIdI+FTiIiIiIiIiIiItI9FjqJiIiIiIiIiIhI91joJCIiIiIiIiIiIt1joZOIiIiIiIiIiIh0j4VOIiIiIiIiIiIi0j0WOomIiIiIiIiIiEj3WOgkIiIiIiIiIiIi3WOhk4iIiIiIiIiIiHSPhU4iIiIiIiIiIiLSPRY6iYiIiIiIiIiISPdY6CQiIiIiIiIiIiLdY6GTiIiIiIiIiIiIdI+FTiIiIiIiIiIiItI9FjqJiIiIiIiIiIhI91joJCIiIiIiIiIiIt1joZOIiIiIiIiIiIh0j4VOIiIiIiIiIiIi0j0WOomIiIiIiIiIiEj3WOgkIiIiIiIiIiIi3WOhk4iIiIiIiIiIiHSPhU4iIiIiIiIiIiLSPRY6iYiIiIiIiIiISPdY6CQiIiIiIiIiIiLdY6GTiIiIiIiIiIiIdI+FTiIiIiIiIiIiItI9FjqJiIiIiIiIiIhI91joJCIiIiIiIiIiIt1joZOIiIiIiIiIiIh0j4VOIiIiIiIiIiIi0j0WOomIiIiIiIiIiEj3WOgkIiIiIiIiIiIi3WOhk4iIiIiIiIiIiHSPhU4iIiIiIiIiIiLSPRY6iYiIiIiIiIiISPdY6CQiIiIiIiIiIiLdY6GTiIiIiIiIiIiIdI+FTiIiIiIiIiIiItI9FjqJiIiIiIiIiIhI91joJCIiIiIiIiIiIt1joZOIiIiIiIiIiIh0j4VOIiIiIiIiIiIi0j0WOomIiIiIiIiIiEj3WOgkIiIiIiIiIiIi3WOhk4iIiIiIiIiIiHSPhU4iIiIiIiIiIiLSPRY6iYiIiIiIiIiISPdY6CQiIiIiIiIiIiLdY6GTiIiIiIiIiIiIdI+FTiIiIiIiIiIiItI9FjqJiIiIiIiIiIhI91joJCIiIiIiIiIiIt1joZOIiIiIiIiIiIh0z5BKpdLZj6nApdNpxGIx+P1+BAIBxONxJBIJmEwm1NTUoKysDDabLfvdUF+bnZ1V3xuJRLL33maxWOB0OtHQ0KA+zic/Ozc3h2AwiGg0imQyCavVqr6/urpafWw0sk5ORERERERERESFgYVOHZGC48jQGN49dhTH3nsXo6Oj8Hq9cLvd+IVf+AUcOXIE3d3d2e8GJicn8Rd/8Rc4duwYenp6svfeJgXORx55BL/zO7+D1tbW7L0Z09PT+O53v4sTJ06on5XiaktLCw4dOoSvfOVr6OzsgNPpyH43ERERERERERHRxmJLno5IV+W8f151WUo3pRQnpavzxo0bqnNTCqH5pCtTip1SDJVOzyNHnsIrr3zi1nr22eewZ88eOBx3Fizlz/vxj3+Mt956S3WD7tmzF48/9gTc5W5cvnwF3/72t3D27NnsdxMREREREREREW0802uvvfa72Y+pwElRc27Oo93GVHz80UcfxczMDAYHB/H4449j8+bNqKury343VBemdGSGQiF0dXXjt37rt/Hqq5/EU089rdajjx7G9u3bUVHhviOG/vbbb+Ov//qvMTY2hsOHD+MrX/kynnzyKdhsdgwNDagO0Zqaauzfv1/F5g0GQ/YniYiIiIiIiIiINgY7OnXEbrdjy5YteOGFF/D5z38ezzzzzF2R86WYTEaUl7tQUVF+xyovL7trr82+vj5cvXoVL774Il5++WXs2rULm7d04aWXX8QXvvBFVXCVOLusxfb+JCIiIiIiIiIiWm8sdOqIFCRlGFBVVZXq3KyoqLhj+NBSZKiQRM3/+I//GL/3e7+HP/mTP8GPfvQjXL9+HdFoTA05EjLoaGRkRHVySjFz167d2LSpCy6XS8XbZU/Prq4uVFdXwefzobe39664/HKlUimEQmF4vfOY83pVLJ+IiIiIiIiIaLlytYVYLJ69h0odhxHp3De/+U38l//yX/CP/tE/Ut2XO3fuzH4FGB8fxx/90R+pqHl/f78qkErBMjc5/YknnsQzzzyLLVu61f2yH+f58+fxh3/4hzh58pT2s3+MAwf23zF06ObNm/jGN76h4uoy/OhrX/uaKoAuRfYJlaLo/Py8itDnSGHT7w8iFA4irb0w1dfX3zX5nYiIiIiIiIhoKbnaQktLM9raWlWDGLfXK20sdOrcvQqdMoRI9tuUjk7ZS7O6pgbxWAzDw8P4yU9+omLnO3bswDe+8U/R0dGuCpKyp6cURy9duqQmtu/evfuOaLvsB/qv//W/VgORZJDRr/zKr6CpqSn71bt5PB412OiNN97A6dOns/dCdZEmkyn17ov2mSpy8sWIiIiIiIiIiJYrV1v4e3/v7+HXfu3X1PZ8Uv+g0sVCp87dq9ApsXKJoss7HFarVXVySiR9enoax4+fwE9+8mMVU3/ttdfUYCOJwX/00Ucq4n7lyhV861vfUvtz5pNC57/9t/9WdWhKkfRXf/VX71nolILo5cuX1Z8nP5sjBc5IJIr3338PZ6+cQtfTzXBU22A0sdhZCOaiTnijd07jp9KVjJiQipiznxFRsTOkDDCHTTBwVxmiW9LaNXPCkUTayEsnomJjtCdgsvOgp0fpZAoJbxD+Uz34J7/9P+Nf/It/AbvddtccEiotLHTq3L0KnUvJtHYH8O/+3b/Dt771l/jN3/xN9bMdHR2r3tG5lNzf4d/8m3+DP/qr38eL/+9HULulAiYr33nZKLGkCbFU5t9/NFCJkWCF+phKTNqAdEJb2m1Owm9B3G/NfkZEhUIKkWtRjDQmjLDPW7RbvvlIlJMypxGpiGu3kkZaGSmWyiKiwmIpj8Fcfnt/R4MhDYP2nId2S4UtHU8iMjCJsf/z7/BPf/W3VRMXEQudOreSQqe0dktH5X/+z/9ZFTNfeuklvPrqq6pwudp7dC4l93f4V//qX+H3/uz/wMu/exh12yphtvKdl40y7K/EcKBKfSwFTyl8UulJJ4yIztqR0m5vSRqQTvG5SVRoLPOZterSBhi15z14hkh0m/aUSJkervARr8gsIiosBmMKkOd3ltGcgq0mAsNDvLFB6yMdTyDcP4nR/98P8U///m+x0EkKr1xLkBQZZdq6dGXKgCC73a6i7bKkq1MGFcXjMoF9WO3vmSNTzHw+PyYmJtSemm1tbepnVkIKpbJvRqZb1KAdXGSqvBxk5GOu9VpzMRf6/LVqTUbcCCZtasXT5kW/n6s4F9JGJALa733ejrjfjlTcgnTCfHtJ+4nsocvFxbVuyxQxwDp372UOGmGMr8GSTk4WOYnupD0n5Lmx6HNmmUues4s9l/OXPPcXe03g4uJauyXnuvnnvnIuLOfEcm4s58hyrrzYOTTXxi/kbonysNCpQwl51yIcUUummkvhUvbelD05Zd/LuPZ16ZaUr8kwINlPM6J9r3w9HA6rIUW9vTcxPDyiPpeOzMrKSlW0bG1tRXNzsypkXr58Cf39faogKt83OTGJvr4+7c+cg9vtxubNm9W+nqQv0qkZiNvUmgyX4+Z8rVqyLyeVEO2CLaVddKViRiSjZsR9NsS82gmdz4q0dHIR0dqSoklcW7HFlzlggNVz72UKZ/8sItIFec4u9lzOX/LcX+w1IX9x/1yitSXnwnJOnDk3tqlzZTlnzi2eKxMVNhY6dWhuzov+mwNqzXm8qqA5OzuL4aERDA4Mq0KkFDxlirpMPD927H309w9iZHQUvb29+OCDD/EHf/D7OHPmtCpyHjhwQBU4c7q6utSgIZmU/vrrr6thQr09ffjpT3+K7373O6oIumXLFrWkG5T0ZTJUjgszTWrJx1SaJJoe89gRmXaq2zui6kS05owJwDpjgH1i8WUOZL+RiEqKPPcXe03IX3x9IFo/+efMuZUIWrJfJaJCxD06dSQWi2Fqagpv/+xtvPfeB+q+M2dO4dr1a2p/zdbWNrS2tGLb9m14/PHHUVdXiz/4gz/A7KwHNpsdiUQcqVRS/Tkyeb2urh779+/HF7/4BdTX16s/T9y4cQMffvghfvSjH0Ei5rW1dUglU5if9yKRTGDXrt148cUXceTIk9mfWDnZY/Q//el/wCv/6lHUb6vkMKI1JJ2cUtic0Ba7N0uTvPssJ2ZyK3tu5j4morUh3VtLdV0atOeeFCvYmUVEDyrpkLX4JZyaDl+WuSWitWFSU9oTmY8dyVsf0/pLxROI9E9i5P/4AffopFvYwqMjuc7Nq9eu4oMP31MrEo2gs7MTfr8fV69ewYcffYCLFy9genpK/YzZbMbU1CROnjyOd989qt2exMjICNrb2/GpT30KX//611FTU6O+N2fr1q1qONHHPvYxlJWVqT/vo+MfYt43r4YdffnLX1FdoFT4UmkDQgmLiql7Yw4M+qtY5CwhUsTMj9kwok60eqRAuVikNH/dK34uQ4RY5CSilbhXBN7ilX0+F39NurVkuDRbXYhWLBkxq/NpWdI4kH++LVtD8flFtLHY0akjsu9mJBJRA4Jkn83FyIAfp9Op9tx0OByqc1P215QiaTKZVB2aUvyUyHl5eblaMhBI7s8n3y//O7I/p+ztKT8rkXWXy6WGFcl+nplBQg+HHZ1rS4qcN+bq1a0UPSPJzC2VBilmxv15A8O0372KqPNVn+ihZSae3/v1VAqZLGYS0brSXpZS5sztUlIWIFabVrdE9HAMprS2bk9nl4nt1uoIjBZObF8P7OikxbDQSRuKhc7Vl4uox1ImbZkzH2v3UWmQd5iT4czvW32sLSJ6cFKgvFe03BTmMCAi0qfb8falLwMZgSdaGSl8ml1xGIy3C52Mt68dFjppMYyuExURKWjmIuoySX3YX8kiZwnIj6hLfCYXpWGRk+jepIi5aKxTWxL9lAjoYtFQWSxyEpFeyWufdKUv9tqWW4zAE62MnJfnJrYvFm/n1lFEa4+FTqIiIt2bN+bqVESdSoecPHEKJNGDu9d0Y5mILpPRiYhKkbz+yevgYq+PucXXSaLl4bk60fpioZNI5zwRJ27O16glE9VDCSv34SwBahP0OZtamXeJTWrxXWKijMywjnsvGRa0aJeSLHYqEVEp017/5HVw0dfH7Lrd+b74a6wsDl4jyqWvMufqct6eO4eXxQGhRKuPhU4iHZI4ukxSlzUZLlcxdVmcqF6ktIsNmeCYi7wwok6kuc9F+L0mnucW4+dERCvHCDzRg1PNCnmx9rjPhmTUnDnH58R2olXBQieRDklE/cJMk1ryMRU3mZQe89hvRV4YeyHSTmDuE6uUWDoREW0sRuCJ7i3/PF9u5XMiejh8FhHpxMKIeq6jk8OGitOtjcxVpCX3Tm8m8sKIOpWKe8XP79clxKgkEVEBYASe6N5uJbdM6nxfzvvzo+1MbhE9OBY6iQqc7LcZSlgYUS8Ft050jLdPdFSkhXv3UPGRC9bFLnjz173i57zoJSIqDozAE2XcanTIi7Zn9uLPXB/weoBoeVjoJCpwkaQZN+bqGVEvAYyuUCm518Tz3GL8nIiIBCPwVKqk0Mmtq4geDK+iiQqQxNGH/ZUqpj7or4Y35mBEvUgtGVHnZuSkc7c7dBZf95x4nl3s2CQiIoUReCpRcq2Q27pKDSPNi7Uz9UW0OBY6iQpELqIu+25KYXPQX6Vi6lLwZJGzeGROVjLxE0bUSe/kYnGxi01Zty84F1+ceE5ERKtpNSLwLIJSIbvnxPbs4rUEkfZ6nr0log2Wi6jLJPUbc3Xa54wmFKP8+Akj6qR394qfM0JIRESF5n4ReG6ZQnqSv+1VbjHeTsRCJ1FBkInquYi6ARVwW+pQbnbCauSUvWKg3n3NRkzk5CMXP2FEnQrZvSae59Y94+ccCkFERIXmPhH4zBC8xY95jL1TwdEez7mJ7bmVH2/nxHYqVSx0Em0QiaNLTF2WTFQf8VcilbKgzVmNR6o7sKeqBa3OSjhMVhgNjCDoTX5EXZ1wZCMmPOGggrGsi717L8bPiYiomGTe5Fv8mLdk7J1v7FEByY+3Zxosbsfa2WBBpYKFTqINIlPUJaYuSz42GYxwW+x4qn4LfmvbC/jGrlfxhfZD2OKuh83ICILeyIkFIyRUyBjfIyIiWr6ljpvcqoUKVf71iCxumUWlgo9yonUkEXWZpC5rIlR+q6NTujudZisOVndgV0UzWpxVaHfV4PG6bnyu9SA+Xrcb3c4GWAxGsLezcC0VUeem4LSRbg9nuHNxIAMREdEDWCIJsdi0dyYeqBBkEma3Y+23hqBq1yocgkrFjIVOojW2MKIuk9RlzUWd2e/IsBjNaHVWw2W2IZSIIZVOY3N5PV5p2oNPNx3AY9XdaHFUMcpeKG7tiXN7SXGTEXXaaFKgXPwC7M7FvcaIiIge3u03FG8fY5faw5rHXdpIUtiUAqdcq3BiOxUzFjqJ1tjCiPpSfPEw3hi/jJ9NXMW1+XFEkrLhD+CwWLC7rhGfaduPr7U9gU5XDRwmRqE3GqccUqFaOAmdkToiIqL1tfBYnFvcFoYKBa9lqJix0Em0RqSTc9hfeVdEfSmJVBJTER9Ozvbjh6Pn8e7UDQwHPap702W1or28Co/Vd+GrnY/huYbtaHVWwWJc+s+j1XfrXVAV98i9C3o7DsJ3QWm93e4iub3u6iLhkAQiIqJ1tTBdkVtLTXVn1J3W3a102u1rGZVOy27DxXQa6RkLnUSrKJU2IJSwqKKmN+bAoL/qroj6UqQOEU+n0OOfUp2dPxm9iDOeQUyG5xFPJVWxc1NFDT7bfgCfbNmn9vNssLthZ3fn2sqLqN/a10bFPbivDa0j7XF4733Bbi9eLBERERWmpaa6801KKgSc2E7FgoVOolUUSZpxY65exdRvzNVpn6+sCCl7dJ7yDODbAyfwZ/0fwRO9M+eyr7oNX9v0GD7etBMdrprsvbQW8mMdnFRIG4WTXomIiIoXt52hQiOFzvxYO6+DSE/4SCV6SLmIukxSH/RXq05O6egMJayqw3MlkukU/PEIBoIz+GC6F3/e/xHeHL+CoeAsYqkEysw2bCqrxfONO/Bqy148W78dVVYnTBxStCqWjKjznUxaJ5mOj9tryQnp7PggIiLSvYVR98UmuavzAQ4SpHUi10P5sfb8ie2Mt1OhY6GTaAUWi6jLJHUpeN5rH84HFUzE0OefVp2d3x8+g5MzAxgLeRFOxtT09f1VbWoq+2da92NfZRvq7W5YjWYYtP+jB5RmRJ02iPbYWxhLz+zhdXvxwoaIiKh03N6De8H5wCJvfPL8gNbDrUaQbLR9Ybyd10tUSFjoJFqB1YqoL0cKacRSSZz1DOFbg8fxN8PncN03mf0qUGN34XDdJvy/dr2Cz7UdRKPdzSFFK8CIOm2UxWLpnMpKREREC/GcgQpJfrxdPiYqFLySJ3pAnohz1SLqyyXFzkAiiqGgB+9P96hBRW9PXFPxdilqui12tLmq8UzDVnyh4xEcrt2kBhXR0tRm23nRC0bUab0sJ5bO7gwiIiK6y5IpkDvPLWRxOCGttfx4uxQ677y2YiqONg4LnUTLIHF0KWrKmgyXr3pEfbkiyTiu+ybw5sQV/GDkHK7Oj2MmElD3p9Jp7KxoVl2dLzbtwp6qVtTYylQhlIeYjMzBOBOvUAfjvOgFD8a0JhhLJyIiojW07Enu2cVzDloL+RPbM9dWuSYSTmyn9cdCJ9EyTIbKVUxdlny80eZiIZz1DOL/vP4Wvj98FgP+zJAiUW6x47mGbfhC+yP4dMs+1NvKYTbwqS4Yr6D1xogZERERbYSFk9x5HkLriduC0Ubio41oCRJRl0nqsiZC5bc6Ojeik3OhRCqJ+XgYN/yTeHviKv5m5CyOz/RhPDwPk8GISqsT291NeKFpB36x60k8Xb8V1VaX+lqpyY+oS3EzF69g9yatBcbSiYiIqBDI+Ub++UduLYy6M1lCayKdG/TKie20/ljoJFogN1FdIuoySV3WXNSZ/WrhkKi6TGW/ND+Kvxu7gDfGr+Di3AhmogEk0ilU21zYV9WGr256DK+27sWuymZ1XykMKloqos4DKq2We1883F68eCAiIqJCsjDqvtibsmrFtW9m3JhWgVybcWI7rScWOokWyE1UL4SI+nLJUKJjUzfwnaFT+MHwWXhjoexXMh6r7cbf3/wMHq/tKokhRYyo01pjHIyIiIiKwWLb7MiS++RrRGuB12u0lljoJNJIHF0GDElMPTdRvRAi6suVTKdUcfOGbwLvTF7HXw2cwEdTfZgLh5BMpdRU9i3uBnyieS8+2bIXT9R1o9LigMmg/3fPbr1DmBeFyLxDyIg6rQ7pyJTOzPyYFzf4JyIioqKwyOBEWdLlKd2e+ec/nOROqyWTwOPEdlobLHRSycpF1GXfTSlsDvqrVEx9oyaqrwYZUnTZO4q/HjyJn4xcwhXPBGbCQUSTCZSZbThSvxmfat2HTzTvwY6KJlRby9SgIt0dRm7t+WK8vedLXhSCEXV6GAtj6bdP9G8vnugTERFRMbv9Ru/t8x++0Utr4Z4T2xlvpxVgoZNKVi6iLpPUb8zVaZ8XR8u8dHf6JMo+cx3/deA9HBu9iTG/L/tVoNFRgSfrNuNXNj+NZxq2qm5PvQ0p4hQ/WksLY+mMbhERERFx6x5aH/nXeoy300qwOkAlZbGIunR0hhJW1eFZDGTPcBlGNBcP4pp/HK9PXcTfjp3H+1O9CCSisBrNaijR9oomvNy8G1/qeBS7KltQZS28gUv58iPqt9/lM6nOTm6UTiu1rFg6N+MnIiIiuiv1kluc5E6r6lZ6LxNtXxhvZ3qP7oeFTioZUuQsloj6ciTTacwnQjjh7cWPJ86ryezX58fhiQbVxHbp5Hystgtf7jyM5xq2YVt5E6otZYXV3blERJ37ttBKLTxBZyydiIiI6OFwkjuttfx4e2YeQzbSHmfjC92NhU4qGTJFvZgi6g9iMuLDh9O9+E/X38KPxy5iJhpAIpVSX6u0OvGZtgP4evuTeLluHyrMhdPZyYg6rTbG0omIiIjWFie501qSQuetWPuUdp04p10nJnmdSLfx0UBFzRNxqpi6rIlQeVFF1B9EPJVUg4pkKvvPJq7iB8NncdE7oro7ZRhRra0Mu6qa8ELzNnyu5SD2V7bDZbbCuM5T2dU7ddlIAiPq9LAYSyciIiLaANq51XInucti1J0eRP7EdrlGTEszDM/nKQ8LnVR0JI4u+27KmgyXq5i6rLloYe9BudYkrh5MxHDeM4S/GT6LoxPXcc03Dm8spAYY1Tpd2F/Xip9rewQfb9iJre5GtW+nxbi28f7MgSoTPVB7r2QjCYyo04NiLJ2IiIiocN1+E/rO87PFou4sfBLRSrHQSUVHIuoySV2WfEx3kkFFU1E/fjh6Ht8dOo13Jq/DH9fOLDQWoxENZeV4tX0vfmfbx/BE3WY02N3qa2slP3ogHxOtFGPpRERERPqzWNSdk9yJaKVY6KSisDCinuvoLOZhQyslXf0SZZ+NBnBxbgRvjF/G94fP4Mr8GAwGA6wmE2psLmyraMKrzXvxXMN2bHM3wm5avSJkfkQ9s5l0JnrA7k1ajsyG93cvxtKJiIiIdGiRqPvCSe65xXQOEd0PC52ka7LfZihhYUR9hWRI0YmZfnx38DTenbyB4aAHvnhEFULLzDYcqd+MF5t3abdb0OmqRbnFrr1orKwYuVREXYqeREta8sT37sUTXyIiIqLisHCSe27xjW0iuh8WOknXIkkzbszVM6L+EKSoORHxqa7Of3/5Jzgx3Y/ZSDD7VWCbuwGfbzuIX+56Coeru2A1mlZU7GREnVaCUSYiIiIiyuFWRUR0Pyx0ku5IHH3YX6li6oP+anhjDkbUH0Ja+79YKoGpiA/nvcP4wcg5/GT8Is7NDSOcjMFhsqLJUYED1e34TNt+fKXzMLrK69RU9qVI96YMEsqfoM6IOi3Hwlg6N6cnIiIiopylh08uOIfkJHeiksVCJ+lCLqIu+25KYXPQX6Vi6lLwZJFzdSTTaczFQjg6dQ1/N3oBb09cxU3/tBpUJJPXG51uPNe4DT+/6XE8Wbf5VpTdZMi+jKS131M8E01PRs2I+2x3TFBnRJ3usoxYOk9SiaigyetYLA1TVD9L/r7y9yYiKgZynrjcSe5qMepOVPQMqVSKT3PaMN/85jfxn/70P+CVf/Uo6rdVwmRdvGgpRU6JqMutFD0jycwtrQ0ZPFRtc2FnRTM+1bIPzzduz34lE3X3RAP4aKYPb09cwynPgCqGSpEz5rEjlTBqJw+G7G32h4gWISeaKm4kJ5xZcrLKwiYR6YUUDZ3TSe11TD8HvJTFgFCdCSkrz6OIqIhpL3Ep6bNY8FKXsgCx2rS6Jf1LJxKIjY5h+s+/hX/+G7+J1157LfsVKmUm7YHwu9mPidbd0aNHceL8R9j8fAtctXYYTXc3GctE9dFgJWYjLoQTFsRTJqRXOBCHlieRTiGcjGM+HkYoEUUoHoMNVliNZtjNFpRZ7HCZbaiwOGHWzhJCQWBmLoFk2KIdbIxIp/j7obtJLN3iz9xmlgHmENS+SrkCp4HFcSJaA+ZQCtb5lHabXtVl0f5cSzCV6U7XXsP0sbSzqJT2GhxZ/L9prZYpJoUF7fzAyHMEIlof8lp36xwzt+Q+7VrFFNVejmJAWgqezLnqVyqFpN+P0MVLePrQo3juueeyX6BSxo5O2lBLdXRKHD2m3oIDhgOVKqJOG0P24mx31uAzTQexr7oNbe4qdZ9E1oOxGC5NT+Dvenvws/4+zEejiCYSSGgHHCpx2pFFbQyfd4SxzGei6ERE92JIpld9sITNm9QWj00bSXWS1psyxc4NIKeVaROLrER022LdnWntclQW6QM7OmkxLHTShlqq0CmFTSlwCil4ch/OjWM0GFQnZ6XFicO1XXi2Yau6dVvsSKXTCMfjGPDO4dzEOH5yswfXPbOYDYWyP02lirF0IlqptShKGhNpvv5sNIMUGw1Ib1DnVLTSqC2eTxJRHvW6lLnNiVektZX9hAoeC520GBY6aUPlFzrNHc3wpcvU/RJXn4s61cdUOJqMddhmb8ORpi4cbGjB5upqdb90dk6Hgrg0NYUPRoZwYnQEo34fYkleVRY7KRyYA5nbfIakYdH7iai4SCRcYsmryRJe/T+TKOE0IO5Yvypr2gzEyo3sIiXSmaRDVuYYlPlYfUgFioVOWgz36KQNJXt0fnTuOFqf6YTX0YChYK0qcMqwISoM6aQhs++mduuZS2F4MgJPOAyb2Ywah0NF2O3ax9UOJ7bW1Ko9PCW+HozHVaGTxc7iIoXL/D01TbHMlEtz0KD23Ly1otrXWacgKigSCTet8l6SNl8Kdu3YYAmnV23ld4ITrRZ5XC32eFurJcfHpM2gjoWLPXdkyV6BadmzlLVQooIh57m581nZU1j28Myd92aes9o38TlbOLhHJy2ChU7aUFLofPfMKaQP7kPEVYOUMbMvJxWORMCK2JwdiZAFqagZCe1CeS4cwcD8nIqsS7Gz3GqFw5IpTldrn3dXV6PO5YA/FsWwz6fup+Igw4Rss9KtmVmmkGHV99IjorUhRUnHTBLWQGrVljmS5psaRIuQ54VZip7BxZ87suT5k7Ab2PVJVKDkHNesnevmznuNUQNSdnAPz0LCQictgoVO2lBS6Dx25iSch3fCUFkOwyJT12ljSAenFDkTwUyBM53Ufjdp7WRc+1o8lVQdm9LZKftxxrUDjNNqgdOSWWVWKyrtdpRZbHCaLZnuTu1nkhxSpCvyzrUUNmUyem5SupzsqW7NvHe2iWj9PMz0cGswU1hZrLNspYtFTqKlyTFysefN7XX/CficVk+0ceQYd+ucV5b2fDVkJ7bnzo2FmtxOG4OFTloEq0pEdJt2ME/FjUjFjEhGzYj7bEhGFu+ylXi67MP5w57r2rqGD0eGMDQ/j0AsBpvJjE2V1Xixqxtf3b0Hj7e2or2iAi6LVQ03ogKmPQYk3meMyYUXYPEaVDQ9t3IndES0+lS0PHrvZfWn4JhNrmhJ0YSICocUTmTw1mLP19yye1KqM3Sx14PcMsa05zaf3kRrTp6zlvnMtk25pTo9tfNmWfJ1Itp4LHQS0S2phBExjx2Raae6lc+X48LkJP70/HltncX5yYnsvYDbZsee+kb8w8NP4Ou792F3fT0cZr7lWcgkoiPT0u0T2smbTE1nLJ1o3UgR0zWeuOeS7yGi0mFMpOGcSi76epBbzukkjHFWOok2ggzflPNmWfIxEW08FjqJSpxE1OM+2YfTlungjJqRiplUZ+dyuwOki3Nw3osPR4bxtz3X8aMb19X+nZGEdgJutaLVXYEnW9vx2W078HR7h/a5O/uTVAhuvzud6eCUTk71zrQMBOF1E9Gqk/i5fSZ515Ii5mLdWvmL3SJEJUY7DksRc7HXg9wyh2Uo2N2vKfnL5k1qrx88qBOtNjku5zo6pbtTzqdzS86vedwmWn8sdBKVMCly5iLqMa9dFTzlvpWQ6er93jm82X8T3758Ae8PDapiZzAWQyqdxubqarzSvQWvbtmKQ00taCorh8XIl6ANoy6cMidl+RF1npARrZ6louhLxc8ZLSeilZDj9sNG4FkEJXp4ssVTfqydDQREG4NVBqISJoOGHiSivhzzkQjOT03iD86cxF9dvYRL0xMIx+XIDpTZrHiqrQO/vO8A/v7+g6h1utT9tP4YUSdae0tF0Rk/J6L1dr8IPF+XiFYfz7eJNgYLnUQlKBdXVxPVHyCivhyJVEp1cY75/fhweBjfu3YVbw30YcDrhclgRIXdjq6qajzd0YlfO3gIH9vUhRqnE2Z2d64bebeZ7zATrZ4HjaKza5qI1p12nL9XBF5erxZ7HZPXNyJaIfW8y5xv305QMdJOtNZYWSAqFdqBdrkT1VfLzTkPfnKzFz+8fg0nxkYwHvAjnkqpfTs3V9fgl/YdwM9t34X9DY1oLCvjoKI1JCdTqqipLdk/iCdYRA+OUXQiKlbyerXY69hSb9jI4rR3ouWT8+7MnviMtBOtNRY6iUrESieqP6xQLIaT46P4y0sX8F/PncVMKJj9SsaTbe347Ucfx89t34ktNTXZe2m1cSIk0cOTC35GPomolCz1uieL096JVoaRdqK1xUInUQmQzs2VTlR/WMl0Gv5oFH1zHhwd6sf/feYUftrfg4mQD/FUEm6bTRU4X9jUhVe6N+PJtjaUWa3Zn6aHkdkQPbOkizPX0clOTqJ7YxSdiChDXt8We92Tdb9p74y9Ey1Buw5jpJ1o7bDQSVTMtIOoFDVlL86Hmai+GgKxGG7MzuK/nj+L71y7hDOToyrKHk7EVWR9T30jXurejE9v3aZ93IB6lws2kwkGw8b9nXUre/Ikxc3c1EcpehLRnRhFJyJaOSnI3Gva+9JvDvG1lChHnkeMtBOtLhY6iYpYLq4uhc5CcmJ4DP/XydP4wfVr6PXMZu8FmsvdeHHTFvzr5z+Or+3eiybtcyuHFD2wXByGEXWie1sqkin3ExHRw+FrLNGDYaSdaHWwgkBUpPLj6hvZybkYibL3zs7hrf4+NZX9J7098Gn32UxmVDkc2FRZhRc6u/Dlnbuxv7EZtU5n9idpKbffDc7EX+TdYEZfiG6TDiKb985Y5dLdRtkfIiKiFZPX0sVeY+W1N/+1OH/J6zQ7PqlkZVNZjLQTPRwWOomKiBQ0Zaq6rEKIq9+LRNYvTE7gRz3X8ddXLuHc5DimgkHEkkmk02nsrm/AF3bswse7urGrrkEVO83s7rzToidDnKhOJU6eF7G7L6zN4TTsnjsjloyiExGtv6UmvMuS12l5vV74Gp5bLIJSqZBzeUbaiVaGVQOiIiLFTZmqLqvQ4upLmY9EcHp8FN88+ja+ffkCJgN+xFOZSFOl3Y7PbN2OX9y3T+3dKZ/TbYy3EN1NJgDLJOCFUUnnVFJ7jvDKgIiokMnrtLxeL3wNzy3G3qkU8Zyf6MGw0ElUBKRrU7o3pbippqprq1A7ORdKpFLwx2IY8Gai7H956QKODQ1g1OdTHZzSybm7rgEvdm3Gl3bswqPNLWpSu6nEhxTJcCG+u0ulbLEoulpzSTUJeGEXkBRA+RwhIipw2uu0vF4vfA3PraVi75zwTkVNPS8y5/yMtBPdHwudRDonBU3Zh1PtxxkxZ+/Vp4tTk/j2lUv44Y1rODsxjplQSBVCa50uHGhsxld27cEnurdgZ209apxOWE2m7E+WBjmRUUVNbclEdZ7cUEmQk/tlRtFlyQRgPi+IiIrTUrH3pfZcliXHEL7RRcWCkXai+2Ohk0jnpItTJqvLhPVi4I/GcGxoEN+5egk/uHEN3oh29NZYjEY0lJXjU1u3439+/Ek839mFlnK3+lqpkCnqElmRxYnqVCoYRSciovuRQufC40RuyTFEdfUTFRlG2okWx0InkU7dEVePa0/lIjl/S6ZTqrh5dWYab/T1qij7B8ND2n1hFVeXTs7ttXX45JZtat/OJ9vaUGa1Zn+6+EhEXaIpsqSLM9fRyY41KjaMohMR0UrJedHC40RuyTFEjiV3HV+yi7F30i3tPIiRdqK7sdBJpCfawUyKmjJVvVji6kuR2PrZ8TFV6Pzbnuu4ODmp7osmE6qweaStHZ/Ztl0VPLfV1KLCZsv+ZJHInrhIcVOiKbKk6ElULKSweeeFKKPoRES0+uQYIseShceX3Foq9s4J76Qn8jhnpJ0og4VOIh2ReLrE1GWqejHF1Zci+3N6wiG8frMX//nUcbw92Icxvy/7VaC53I3nO7rw24cew5G2juy9xSEXRWFEnYrVwpgho+hERLQRloq9y/1EesRIO5U6FjqJdEI6N1UHZ9ScmaxeRHH1pch/XjyVwlwkjOuzM6qz8wfXr+H94SEEYjHYTGY1lX1PQwM+v30nfmnfAWytqdFtlP32O7GZ6Im8E8tONtI7iQQuFhVc2EHDKDoREW0EOdfKPx7llhynFjt+MepOBU87n2KknUoZC51EhU47UElRU/bilD05ZW/OUiSFzQ+Gh/HDG9dVwfPG7Aw84TCS6TQq7Q68sKkLv3bwEJ5t34Tm8vLsT+mHOsm+dSLCieqkPwuj6PkXiotFBWVyLhERUaFazoR3xtup0Mn1BCPtVGpY6CQqcLm4uhQ6CRj1+3B0sB+/f+oEftJ7A5MBv+r6FLVOF35p/wE80dquPtcTiagzWkJ6Jhd+jP4REVGxyz/e8RhHesJIO5UKFjqJClh+XL1UOzkXiiWTaijR+akJDM171efpdObtSPkXsplMsBj18dJ210R1vrNKOrDcKPrtbpfsDxIRERUBlcLJHuPk2Jd/LLR5k+zypMKlPTQZaadSwEInUYGRgqZMVZdV6nH1e5F/EbPRCKvJBIMh8+8TSSRwZWoK436/+rwQyUmEiotoixPVqZAxik5ERHRvC+Ptdk8K5vCdx00WPqkQMdJOxYyFTqICI8VNmaoui3H1xVXa7fj01m14qqMDDWXltzo4Z0JB/PG5M3hveEh9Xogkoi5xEVmcqE6FLD+al78Y0yMiIlqcMZGGcyrJ4ybpCiPtVGxY6CQqENK1Kd2bUtxUU9W1xU7Ou7W63XiitQ3PdmzC5qqaWx2dl6Ym1aAimc4+H41kv7tw5N41VRH1bEcnIyJUCBhFJyIiWiUqGnzncVOOp/nHV8bbqeCox23m+oSRdioGLHTqiOxDGI1GMTMzg4GBAfT09ODq1au4ceMGZmdn1dcWEwwGMT4+jt7eXvX9sm7evKn+nFgsdmt/w3yJRALT09Pqf+f69eu4cuWK+vmxsTFEIhGkssNfaHVIQVP24VT7cUbM2Xspn9FggMtixe66BrzYtRl76xvV8KGE9liUPTvfHx7C969fhTdSQBnwRU4aGFGnDSWPydjdF2D5sbvcYhSdiIjo4THeTnrCSDsVA0MqleLDVSekkDkyNIZ3jx3FsffexejoKLxeL9xuN37hF34BR44cQXd3d/a7bzt+/DjefPNNnDhxAhMTE0gmk+jo6MCrn/wkXn75ZdTX1cFqtWa/O0OKnN/97nfVz0hB1e/3o6WlBYcOHcJXvvI1dHZ2wOl0ZL975b75zW/i3/7x76H1H30G9k0NMFpKs8gnnZxS5JQJ6zyALE4VOevr8dltO/BK9xaU2awwGYyqyPmDG9fwVt9NnJ0YQyyVWrR4vxHkhEDFP7InBioGwt8vbSApcjqnk9pj8vYDUWJ2fLeeiIhonRiAlNmAdF7LUbTSqC1T9jOiAqEeq9lbCxCrTavbQpJOJBAbHcP0n38L//w3fhOvvfZa9itUytjRqSNSoJz3z6sOTaPRiNbWVsTj8SU7OkOhEM6cOYPXX38dR48eRUVFBQ4cOIBHHnlEdWS+/957+M5f/7UqluaTP+/HP/4x3nrrLQQCAezZsxePP/YE3OVuXL58Bd/+9rdw9uzZ7HfTw7gjrh5nkXMpZVYruqqq8OqWbXikqQUVdrsqco76fPhodBjvDvajd057DuRNYN8ot98FzXZw8l1Q2kB3xdLnkjCH74yks8hJRES0jrTzQcbbSRfUYzVzLcNIO+kJC506YzIZ0NTciMOHD+Nzn/scdu/enf3K3aQL8+2338YHH3wAj8eD559/Hr/6a7+GX/8H/wBPPPGE6gj9q7/6KwwODqo4es6FCxfw/e9/HyMjI9i2bRt++Zd/Cb/1W7+Nj3/8JVitFvW1jz76UBVSGWFfAe2AIUVNmarOuPq9yd6bNpMJ7RWVeLylDR/b1IXN1dVIpdMIxmK4ND2JN/t6cXFqUnV2bjQ54N8+CTDwJIA2RP609IWxdJs3xcckERFRgblXvF3SGHyznDaanD8y0k56wUKnjtjtdmzZsgUvvPACPv/5z+OZZ55RXZ1LkULnsWPH1M998YtfxNNPP40dO3Zgx/bt+MVf/EXs3btXRdmlENrf35/9KaCvr0/t4/niiy+qaPuuXbuweUsXXnr5RXzhC19UXaQSZ5eVXyCl5ZF4esxjV1PV5VbF1WlRVqMRTeVuvLp5K35p/wG1J6cIa4/BS9MTODrYj2NDg/BHtaNsAZAp6pxUSBtNipuc9EpERKRf+dPbF245Q7TROKWdCh0rLDoicXWn04mqqirU1dWpKLrNZst+9U7SbSn7bA4PD6OsrBwH9h9EfV09XNrPy5/R2NiI9vZ2VFdXq8FEMqxIBhNJF6cMHJJi5q5du7FpUxdcLhccDgcaGhrQ1dWl/UwVfD6fGk601ACk+5FO0FAorP1vyltApUM6N1UHZ9ScmazOuPqSJK7eXV2DL+7YhafbO9CkPY4t2nNAOjkHvHP4u54enNIeq95IBMn0xhVzZLiQRDhkqYnqfFeTNkB+RF2Km7mOTnZvEhER6ZB2LpmLt8uWM7L1TH60XY77RBtGPT61xUg7FSgWOotUMBjC9Mys6uqUvTU7O7tgXVAUlWJpW1sbpqamMDc3pwqdEmOXmLvFYkVra5sqquZIbN3tLldFUimEShFVfuZeZHq7/HnSMXr58uVb69KlSzh79pwqsJYE7WAgRU3Zi1P25JS9OWlx8i8jBc02dwWOtLbjc9t3YHd9g9p7M5ZMYtg3jxOjI3irvw8357Qj6kbJHuCluCkRDlmcqE7rQh5795iczmnpRERExUMKR7L1TH60Pf9NTVmMt9NGYaSdChELnUUqkUgiFolDhuo7nA5UVlXAZLpzkp90dlZWVqquTClYSpdlOCxdljHte40oL3fBbr+zOGo2m9XPyO1y9uiUzk8ZbCTT1b/61a/eWl//+tfxq7/69/GjH/0w+53FLRdXl0In3ZvZaES1w4kXuzbfEVePa4+1yYAfP+65gT8+dwYzoaC6f6PkIhsSVydaT9LhITG2XDydEXUiIqLSIsf9/PMAxtupEDDSToWChc4ilU6ltZW58JXIuxQmDQuaCKXwKfdLsTJXsJRb6ZyTITDydfnZhSwWi/q6TIG/H4nWy76izz33nNonNLe+8IUv4DOf+Qy2bt2a/c7ilR9XZyfnvdm0x2NbRQW+tHM3nuvcdEdcvW/Og+9cuYyjQwMYD/hV4XO93X7HUrvNvmPJeAatBxkwJBNYVWSNk9OJiIhKmhz3888DGG+ngpCWN+S1xUg7bTAWOouUwWjQVubXK8VLiZCnF7zJJ4VKuV+KmbmCptxKEVOKnfL1xTo2JbYuX1/YIboY2d9TJsT/8i//Ml577bVb61/+y3+Jf/bP/hmOHHkq+53FRQqaMlVdFuPqy9dYVobHWtrw5V27sa+h8Y64+ofDQ/jutStqwvq6WvSAzYnqtA7ksZeNqMvkVZnAKnE1Tk4nIiKifHJewHg7FRJ5TDLSThuFhc4iZTabYLVbYDQaEA6F4Z2bv6sDU6LnXq9XdV1arVZV5JShQ/JxMpmC3x9EJHLnsCEpjMrPyK1E3xfr+FwO+bny8rK7ovHFQoqbMlVdFuPqy/dcxyb85qHDqC+guDojGLRR8iPqMnlVJrASERERLQfj7VQoeD1F642FziLlcjlRV1uD8vJy+Pw+DAz2Ixa7s2gpU9llynp9fb0aOiQFzo6ODjWJPR6XCezDakhRjkxI9/n8mJiYUPF1GWQkP7MS94rG65l0bUr3phQ31VR1bbGT8/4qbHZ8cvNWPNXWgZZyNyzaY6MQ4uoyXIjvQNJ6Wiqiri5M+NgjIiKiZZKOuvyOzvx4u5xryDkH0brQHmqMtNN6YqFThxLxBMLhiFqZSHpaxcllqJB0YMa1r9vt9ltT1f1+H86ePa2mq0sXpywpVsrU9NnZWXR3d6tJ6lK0bG1tRXNzsypkXr58Cf39fQgGg2pI0eTEJPr6+uDxzMHtdmPz5s2qG5QypKAp+3Cq/Tgj5uy9dD9O7bHWWVmJL+zYif3a43Cj4+pysFVFTW3JRHUegGktyUXGnRchjKgTERHR6pNzily8Xc415Jwj/xyEhU9aD/I4ZKSd1hoLnTo0N+dF/80BteY8mRi5FCyHh0YwODCsCpFS8JRuzqefflr7OILvfOc7OHbsGK5cvYqr167hT//0T3HhwgVV4HzyySexadOm7J8OdHV1YceOHXjjjTfw+uuv4/Lly+jt6cNPf/pTfPe731FFUBkwJEsKqpQhXZwyWV0mrNPybamuwQuburC5uhZum33D4+oyRV1iFbI4UZ3W2l2xMkbUiYiIaI3JuYacc+Sfg8g5CdF6YqSd1orptdde+93sx1TgYrEYxsfH8eYbb+Cv//o7OH78OE6dOoGxsTFVzBwYHETPjRuYmZlW+2c2NTWpzkvpxpRuTlmXLl3CmdOnce36ddTX1eH5F17AU089hcrKyuz/iuzvaVZDhKTrUwqoN2704IT2v3X16hVVVH3mmWfx7LPPoru7S0XQH8bRo0fx3tmTcD++DeaqMhhM+isSSidnInA7rk4P5qn2Dnx663a0ao9Vmbo+Gw6puPo7g/24OedBKr32RR8VUfdnbs0hA0zRzLuNBtabaA3IFFTrfEq7TcMa1G4jaRi1x5ssA68xiIiIaB3IOUfu/EOdg2jnvdJVJ+cnskyxNFIW7VrPyG24aO3I41Bdd8ltKnMdJh2eaRlzsZzSQCqFpN+P0MVLePrQo3juueeyX6BSxtYzHcl1bl69dhUffPieWpFoBJ2dnfBrT24pRH740Qe4ePECpqenVLHzwIEDeOWVV9QTXr7n7NmzOHXqlHa8MuDIkSP40pe+pPbnzLd161a8+uqr+NjHPoaysjL15310/EPM++axc+dOfPnLX1F/bknTTgRS8cxUdcbVV0Yegy6LFV3a429vQyMcFguiyQTGtMfpj3qur09cPXdCF8hMUpclxU6i1ZYfUZeOidxEVLmQICIiItpock6SOz9hvJ3WGyPttJoMqVSKDxud0H5XqnNTBgTJ5PPFyIAfKXBKh6Z0cwrZY9Pn86lb2ctTyH6cFRUV6nskir6wM1OKqvK/Iz8je3/KxHb5Pun0lGFF8vOrMUjom9/8Jv7tH/8eWv/RZ2Df1ACjRR/FQily3oqppw3Z2+wXaVmkyLm7vh5f3b0Xn9m6Xd3X7/Xg/eFB/OHpU6rgudbkwCkxCTmQysGVaK3Ipv+yL5aQuBgfb0RERFTQtMvDlNmAdN4lX7TSqC0m2GiNqcde9tYCxGqluzjzpYXSiQRio2OY/vNv4Z//xm/itddey36FShkLnbSh9FjolM5NianL4kT1lat3ufDlHbvxsa5u1dEpJK7+N9ev4t3BAXgjEXXfapMCk+y9qSIS2u8v9zHRapFuB+naNOTtM2QJZ6LqRERERHqVcBoQd9yufKa1S7dYuRFpE6+JaG2kTdrjrkxu03kfZ7+oYaGTFvPwLXlEpSKd6eSUAmfcZ2WR8yGYjUZU2uzY39ik9ubMTVof9HpxYXIS4Wzn8WqTgqZ0b0ocQsUiOFGdVov2+mCMZWJd+ZPTc4tFTiIiItK7e8Xb5TyICTdabXKtxkg7PSgWOomWSeLpEleXQic9nEq7He2VlWiT7RPyJq0Pz3sx7vchpn2+FqR7kxP9aC0Y42k4pzPTSzk5nYiIiEpB/vR2OQ+S8yGitcIp7bRcLHQSLYPE1dXAoaiZnZyroKXcjX0NjarIKd2doXgc5yYn0O/1IppMqg7P1SLDhayezJKhQ3z3j1aLRNRl7037jLbmkjCHU5mOBjnJ52OMiIiIip12viPnPZlES0qdD6nzouwyh9ameYFKlHq8aSuWl9LzGmENmNXEdqIcFjqJliAFTZmqLotx9dUhQ69sJpOatP5IUxNclkx3rBQ6T42NYnB+8SFbD0oiDirSoC1OVKfVkj85PXNCfzuiLoOGuA0CERERlSo5D5Lzofxou+xZnn/uxHg7rZZcpN3mNcESNMHI63TKw0In0RKkuBmZdqrFuPrqsBqNaCp3Y2ddPXbXNcKRLXSGE3Fcmp7CmN+nPn9YElGXSIMs+ZhoNcjJukSzcosRdSIiIqKl3XXuxHg7Ea0DFjqJFpCuTenelOJmKmZSi52cq8NqNqOrskpF111WK4yGzL9rKp1GMBZTsfWHkXtnT0XUsx2d7LKjhyGRq1z86q6uBEbUiYiIiJYk5+H5506MtxPRemChkyiPFDRlH061H2fEnL2XVovZYFCDiJzZTs5VkdZeyBbs1cKIOj2M/Ii6FDdz8StOTiciIiJaOcbbiWg9sNBJlEe6OGWyukxYp9UXTiRwWUXU/dl7Hh6n79Fqy49ZycdEREREtDbyz7sYbyei1cBqDpHmjrh6XHta8Ni6JuLJJMYDflXsvDg1ofbmFGVWK460t6O7qlp9fj+5iLpMUlcdnJFMRycnqtNKLRVR59YHRERERGvnXvF2mzepkjZERA+ChU4qXdoxU4qaMlWdcfX1kUyn4YtGcXFqEscGBxGIxtT9bqsNL3V1Y29Dg5rKLtPZl6JOhrIRdZmkLgVPFqPogWjPfYlF5Z9US3GTEXUiIiKijSXn9bl4u92Tgjl85zkbC59EdD8sdFLJkni6xNRlqjrj6uurZ3YW7w4NwB+Lqs9l+rpMYZdp7DKVXaazL0WmqDOiTg9D4lASi8qPSTGiTkRERFRYjAntnG2K52xE9GBY2aGSJJ2bqoMzas5MVmdcfV1JZH3E58O7gwPo9XjU9HWZwr67rgHPtHeoKHs+GS4kMXVZaqI6I+r0gOTdf4k/qXj6XFLFou7sDsh+IxEREREVBknhxO/s6JRCZ267IcbbiWgxLHRSadGOgVLUlL04ZU9O2ZuTNoZE2H/a16v26owlk0in09hSXY1nOzrRUFYOq8mUPbnJFDclpi6LE9Vp2eTxk42oS+xJ4k8Sg5I4FAubRERERPojWwzlthtivJ2IFsNCJ5WUXFxdCp20saSr89LUFK7NTGMy4Ec8lYLbZkdnZRUONDahpdx9a6K6xNWJHlR+RF1iTxJ/IiIiIqLiwXg7ES3EQieVjPy4Ojs5N14qnUYwHlPFzmNDgwjEYjAZjah1uvBy9xbsczfA4TfBHOWwIVqe/MnpauVF1KXoye0OiIiIiIqMJHgYbyeiPCx0UlGTgqZMVZfFuHph6pmbxTuDA5j0+RGLJ9T+nEfa2nGoqhnNaRcsaVP2O4nuJiet+Se1+VEmRtSJiIiISs+94u2yrRHf/CYqbix0UlGT4qZMVZfFuHphmo9E0Dc7i3P9Yxjz+LL3Attb6vDxvZvhdtqy9xDdTYqbjCkRERER0VLy4+2yrZFK+hBR0WKhk4qSdG1K96YUN9VUdW2xk7MwpYMp+MfC+ODyAPomPNl7gfa6Shza0oaWajecNhap6bb8iLoUN3MdnezeJCIiIqK75MXbZVsj2d6IkXai4sVCJxUdKWjKPpxqP86IOXsvFRIpSBljmSUT1eNTCZzvHcf1sWnMhyJIplKocbuwraUOO1rqUVfuyv4klaqlIuoSTSIiKjjpNAyxBIzRwlqGBDvfiai0yXWIbG/ESDtR8WKhk4qOdHHKZHWZsE6FSaao2ycMasnHqVQKgUgMV4an8MG1QfWxqHDY8fKuzdjVXK8+p9LFiDoR6YkhnoR1wgfrsKeglskXzv4NiYiIkXai4sRKEBWNO+Lqce2hzeNUQTFp11ZWT2ZJF2euo1PeVZVflXRx9k3O4qNrg5iZm0csFofNakZ3Sy22aKu52g2LmYOJSoF0b0qUKBdPZ0SdiDaCdD+aPUFYpvwPvmaDMIZji3ZVbuSSQueif981WMZgNPsvSURUoLSLEEbaiYoPC51UFBhXL2DqBCJT3LR6MkuKnouZmPPjwsAYbo5OwxsIwWQyorLKhc2ttdjT3gCn1QIDt1otTvI4ieVONNMqSpSLpzOiTkSr4kHj5OGYKlhapv0PvKRAWogxcVNQ+29a5O+7Fsvsiyz+77qKS36f8nslInpYjLQTFQ8WOqkoMK5euIzaNYh1JhNRvx/p6pz1h/Hm5QFcG5vJ3gtsb67Fx3d1oqbcAZORv+NiJO+mS2RIRYemkipKRES0mh44Tq59r/wMrYx0jy7677qai78jIloDjLQT6RsrBqRrjKsXNunctHgNMEUy75LejzRlhGJxXByaRM/oJOa8XiSTSVSWOdHdUoe9nc1orCrPfjcVCzVFfS6pIkPqnXM5meRzmYgewLJi5g8YJ2e34MOR38li/66runJdt4v9vlewGLcnIkV76WeknUi/WOgk3WJcvYCpk4NMXN0yv7wiZ048kcSYx4cbI5PoHR5HJBaH1WpBbVUFHt/ege7GGphNRkbYi4E8TmKZKeoSFeLem0S0qOVEzpcRMy/UODmt3K0C9yK/75Ws1Yrb83FGVDwWi7Sz2ElU2FjoJN1iXL1wPUhcfSkXhmfxw/MDmA9luivK7FY8ub0DezoaUelihL0Y5OLqnKJORPeyrMg5I8y0ClYrbs/p9kTFKRdp57krUWFjpYB0h3H1wvagcfWlzAbCuDo6i9N9Y6rDUwqbFU47NrfVYu/WJjhslux3kp7cMVE9G1dnJydRaZKY8GLx4bvWMiLnjJnTalituP1S0+0ZjSfSOZVay6WRGGMnKlQsdJLuqEKn38q4eqFRB/6VxdUXE40nMOn14/2r/eibmM3eC3Q2VeHwrjbUVrhgMZuy95IeyMlg/kR1xtWJitdyCkYSE14sPrxwMXJOerPUdPuF0XgW6In0yRzKnM9yMjtRYWKhk4hWxWrE1RcKRmM41TuCgem57D1Ac7kbh5pbsbutAXVuV/Ze0gN595sT1YlKw3IiwIz3Uqm563nBLReIdIuT2YkKFwudpCvSxRn325BO8qFbSFYrrr5QMpXCXCCMS4OTOH5jGMFIDDaTGXXuMhze3o6upmoOJipwaqK6xNS1JYVOTlQn0r/lRM6loJPfubbYYpcmlZq7Op0XmRrPeDuRTmjnswsns8t5LxFtPFaLSB+0A4nsxyn7csr+nBJfpwKgDvCrF1dfSNJciWQKV4Yn8db5HszOB5HUPnfaLDiwuRlbW+vgdto5mKgQyWMjO1FdYuqyJOZDRIVttSLnEt0lonuT59vCqfFLTX7nGwNEhUuugWRLJjnvlcKnLO7fSbRxWB0gXZDJ6jJhXQqdVDjWIq6+mHGPD+f7xjA0Mgu/bPBvNKKhrBzbm+qxq60BdisfF4WGE9WJ9ImRc6KNtdRzkM87osIn570SZZfFc2CijcNCJxU8FVf32ZCMmtnJWWiyHZ1rPVAmlkhicj6Ad68PoHfKA4PBAKvJhO2tdXhmdxcqXXYYjXxsbDROVCcqTLe6xvLisUstRs6JNtZSXdXy3Mx/rnJIF1HhkfPeXEenFDo5mZ1oY7DQSYVLOyYwrl645EAuRU75Pa0HGUz0fu8QroxOqb06U6k0Ouqq8PjWdnTWV6Hcbst+J20ETlQn2iDptJrcvFhh5NbK7QOYF49dajFyTlSY7prkrj2n5bmd/1xn4ZOocORPZmexk2h9sdBJBYtx9cImcXWJrUt8fT3EkylMzQdwfWQKVwYnEI5JlRVwO2z4+J7N2N5Spz6njSHvWnOiOtH6k4nNMrl5sajrrcXJzkRFZ7HnPuPtRIUlN5mdMXai9cVCJxUu6ehMGNnJWWCkS08GD8kAovXs6Eyn0yrCfmN8Bh9eH1JdnUINJupuwfbWelSVOTiYaB1xojrR+rtr4vkiXV0Ll3R8quluRFQ8FunmXhhvzy1OcifaINqhV86P5Tw5d87MyexEa48VASpIUtxMJUzaByxyFhK170wEsHgNMG1Q08DwzDxO3RzBxKwPkWgcVosZnQ3V2NFaj+76atgs2uOG1pactHGiOtG6yd+zb+HEc+7TR0Q5d8Xbc68TCya5880PovUl58m5c2bVHKCdR7M5gGjtsNBJBUni6hJbl45OKhzrHVdfTDSewKTHjw9O3UT/4Ez2XmBXcz1e3rUZFQ579h5aK5yoTrS+pEuL0VQiWqn81xC1uJ0F0YaR82c5j1ZJKCJaE6wiUUGRTk4ZPCSFThlExHe6CsNGxdUXk0qn4QtH8VH/CC6OT2IuHEIylUJtpQs7OhqxraUONeXO7HfTauFEdaL1Id2ZCyekS5HiVicWuzeJ6AHld4WrlRtQlvc6I4sd4kRrT86f5TxazqflvJqT2YlWHwudVDDSSSOSUTPiPhuSEXP2XioEmULnxsXVFwonErg8M42LE5MYmJlDNJGE02lDc0MFDna3oK22AgYDtz1YLZyoTrTG8vfaW2RCOiehE9FquvWGSt7rjFqc5E60LuQ8Ws6n5byak9mJVh8LnVQwGFen5ZLBRHHtxLtneAYfXhpEIJzZZL/MbsVTW1uwrakGFrORxc5VoiI2nKhOtGbumJ7MSCkRbRBOcidaf5zMTrT6WFGiDZdOGRD3W5EMmRlXL0DSxSndnIXWwSfFznGPDxf7xzExNYNQKASL2YSmmkq011WhsbIcFhNf4h5GLq6uNk3nRHWiVXOvyekcEkJEGya/uzy7pNCZ/3rFeDvRKtMO+ZzMTrS6WAWgDSf7ciak0Mm4emFRB93MvpyyP2chRpW9wQj6J2fRMzyO2Xk/jEYjnE4HGqrdKr5uNXMC+0rlx9U5UZ3o4eXvkcfJ6USkF3dNcl8k3i6Lb9IQPRxOZidaPSx0EtGiZLK6TFiXSeuFLKidXH/QN4W+GX/2HqDcYUd9RRnMJhY6V4pxdaLVlT/1mFFQItKrxeLtanHbDaJVo87DOZmdaMVY6CSiu6i4utcAU6QwOznzxZMpTMwHMR/K7NMpnDYLqlwOmI18iXsQEpPJRWYYVyd6ePkRdU5OJ6KisEi8Xa1FJrnLayARPTi5/spNZmeMnejBsQpARLeltReFAo+rL5RKpRCIxNTk9Ryb2YQymxVGI4cRLYv83mOZvYFykRnG1Yke0CIX//kRdU5OJ6JiJm/gLJzkLq+B+a+JjLcTLZ9ch8lkdjk/N0XTanEyO9HysNBJRLfoJa6eT97jjCWSSCT5budKSeemxGPkRIqIVobTiomI7pS/ZYdajLcTPTA5P3eNJ9TiuTrR8rDQSUS3ZTs69dDJmZNKpRGKxlWxM8dptqDSZoPJwI7O+1FxdYnFhFO6+r0TFYJbHUwS01xkQAcj6kRUyuQ1MP81cbF4uywOZCNampyf5zo6pdBp8ybZ2Ul0Hyx0EpEiB1EpcuptT8ZUOo1QLHZHodNlMaPaYecenfciRe1sXF1iMSxyEt3fkhftEtHkhToR0T3Ja+TCeLtafKOIaFlkaym7R3sehTOFT05mJ1ocqwBEpEhcXWLrEl/Xk3Q6jbh2MpxM3T4htliNsDtMYJ1zaYyrEz04xjCJiFYft/4gWj5jQjuHn0qqKDsnsxMtjmUAohInnXwyeEgGEOmxo1NIsTMYi2EuHFIFT5vNirIyB4ysdC6KcXWi5VtqcrrqOOJgDSKih6e9ji4c5iavt/nx9tziJHcqedpphxQ3paOTk9mJFscqAFEJU3u+RACL1wCTzt84D0Wj8ASCSKRSsFotcDodsJhNMHKfztvkxIhxdaL7yo+oc3I6EdH6k9fbO+Lt2cVJ7kS3ybl8bjI7Y+xEt7HQSVTC9BpXX1QsBkM4LNOJ1KcmoxFldhtsFrP6nDLv/jKuTnR/+RF1xieJiApH/uuzWtxChEid2zPGTnQbC51EJagY4uoLheMpzIcSSKYy/zHSyemyW2E1m9TnpY5xdaLF3RqOkReNzI+ocyAGEVHhyO+4V2uRSe6Mt1OpkXP7XIzdPpPkZHYqeSx0EpWgTKFT/3H1fMFYCrPhBBK5QqcxU+gs+Y5O7Z+DcXWiBfL3g8ubnJ5bjKgTEenDrTer8l7DF8bbc4tvXFExk3N8Odd3zCZvTWZnsZNKFQudRFQUQrE45sORWx2dJqMB5Q4b7NbSLnQyrk50tzsm/DL2SERUVO6Kt2cXtyKhUpGbzM7zfypVLHQSlRjp4pRuzmLr7IsmkghE4khlN6Q3GYyq0FnKHZ2MqxNl5E9OV2s2qDo5VYcPB1kQERWVu+Lt2SWFzvxjgXSCssuTipIkuuKZRJdE2WVxMjuVEhY6iUqFOuBl9uWU/TmLrfAVSyQQisaQWhBdt1star9OWSUzgF1+14yrU4nLv9DNn5yuYo28uCUiKjl3TXLPe9Mrt3hsoGJiDqVVlF2WXBdwMjuVChY6iUqETFaXCesyab0YRWMJ+MNRJLNT16Ww6bRZ4LCaYbGY1JJJ7KWAcXWiO6OLjCsSEdFCd2xjwuMFFTm5LuBkdioVLHQSlQAVV/caYIoUXydnTiSeQCAcvRVdt1pMaGuoxMcPbMGvv/SYWp96dAd2tzeizGFTHZ/FiHF1KmX5EXW5WGWHDhERLSl/MF12LYy35xYnuZPeyXUBJ7NTqWChk6iYaceuYo6r54toJ6q+vI5Oq8WMzsYqvHhgC371xcNqfenIXjy3uws7WmpRX1EGRzbWXhTkd824OpWSRS5Q8yPqnJxOREQP6q54e3blT3Lnm2ekV3J9wMnsVApY6CQqYsUeV88XjMbgCYSQSGZOPi1GIxrKyuG22dXnoruxBp8+vAO/88pj+Pyh7drn1UUzrIhxdSo1jBwSEdF6keMLjzVUTDiZnYoZC51ExSzb0VkK3X3xZFJ1daaz0XWDwQCryQRz3r6c0sEpnZxbWurxzJ5ufPGJ3fji4a040FGPMrt+4+yMq1OpkC4aGSSkooQcIkFEROtEji+5Y01+vJ2RdtItdZ2YS4Mxxk7FhYVOoiIlBS8pcpbKZD2Zti7FzkQiqX18u9gRjScwHwxjzOPDnD+kfT0Fh8OOnR1N+OSh7fjqk7vw4t4ubG+tuxVnlyKpLsgJCuPqVMTyLyzVCsdUgVPFCDk5nYiINkB+vJ2RdtI7mcyei7GbomlOZqeiwEInUZGSuLrE1iW+XipSyRT8gQAikdvvro97fHj3Uh/+79eP441T1zE95UM8nqkIWiwW1NfV4ROH9+J/+vRT+MzhndjaUguL2aiLYifj6lTs8qOCak34VGSdiIioEDDSTsUgF2N3jSc4mZ2KAgudREVGuvpk8JAMICqljk4RjiVwcXgao3N+RLWPB4Zn8P7Ffvz49HWc6BnGT8/34FsfXsDfnrqKK4PjCIcjMJvNqHa7sKW5Fs/u7sLnHt2Bzx3ajp2tdah03d7fs9Awrk7FaqnJ6apbRnteyxAiIiKiQsBIOxUF7dRKipvS0ZmbzC7XGkR6ZXrttdd+N/sx0bo7evQojp06Bdfe3TC5y2HI20+RHpwUvEwRwOoxaAeq7J0lRLowZXsZm8TPtduzV0fwzuU+fHhzWE1kH/P6cWNiFhPaLZIpOK1mGEwmmEzGW/t3dtRWoKPGjSQMkAS8DDdKpdPakvpKARRYsicitvlsXL0A/kpED0tdKMZlf6gUzF7tQnE2AFMopu4jIiLSAzlmybFLFrRrmrScZ2aHZEKn+8BT6ZFrC3NELjiAlMUAo5yKycO3gB/DiXAAvt4LeOqxQ3juueey91IpY6GTNhQLnavL4s8UOUsprp4vkUrB4w/j8vAk3rsygJP9Ixjx+tTenTmyl6cUPftnvLg2NoNgJA6Xw6qKnMJkMqHM6UB3Uy22N9aircINXySKUCyuhh1ttFxc3RJkkZOKh9kbgmXSl+ng1J6TBnlngYiISKdkmxWTP5KJsxsNSGnnmkR6YtKuOSyhNKyBlCp6Ju2Fe53OQictxKoSUREo5bh6PiliBiJRTMz50T/lwYQvgGAslv1qhnRnhmNxTM0HcHV0Bu9c6sP3P7qMHxy/hMHRCUQiEdURWldRhs0ttXh8Zye+eGQvPnNwBx7rbEWFY+OmszOuTsVAujdvTU5fJKLOYQ5ERKR3jLST3qmkYDQTZ+dkdtIbFjqJikCm0GmAiXugL5sqioajuDQ0ofbw/Paxc/jwSi96R6cwPR9ANBaH3W5Be3M1PnFoO37u8G58Ys8W7OloQlOVGy6bFcb1Glgk6RFOVyc9S6fV/prqoi9vcnpuyQRbIiKiYsQp7aR3+ZPZWewkPWChk4hKXigWw83JOfw/x67g9984je9+cAHDE9N3TG9vbqjA84e34htffB7/w3MHsaO9Qe3ruR44XZ30TiJ8MjGdk9OJiKiUSXcnp7STHuUms/N6hPSAhU4inZMuTunmZJffykl3p0xsH58P4srIFN693I9vf3AJPzl7Q3V8StTdajWj0u1Ee10lntjWjs8f3oUvProLj25qQVWZA6Y12l+WcXXSqzsi6rNB1cmpOlg4OZ2IiEoUI+2kW5Iwi2cSZvaZpFqczE6FioVOIr1SB5vMvpyyPyeLYKvDG4zgysg0vn/qGr5/8iqOXurDjdEZTHkDCEZiqii6qaEaL+3fgq88sRcv7duC3e2NaKl2o8xuVZPfVwXj6qQz+RdvauVF1KXgWYwRPXm+W6xmOMrtcNeUobapEvWtVahpdsPussFk5mkWEREtjpF20iOJsTtmk2rJdYpcr5TqfAgqXJy6ThuKU9dXTiarW2cM2sFGu9jmwWXVydDn+WAEA1MeXBwYh8cfgt1sQlW5E1btVgYS2R1WtDVUYVd7AxoqyhCOJzA571c/+7A4XZ30Jn9yuixzIFr0EXUpctY0VqBtZwu2P9aNR5/dgX3PdGHTngZE/DGEg3FEw9x/lIiI7o1T2kmPZDK7STvNSdgNSJs2Zlir4NR1WoiFTtpQLHSujIqr+7JFTnb6rZlEMoVwNI75UATeUBiz/hD84Sji6SRsNrPao9Npt8LtsKHCZVfFzqZqNyxmI2KJFELRlRU4JAZim09lipz8/VIBk6id2RtWXSmmgHaBFo5rj1l53GZWsZDOTHelS3VstnbXY+u+Duw8vAl7n9qMg09vx+7HurFtfwe6tzejtasO9S3VKNO+X4qcnol5pLR/C6b1iYhoKYaUDHnJHju1A4Yxlrw1qC9tNatbokIjzRjGpPbY1R62pogUPdNIWQyqWL+eWOikhVjopA3FQufKWPyA1Wtgp986kH9iKXhKkXNoZh6TXj9iqSQsFhOsJjPMJiPsVgsqyxzobqrBtpY6FWeNp1KIxOLQbpDSTljTy6lyyMlCPK2KnCquzt8vFRLtMSwdJ8bE7UKmFDktswGYQjHtsav/qrw8d83y3HZY4Syzo7zSBXe1S3VtdmxrwubdrdjxyCYceHobDj63FQef3Ybdhzeja3szmlqrUVVbDndlGSqqytHQUYWo9u8yNepFOBBBMsF3LYiI6P7keCrHVVnQro2k0HnrzcN1LiAR3Y9cr5gjaVjCme7OpE26O7UvrONjlYVOWoiFTtpQLHSujHR0msI80Vlvsj+nLxzF0LQXvWOzCEfiKHNYUV9Rlv0OqFh7S00Fuluq0VJfAX8wqjo7IzKA5T4YV6dClpucbp4L3oqnG7XngHShFAspcrqrXGjb3IAdhzbh0Rd24slP7sHTn92PJ1/eh71PbMHm3W1o6qhBRU05HA67dg1qvGtvXvncKh3f5Q6UuR0YvjmJUCCCdBH9WxER0dpjpJ30RBU9w2lV6Eza1++6noVOWoiFTtpQLHQ+GIkxSzenOWRQe3TS+pIShYqzx+LwhaJqD89pXxDT8wHEEklYTEa47DYVaS/TbmvKnKhzu9St3CcdnnHt56XDcyHG1akQqcnp3pB2kRXNxNODUdVpkuvo1GuRU/bYtWkXi2p/zS0NaN/RjB2PduLAM1tw4Ont2PPEZmw/2InuXa1o665HQ1sNquvcKKvQnssuG6w2C1Ip7bUgGIZn0oeRm1PovTiMq6f6EYlEUVblgMVihs1uhd1pQ1De8ND+DX2zgezfgIiI6P4YaSe9kRi7FDzV0NxQ5jxRxdnXEAudtJBBO1HX51UK3VcikYDP58P8/DxCoVD23tukC8XhcKC5uRlW6+13B4PBoPo5uY3HtVcojXy9oqICbrdbu3iz3NW9slLf/OY38b/9we+j7ue/CmtLMwxmHrCXIsUvUyQzgEgOHFQYpIDZWFmGp3dswqNb27C9rR5lDhtsZhNM2cL9wKQH5/rGcOxqP25OeFRxVMXaY9qJayLzEmzzJlVcnWjDZSPqcpJqiCVUF6fc6pJ2qJLnoXRqmrULQovdoh3PzLA5LKpzs3lTHVq6G1DdXKl9XIPm9iqUl5fBZJLM1W1yqhSLxBGLxhGPJrRjYwL++QA8Mz54xvwY65/GaN80pkfnsP+5LXjmMwfQ3tWkCp3BQARXzg3ine+dxvHXLyKifS57dhIREa1UotqllkibjEib2SxChSlaaUSkypQpdq5RvTPimcDwj/8bvvE7/wCvvfZa9l4qZSx0FjGPx4Mf//jHeOONN3D69Onsvbc5nU7s3LlTvRh0dnZm7wWOHz+ON998EydOnMDExASSySQ6Ojrw6ic/iZdffhn1dXV3FEYfBgudy2eZ15Y328nJZ23BMBoMqpNTipubm2qwv6sZT+zuQGdtFaocTvU9sXgCoWgc/kgUH10fwtFLfbg8PInoWAim2UzV2piQd+zVh0QbKr+4qYqdce2BuZw9ZguQSXtuOt121DZWor69Bs2bG9DSWYumlmpU1bnhKJPuTDNMFjMsNpMqgi4WRY+EYhi8Po6h3glV1JwancPUiAdz0z4kYknEtX+rWDSBhPZv1dhejb1PbsEXf+NjqGuuynR+aj//0TtX8c4Pz+Lq+z0Izd/95iMREdFySWFTCpwiv+hJVGgkxp5wGBGqMyFlXZtKJwudtBCj60XM7/fj1KlTOH/+PGZmZvDUU09j9+7d2Lx5i1pbtmzF9u07sG/fPrhcLtX1efHiRVUcPXbsGGpra9He3o6mpiYEAgFMT09jdnZW+7kt6vtXA6Pr93crrh4wwBTN3kkFQ8o/yVRaxdmDkRg8gTCmfAHM+SOIJ1KodDnUsCJZFU672tNTRdqdTrgSRqT8CcTDCaSTrF7TxrhjcvqtdTuirgdSmDRZTKisKUNTZx02bW9WQ4P2HdmKg89IFH0Ldh7ahK372tG5rQkt2vfUNlagvDITRbfZLSpqLp2Wntk5DA9Mo+fyGK6e7MP5927g9LvXcP79Hlw7PYC+y6MY6Z3C5LAHc1N+BLXnuhRCpdNTBg5J52dE+ze02Mzqz66qdWe6SO1WWJ1WTEz7VOEzEc5ED4mIiB7Uwki7fJ7WjmMcVkSFRsXYs5PZ09ql/lrE2Bldp4XY0VnEpqam8O1vf1sVE2XPsN/93W9i06ZN2a9mSLdLLqY3OTmJP/uzP1MdoFIY/a3f+i3s2btXXUC+9eabeOutt1Tx9D/+x/+IPXv2wG63Z/+UlWNH570xrq4/8nyxmI3Y1FCDg10tePnAFrRUV8Blt6qYu+wNGIslMD3lw7mLwzh1bgC9N6fgmQsiHI6piCzRWpO9N3NFTLMnqJZeGLTnkNlsgkWi6DZZFljtmaJiQ2s1Wrsb0NRRi9auOjS216KipkxF1/OltYvCWEyKk0m1EtpzUuLowUAYw4OjGLw5i+EeD6a15+bM6BzmPQ+2t6bsy7lpRxM+9sXDePpTB+Ast6vj7fS0D//9Oydw/s3LGD03pDpA5e9CRET0MGS/zlijW92mDdrnctxbkE4g2mgSY49WZs7JUtplf9q0Oo9RdnTSQuzoLGKyx+bly5cxODioLqQ+9alPoqmpEXa77day2Wy3YnoSU/+jP/oj7QLSjJdeegmf+MQnsKmrC3W1tdi+fTv6+vpw8uRJtLS0oKamBnV1ddn/pZVjR+e9SSen1cPBQ3ojtcpAOIrR2XlcGprEnD8Eu9mEqnKnmsouxU67w4rmpip0d9WjssqJRCIJ71xIDTti3YPWmgwYskz6dDc5XYqcFqsJNQ0V6NjahN2PdeHwi7vxzOcP4WM/9yge+9gu7Hxkk/pabVNlpsBovjuKLkXOkaEx9F4aweWP+nHyZ5fx7g/P4p3vncLpn11Hz5lhjPdOwTvtR0R7Lj/otHTpDPV7w+pjKcTWaX8X6Rq12czacbUeyWAM4wPTiMqbG9mCMxER0UrJcdwUjqvjutymnFbtSp/XVVRYTPE0LKE0rAHt3Ed7eK7WZHZ2dNJCLHQWsVyh8+rVq6pIGYlE1MeXLl1Cf3+/utBzulxqv035mnzPt771LbS0tOLll17B9m3bVLenDB8qKyvD9evXcePGDfVxa2vrXd2hD0LtWRaO4J133sEHZ8+w0LkEc0hbQb4bq0cJ7TEeiSUwH4rAGwpjZi6I+fEAEtEEHDaLKnQ6tFXmsmnPMwfqa8vR2FChOtUSCe35EYmx4Emr6o6IeiCiLoRU7K0Ai5xSmJQoukTL61uqVeGye28zdh7uwKHndmH/kW3YfbgL2w50YNPOFrR21aOhpUoNGHKW2dVEden4lGONRNEnR6RDcwrXzw7iwoe9OHPsmoqkXz01gJsXRtT+m6P905ge8yIwF0Y4EEU8EldR9Actcgp57kq3ZlT7M6Lav7NMd3e67Krr1KUtdajT1sTQrCp28rlOREQPKxdlN2jHPjm2G7Xjj1E772SknQpFJsaeWWofeG2pKPtDPj5Z6KSFWOgsYuFwGDdv3sTAwABGR0cxPj6O3t5e9PT0qNtwJKLi51VVVQiFwrjR04sf/fCH2LF9J1555VXU1Far7s4cKY4ODw8jGo2iq6tLDTK6H5n87vV6Vbfo2NiY2udTlsTkBweH8e677+Jibw8LnQvJQSChPUHD3JdTz6R2IR2aHm8QI0NzmOiZ1Q7ECdhtlswUaLNRew5aUFnhRGd7Lbo661W8VYozMtwklU5rH8sbA/InET04iajn9tqUIqdlNgBTKKbuKxSqS1O7CJNJ6FKkLKtwwF3rQn1zFdq3NGLL3jbseawbe45swoFnt+CJj+/DzkNd6NjWhIa2GlRWl6luSXmDQIqGIX8Efu05N6/9t06Nz6HnygB6Lwzj6slBnH33Ok69fQWn37mKnnOjGOnJFDd9c0FVkFxJUfNegr4w/Nqf7XJr/01VLlTUlqmO7rIq7fMaJ0ZuTiLgDan/bSIiotWQK3Kq430siZTdnBl2LSeVUlBipJ0KgGzLZooBSZshU/TUHp5p9fjMfsMDYKGTFuIenUUsN4xoaGhIdXe2tLYimUiooufPfvYztQ+ndG9+4xvfQIW7EmfOnMU//Wf/BJ/97GfxT/7JN1BdXaUuPnN+8IMf4Hvf+54qXH75y1/G1772texXlrbU5HeJ0ie1C+/Z2RnMm4zco3MBeeGXfTllf05O4tY/mzcJhzcNK4wod9pU5+a+ve14Uoo3u1qz36Ud6LXnRCAQxaxnHv0Dk/jZuz240TOF6Rl/9juIHkz+/puqyyNRWDHpXBS9ur5C7a9Z31aNhs4KNG6qRltHC1xlDtWZaZU3B6xGbclkdOsiUfTMvrcTA9MYvzmFkb4p1S05O+FV+25m9uGU/TgT6k0E2SpitYuaS5G/f3WjGy986TG88MXDqKt3qzc5/PMBXDx9HW/91Wkc//HV7HcTERGtIu14Kft1qn078/bxJCoI2uMyZdYeo8ZMZ+dKJ7Nzj05aiB2dRUwuBKVjs7GxUXVgdnd3o7m5GQ0NDaivr1ddldLd2dbWBovFioDfj7d+9qbq1HzmmWfVHp6yf2eOdIFKdF0msMv37N27N/uVpUlnWjKZVFPaZW9P+TlZO3bs0P4+mxEKBTE252FHZx5TWLsw9hlUbJ1FzuJgCaRh8afUXnyRaAKBYBQ+f1gNIJqdDSAaT8BiNqlIq3R4yq10eVZVlqG22o4ylwnBYBzxRJLdnbQsUtCUfThze3UVSkRdTSGvd6OxuwFde5ux5/HOW1H0XYe7sXV/B7p2tahOzqbWOlTUlMNV7oDdaVXFTqPBqGLlM2NeDPdqx7CLw7j4US9OH72Gc+/fwOXjN3Hj3BAGro5htG/qVhRdujyl21N1Smv/Fqrdep2kteNgOBRFIi6vAUnUNrnVsCKZwi6dnomY9vVAXHV2StydiIhoNTHSToVMOjkzcfaVT2ZnRyctxEJnEZNJ6m63Ww0OkiV7a8rnUujcvXs3RkZGcO7cWVWEdFdUwGg04c233sC2bdvwxBNPwuFwqBhtzrVr13DlyhUVXZefl8nr9yOdN1Lg3L9/v3rRya1nnnkGhw8/hsHBIXx0/hwLnXnUACJvpoWfdE77HRrVptspmCO3f6HSTTY3F8TwiAcDQzMq3i4dXg6bGQaDUXVSl5U50N5Wg5amMlRVWBEMJZHUTgIkzi6dn5zUTPci0XQ1bGiDItEyAEgKk1KgLHM7UFFdhup6N5o31aFzVwu2HtqEfU934/DHtONNNoreub1JTUuvrquA0+lAWjvZjUbjCAejCHjD8HmCmNX+m6SA2XtxGJdP9uP8Bzdw8q3Lal0/PYCh6+OY0p5X8r1rEUVfKfl7SIRdhhvVt1eivNKF8gqXdvx1qqGAspWFdKDKf2uywLpuiYioOCwWaVcDi1jspAIg175yvSRFzoTzwWoCLHTSQix0ljAZLiT7dzqdTrS0NMNV5sIbb/wU7W3t2L/vANwV5Xfs0Xn27FkVP5eLMunmXM4enUuRblOr1YL3338f72l/Jgudt0lHp+zNSfonRU7ndBKWYGrRwrV0Z4bDMYyNzmGofwYTo16UldngdFjVsCJhs1lRW1uF3bvaUF/nVgWTOW9QRXVZ66SlSOeGdHPK7UZwV7rQ2F6jBgXtO7IFR17dh0/8/JN46pP7ceCprdixrwNtnfWorqlYNIouxT7ZY3O4fwpXzg7i9NtX8P7fncfRvzmN9398Hhfe78HNSyOYGJxVBcR4fP2i6CslnaTSVeqZ9KOyuhyd25rU/bIvqQxdCvnDqqtT/ruJiIjWkhQ95c3QtMmAVPack6gQSJGThU56WCx0lrDjx4+rwqV0XO7atQt1tbV46623VNdnR0cHmpsbVVEz5+2338axY8ewfft2HDhw4KGmrstFrcTiZRjRsVOnWOjMw0Jn8ZCBUrZ5GQaTvWMRUuyMROIIBqPw+sLweEPweYOIh2Ow2oywWC1wOOxqMrvLJcPDnNpz1aU9N82IRpOIyTvyBV7gofWVm65u1B5Xax1Xt9otasiOdGJ27WzB9kc6seeJLux/eiv2P7kVOw51YsvednRua0bLpjpU1ZWjrMIJpysT3ZbjQCQSxcykD8N90+i7NIIrJ/tw7r0bOHvsBi5+dFNNSpf7h3smMTnsUV2RAe25EgnF1J6b0uG8nlH0lZI3JuTvGvRpvx+LSXW7uqvLMjF27SJTIvoR7aLTM+VDLBrn85qIiNaUejNUOzjJuQJj7FQo5L3vB53GzkInLcRCZxHLTTyPxWLqIjCZSqrIbCQSUZPPpagpXZqHDx/GgQMHUVNTrYqfEk03m02q2Cl7fMbjcczOzuL1119XhdFPfOIT2LdvH+rq6rL/Syt39OhRFjpztN8RJ60XD0Myrf0e07AGMvvN3E88kYIvEMHA8KwqdIT9YZhsRrV9hMVsVtF2d7kDLU2V6Oqsht1mVUVO2QNX7YWrzlVZGClpcrEikXVvWA0gWs0ip1Eeh1YT7C4bnOUyGd2JyroyNLbVoGNrI7Yd7MTeJzfj4LPbcfD5bdj7xBZsP7AJbZsbUNdcpfailA3nZY/MaCiGoC+iOjE9U/MYG55G7+VRXD45gEsf9uD0O9dw8u0ruPTRTfRp908MzKjipuzNKXtY6vlhLl2n0tUZCUURjcRV8Vc6OqXYKcOYEvEE5j0B1dUp/1Z8ThMR0VqSrW4YY6dCkj+NPW2SO+7/mGShkxZiobOISZFTJp5PTk6rff+C4SC8c/Po7bmJv/zWX6hCpxQ9f+mXfgW7d++CxWLB/Py8irRLQVP28jSaTJiZncX3v/c9fPTRR+p7fv3Xf13t4ykfPywWOm+TIqdMWldDiHhtq3s2XwqOmZT2e33QX2YagXAc4zN+9PTNwOcJQQJFVTXlsFplD8/Mtg/19RXYurke7S1OVUCa80bY3VnipMhpnfDBFIyueiens8yG2qZKbN7Thm2PduHAc9vx/M8dwDOfPojHX9yDnYc2oX1rE2obK1HmdqrHaH4cXYrxfn8A06Nz6L86ofbW/PD1C3jn+2dw7AfncO7dG7h5YRhjfdPwao99KYYmtZ8pVtKNGvSF1RYVEluXAU3CXm6Fq9KOce3fQb4uxU4iIqK1xBg7FRq1X2c4rQqdSfv96wMsdNJCBu3ig1fFRWp8fBx/8id/gqmpaTVoKJGIq5igdJRMTU+qWHr35s34+te+riavy9elyPnDH/5QRdSl0CkDjMTk1BSqKiuxZ+9e7fu/pr62Gr75zW/if/uD30fdz38V1pZmGPL2BC01xph2kTthULekf/aZJByzK5+gnClomtBc50ZXey22b2/C1q1N6OioRbk7MyhMurbnPF70D82hp3cGN29MoHdgCiMT8yx4liCZoGod9qjblbJYzaprs7KmDOXaqqiVIUJlqtBeWe1GpUTPq5zacqG6zgWny6GKmjlS0JQoekh1bIYxN+2Dby4InyeAmSkv/J7QrfulS1PuD4dimUnoJUai65t2NOOpTx7AE6/sQU1DBbRTesxMevHhTy/j+OsXcfVUH1IJGT6W/SEiIqI1knRZkdTOMWWlzdxOjDZewmlArNyolhTilxLxTGD4x/8N3/idf4DXXnstey+VMnZ0FrFQKKQmpff13cSVK5fR03NDFT/DkTDa29vx8RdfxKc//Wk0NzVpF6pW1aHZpH0s09blYrW/vx+9vb0YHR1VRc6Pfexj+MxnP4vamho10X01sKPzNkMSMAcM6pZ0LC2Ri7snra+E7Ocn+3aOjnsxNjwLGUBks1lg1p4nRqNBe86a1BCx1pYadHfWodJhVRPcA2HZrsKgJrSz4FkaDIkUjNG49hoSXdYAIimky2R02RtSRdErXaq4WddShbbuemzZ144dh7ux95mteOzFnTjw1DY1GV2i6BKxlsKn3WFDKpnOdCcGIvB7Q6qAOTY0hUEpup8fxsUPe9V+m2eOXsPZozdw49wQhnsnMTPmRWA+VNLxbInhz2jPbdkWQLYCqK6vUHuX2p12VDdVqvj6qPZvJfuQruWgJYP2WiLd4janVe25Ko8N9brBlw4iopLCGDsVmuXG2NnRSQuxo7OISbeX7K0pBU/Zp1P28pMLGJmkLntvSremy+VSBc78iGEwGITP51O3sj+nkEJoRUWFGlS08PsfBjs6b2NHZ3EwxjKT1s3h1KoVreX5ZtFOOJ0uKxpqynFwezMOPNKOrbuaUV5ept54kDcnpDNuemYefQNTeP+jfly9Po6xcW/2T6FiJntyWmaDKr6+nPY/kxTJy+1o7a5H8+ZGNGu3rW01qG3UXuertOOCzay6O802C2w2E0xmk0oELDQxNIvB3kmMjHow2T+NKVnax5FgDAntYkmG6sTjCfVxZn9NnnIsJP/em/e24iu//ZIa6CSFZ5kiL9H+t75zEldP9iHoj2S/e3VJkVP2Xq1vqUZ9a7X6PU8Oz2q/1xnEtd9ZoU+yJyKiVaadc6a1c4R4jQuJalf2TqINZABSZgMi1UZEKxdvtmJHJy3EQidtKBY6M2TSunRzmgPak5IdnbomA4hc4wl1uxZs2slna50bnV212LylAdu7m9DeXoua7B5/sVgcPl8Ivf0z6OkZxY2eMfTc9GBuPozoQ0SaqTBJJ6fJF86s4N3vkhhNBtWlV6U9ZiqqXCjXLloq5GPttrK6TE1Br9QeO5XafZXa16X4KV2eC8n+mt5ZH3wzEcxN+TA37UdQe0xJB+esfO4NaV/zIzATQEB7/CW1vxctj/yOqhsq8PznDuGJl/dg+8FOdb90wr77wzP44CcX4PME1X2rQTpIHU4rapsr0dheg4aOajVUqqa+Un1NovMjfZMYujaB8cFZ9TtmfJ6IqLRIjD3ltN3+2JX5mGijhGtMiNSy0EnLw+g6bShG1zMsfsDqNXAIkc496KT1lUim0pjzRzA26cPoqBfJcDwTQXbKPokpWCxmlJU50dpSjeYGF6orbZD6ZjqpfTUp09nTLFgUEYmZWbTHgjmSUEUqKWo6ymwoczvgrilT+z42ddRi674OVUDb8/hmHPzYLjz6/E4cfGobNu1oQVN7Lapqy+FQFzFptcdmOBhFYD6sJqN7ZwIYujmK6xf7ce3UoIqgn3jzEk68dRlXTw9guGcSM8Me+GcDaqI4uwAfjDwfpTAcDkZU4bF7V6u6f37WnxnedG0cEe33sRjp9pbfu9likiacJf/tZasLmyPzuJDBR23dDdh1uBuPfmwnHntpF3Y/thmbd7WhfUsj2rc2oLW7DlabTXV8qjQIjKobl5F2IqLSIOcXplBMLe0ggpTNrN1qB5pVSvURPaiUTTsnsRqQVo/D7J1ZjK7TQuzopA3Fjs4Mq0cWTxz0zuZNwu7JTlpf41dWKXCYzUaUOayok4FFXTV45vF2bNnSgrr6WvU9sn1FJBJDIBjDjStjOHdmACcuDWPaE2B3Z5HIDSCyaIdyKVTK/pktm+rQ0lWPxs31aGiuQrVM7LebVRHcbNVus7F0GWi10PTUDEYHJzDZ78fkoAdTIx5MasvvDSIciiIeTSIeiSOm/e8yir56pFBZWVuOL/zGC/js33tW3Sf7nJ5+5yq+/0fvqL08FyNbENgcFlRUlyHoi6jhTouxO23YtKNJTc2XJRH5ipoyNRDJqv28OW9rAtkGQ363oUAEczPzGBmYwvmjPbh2ZhAjNycZaSciKjEymEimscca3Uhr5w9EG0H26Ew4jAjVmZCy3nndzI5OWoiFTtpQLHRmsNBZHB520vpK2WxmVFU4sKW7Glu3NKti5+ZNtXC7nbcmYku8eGhoBtdujqO3ZxIDfTMYmfYhGudeCXqi9muVopj2+5bhU5Xyu7cCNVXlqK6tVPs9VsqE9LpyVGirvNIJZzZ6lk+KWDI8SLoGvdMSS/er6eieGS88014VUffPhtR9UuSUvTZl8BCtDem4lG7cr/7OS/jyb7+o7psem8PFj27iv/37v1P7ZuZIQVuKlA2dtWjprENDa5V2n119f/+VUVw51a8GGLncdjS01aChvRqNHTVo7axXn9c1V6GmsUIVu3Pk9cEz44fNYlZDqdzZfdlkK4zAfBDDPdMY1l47BnsmVKR9VHv98EzOq+8hIqLiJ8VOmcae0I4tjLHTRpFiZ24Ke8J5+w17FjppIRY6aUOVfKFTe/YZE4DFa4CF14z6Jb/HeBr2uSRs3o3dm7C5qRI7tjXhyOOb0NVZj7raCrUfn3RrSQRV9lq8cXkMZ08P4cy1MUzO+hEKxhBPyh58PBwUktxkfenElFvZn1Wm7peV2dDUWImWCieaq51o2FSOlo7GW528+WRyv0w2l8JXVLuNxRNIRhJqn83JkVlMDMxgtH9aLenclMh6ksXvDfPVf/gSvvo/vax+3yF/BDfOD+H3/z/fwfSYV+2dandZUav97mWI1NZHu7DzYCc6Nzeon50YnsXlE3342z99D7FIHPVt1dh2oAPbDrajc0fjrcFl8jyXqHxE+55IKIqo9ju/eX0cQzen4NL+N9q1P1um68tQJPnfzBVEQ6Ewpsc9OH/sppqmf/PiiJq2L3+GPL6IiKj4yYAiGVQkA4sYY6eNEq00IlJlQsqiPQa1/2ehkxZioZM2VKkXOo1xwDpjgCmiPRlZW9CttZi0vlJSIHHYraiosOOR3W04cqgLO/d3wFVmz+6xl0IkHMe8N4TB4VmcOHETp0/3Y8ITRCzBB2GhkCKnw25BU1MlGhsr1G1XYxWaJIpeV54pgMqenGYjzFaT6tw1W+5+/fTOBTE57sVE7yT6tN/30LAHvpuTCGn3R0IxVaCKZQuhUhCVSDIL3hvnk7/yDD7368+jrt4Ns/b7Hbwxjv/v//oX6veyZX87tj7ShbauOtQ1VMDussHusMKmPU6E/P68M35c+LBXdfa2dtWraLpNlsOi3uyQjmCJpc/PBtBzbQyXzw6g52QfPNpjJBSIqsedFFI7tzfj4DPbsHlvmxpUJPIj7RKlH7oxgbPHruPamQGM9k2r7yEiouLGGDsVgoUxdhY6aSEWOmlDlXyhMwbYJwzqlvRrrSetr4QULFobK7C5sx7dWxuxZXMtNrVXoaq6EmbteSadfn5fGIODM7hxYxzXro2jZ2AKIxPzmYEjtC5u7bVaZoe73I4KtwO1VVZU17hRXV2Bygon3Np9FRXa/drHFdpyat+7kAwBCvojqrDpnfbBm52M7vUEMO8JYl67b0a7nZUCp/ZxIsIoeiF65ucO4ZX/4Qi27myB02VT09Y/eP289jgxoqGtGg0dtWpi/mLbEQgpds5Ozms/qz2esvFzoe7XntvS9Tk+MKPWqHysramBaTXsKPd4kGi87BeqBhNta0TH1ib1cX1L1a0/Ux5vsq3BUM8kBqUbVHsNkY/lz/dqjzsiIipejLFTIciPsQciUyx00h1Y6KQNVcqFTun8k05O6eiUzk7Sr0IsdObIkBHZz/HgviY8fqgdXd3tqK4uhysbZ5dCm8RPr5wbxHsnbuLEhSF45oKIycARdvatKik+S5deJo4uXZhG2O1WuFwO1NaUob7OjeYmNzpbnWhva1g0ii5ddclEEtFoEolo/FYsXYpOMxPzGBmexdjNKYz1TmBEu5XiJ6Po+vHIx3fh+S88ikef3obyCmf23genui+1x0kkGFOduzKkqP/KGK6eGcAN7bk+2j+FaPj+Bx53dRlau+pw4Jnt2H6gA21bGtTenxJplzdMRNAXxsTQLM4cu44rJ/swcG1ce9yFEZWOYe3xSURExYkxdioEEmOfT09j4M3/hm/8w99goZMUFjppQ5VyoVP25JS9OWWPzrWe0E1rq5ALnXLeKfvyOR1mVFe50LWpHk8+1oVDB9tv7dknRZFwKIbR0TlcvDKCH/3kAsYmvJzMvoqkyGmzmlFX4US9RNFbKjMFzfYG1DfUqYK0xZwpgtqsRlgti0fRZZ/EOY8fQzdnMNE3g8mBadWdJ92bUnDKxNAzU9HlVrr0WLDWj71HtuCZTx/EkU/sVZPUV0oeJ7NTXtw4M4LrZwbQd2VUPUZCvggi4ah6fCxncrpJHpNWC1zldtS1VGHTriY8+spWdG9vv1WIT2X3gZVIu3SNyrT4Uz+7guvnBzExeHuIEhERFRfG2KkQSGdnIDyF66f/Av/4f2GhkzJM2gPhd7MfE627o0eP4tipU3Dt3Q2TuxwG4+3pacXOHNJWkO9+6p05lILNl4I5koahQOtJ8n5WNJZEIBiDT+LN8yHMzAYRjiRgMZvhLnfAqp2gytAit9sOl9Oi/VAaIX8UMQ4pemDSKety2VBfV472jlps2lqP3TubcWhfOx45sAl79rRj+7YmbO6qR1tbnfZ9lSq2Lj8j+6taLBYk1OCoEMYmfRgemEHv5VGcP3Yd5967jvPv38Dl433oOT+EwWvjGOmbxuy4F/OeAMKBiOrUk70Ul1PIosJS5naiqt6Nzbtb79iiQAqIwz2TarK6cGnP2YVk0Nj4yBSunRnE2Xev49TbV3H5o5vovTiCsf5p+GYDqrtTBhEt9801eQzJY0mGVEkh3av9GR7tMTk77oNvLoSUIQ6zzQyny6Ei7y63Q039r6ovR21zNSob3KqIn4ynVNydiIiKh0E7RhhSKXWbNhpY7KQNIddfyXAA05OXcOTJQ3juueeyX6FSxkInbahSLnSawrJY6NQ763wK9jntJE8HNSUpeIZCMYyNz2NgcFZ9bLWYUF5mh9lsUBO9ZY/I1pYKWAxGBP1RBCR+mkipn6W7SaemXTuxl2nVrjJbZo/N2jK0t1Zj29Ym7Nndhl0H2vDogXY8dqADe/Z0oKurXk1Nr6ws1/7NrZnfSzSufh+BQFQVoienvBgcmsaV6xO4dm4Ql97vwfGfXMDZo9dx9eQARqToNTqn9nCUCdvSVUf6Jx2UMlxIBgnJM04i4NKJKdPXLx2/idG+KTi0x1l9a5XadkIVIQMReKZ9GOwdxZUzN3Hyjas48dMr6rEi3b7+uWCm8P2QT2H5MwLeEEZuSBfxLGan5pFAXP09zCYL0oYULDYzyitdaNlUj5bNDWpPUSl0ypsl8vMGuRDWHu98vBIRFQcpchplKxTtGi6lHQOgvc4zxk7rLR4LstBJd2B0nTZUKUfXrR5ZPBHQO/tMEo5Z/e2BaDIZ4XRa0dZQid3bG/Hiy7vQ0lIDh8OuouzBQBQDQ7P47g9O48rVMUzPcMDIQlLkdDqsaK+vQGdLFapaq9DSXIGWRjcqK91q/02r1QST7MlpNqkJ6bl9UfMFIzFcGZzAxIgX06PzajL61IwP8/MhtVcqJn3AxDxiqhsvyaJzETNrjxWJrO98dJPaH1OGho3cnFQDfqRT113lxAtfOoTnv/CI2npietSrOnuPv3kJw9r3zU371L6c8r1ruT+m/D2tdguc5Ta0bKpT09n3PNOJTVtbb0Xa5e8uEfmwP4yJcS/6r4/jwtFr6LkwxEg7EVGRYYydNlIoMIkrF/4S//h/ZXSdMljopA1VioVOGUJkDsgyqK5O0idDMg2rP6WWOaTfl1GX3YL62nLs39+GQwc3YdeOVpS7HaoQGghGceHiME6e6cf5iyMYHfOU5L6dUpiUgmV1uQO1lS44q5yorLSjqsKJ8nKnmoZ++34HKsrtsNttqqiZLxFPYG7Oi9m5MDxzUfi9Qfi1f2NvIILRmXnMz4W0+7SveYLav33k1r+1ZcoPCydZlwwpIsrUc5vDooraUryUrl3tkai2l+je24ruPa3qMSYdlpMjHgxcHVOx8sz3ra8y7fFf0+RGy5YadG5tQee2FrRqH9c0VKlirAiFtMe59vcbuTGBAW1J0XPwyihmxrwIzIfU9xARkb7lprGntXPIWx9rt0RrjYVOWoiFTtpQpVjoNMYA+4RB3ZJ+FfIAogeV60w88vhmvPDMdnR1N6gItuzbKS5eHsF7H/bixKk+TE7NIxyOPXQMtlDJv4V0X1qsMhXdrKL9NpsZZS47OhoqVedmdWsVmpsr0NxQfmugUz6J6cZiMbUvaiyWmX4d11YoGMHI8CgGhucxNBLA1Ogcpj0BzAUiqov2rn9T7Q5DPAnLbBBmTzB7J1Hhqm3SniM7m1R355ZdHWhtb1L7dlptFhXLF965IIb6pnD6jUu4cW4Ao/3Tmf2AI5m9ZYmISP+kq1O6O6XLk8VOWmssdNJCLHTShmKhk/SqmAqdQgp8MpSovb0azz+3Awf2dqCzrUZ9TQqbU9N+nDo/gPc/6MH5C8OLF+Z0LlfwrasrR3NTFdq0f4v2lko0ayfqFe4yNSjIZjHDZDWp6ehSBF0sih6NRjEyNIaBkXkMjQYwOelT0f85b1BNvI7GEqoAGo8nkEikkFzi39KgfZ91wgej9u9vkAEyRAVuYaR9674OPPL8TrRvaURlTaa7MxNpj6vhRiOD4+i5PIiL7w5g4Mo4Zsa96nuIiEjntHOjtHZMiNe4kKh2Ze8kWhssdNJCHEZEG6oUhxFlousGdUv6pIdJ6w9KCm1SgJO9Of2BiJr6bbGY1aAiKfBJAbC83AGX06aG78j09lg8ocv9IqUwKV2aMum8oa4cWzpqsWNrE/btbcfhRzbh4P5O7N7Ziu3afV2dtWhpqkJtjVv990t0WIY2Sden/Jv55sMYnfCid2AK166P49z5IZw83Y8zMkDo6gR6bk5jcGgWY+NezMz4tX+3KMLhOGLav3UimUJqiWqxMRiFxRuGSbtlkZP0Ql4PZG9Q6dAM+iLwzgQwrT32ZXCWDEUyypsEMqVdex2RqfKuCgeqastR11SDmmbtOVZrh9GYmdIuxVAiItIvgwye085z1FR27ZxSDSoiWgMcRkQLsdBJG6rUCp1S3DTFtBUyaAf97J2kO3qatP6gYvEkJibm1f6cKaRRWeGE3W5RxU75uL6mHDVVLni8QYTCcbWPpES1C5U0W0r3pfw3lDttqrhZpf39mxor0N5eg23dDXhkdxseOdCJRw914fCjXdixvRkdbTVq79LyMgfMZrPqvIxGMpPRfTIJ2xvC9LQfA4PTuHx9DGcvDOHMuSF8dPImjp/sx42b0xgZncesJ6D+LePav+uD/DOZvWFYZgPq4oBIj6RQ6Z3xY/DaOMb6p+GZ8sNoNavJ6yZ5YmrHe7vDhuraStXx2dRVjZrmcpiNFnVhnEzKu4EG9frC8BERkT4ZtfMfYyyJlN2sXQBp13ksdtIaYKGTFmJ0nTZUqUXXLfPa8hpglBkjfObpll4nrT8IKQzWVJdhz+5WvPDsDtXpKCR2GpS9Jken8bOj1/HOsR5458NqH8pCk6mlGFFbW4bWxkpsbqlGU3MV6por0ah9Lv+NUgSVOLrcSuxWbhdG0aX7cnrKpzrTxsfmcHPUg+Fsh2YkKjH0hOqGlf0FZS9O+bd42NovBxBRMZHnls1hhdPtQMfWRmw72Il9z2xDa2cdKqsykcZEQnseRWII+2MYGWKknYioaGjnVYyx01pidJ0WYkcnbahS6+g0h7QV5DuZeiWT1iWybg2mYCzyVKV0MEYicQQCEYS1W9lP0uWwqMi33W5FWZldWw61r6dMVJbOTin4bRTZX1Ni9vX1brS1VavY+QGJoh/qwiP7O7Fvdxt2bGvCpq56tLbWoKGhAhUVTrhctkzBMzt4SaLo05PzGB6YweVr47hwaQRnzw3itLYuah9f7ZlAz8A0hkc8at9Sny+sujzlv1+KnA/73qHE1M3eEEzav7t0QRAVAxVp154jIe35EtSeYzJJXqbFz47PI+QPw2q1qIFFDpcdzvK7I+1lNXYk42ltJTmwiIhIhxhjp7XEjk5aiIVO2lClVug0hWXxwK5XpjjgmEmqvTlLgRQnZL/O2Vk/ZrTlLs/s1elw2GCzWdHYUInWlmoEQ1GEwjFV8JN9Jx+2m3E5pOtShgGVldlQU+VEba0bHe212Lq1ETt3NuPQgU48ebgbjz/Wjd27WrGpsw71jZWoqHTBZrdkouixBMKRmPpvlK5U6dDsH5hG7/UJXL40go/O9OOEtk6dGcClK6PoG5zB2JQP876w+tnV/u+UIqcMHrJOB2CMcH9CKk5R7THumfRh4MoYJoZm4PeEYNKey0Ke1/Kmhd1uQ1VepL2qyYVUTLtGlutkuUjWnnsSaZePiYhIHxhjp7XCQictxEInbSgWOklPjEnAGkip21Ii+0v6fBEMDM1qnxnUPp12hxUm7STVajWrAqN0RkqMe24uqPb5XGtS5JTuzcOPtOKTL23Dqy8fxFNPbsO+vW3YurlRTU13ux2LRtHlv0ei6MOjHlztnVB7ah49dg1vvn0F7390E+cvj6BnYAYT0z5VBJWi5nrs8iKdnFLkNLBjjUpENBzH1Ngcrp0ewOD1cczPBlAm+wI7barDU8ibKjW1VWqCe8fWJlTWuRENRREJxVXRlIiI9EM6Ok3aa3/aZEBKO5ckWg0sdNJCLHTShiqVQqcMIbL4Jbqe3Z+TdKcYJ60vl3ROSXFQhupI12YoHEWZy6hi7NLd6XTmprLbYbIY1ff6/ZE16eyUbq+2pkoc2N2mncxsxSP7O7B1SxOam2pQWenS/l42NThJCrBS34xEopjxBDAyOoeh3klcvDSMk2cGMlH0yyO4dmMcvTcnMTQ8i4nJeTVkKBCKIhyVuH4SyWSme2w9mPxRbUWynxEVv1QyhVgkjmAu0j7jx9SIBzMT8wgForBYTSrWLpF2l9uBMrcTFTVlcNc4EfCFMDEob74QEZGeMMZOq42FTlqIhU7aUKVS6JTipm3WAFM0ewfpTjFPWl8uGUQkRcPxSS/KHAY4HTa4nDKV3IgKtxMNDW6Uu+2ZactzAcQTqVXrhDSbjHDYLaitLccje9rwwlPbcERbHR31cGp/B6Gi6BKhD0Qx7wupuP3YuAc9N6dw+eoYrpwbUt2b75/sy0TR+6cxNuaFZ04myMfUf9+GkJP9eBKmYAzGMCPrVJoykfZ59F0exeTILALzmUi7Xd5IKXdo5wcG9XFFrQt1bZVqkvv104PZnyYiIj1hjJ1WEwudtBALnbShSqmj0xwwqFvSJ3MoDUu4hKucWdLdGNNOTIfHfIgE4nCaTaiqKVcdlGaT9nGFE7WVVlSUmTA1E1KDjFajgFhZZseWjjp88pW9eOLJreje2giH06pi6alUCn5/AMOjc7gm+2ueHsDRY9fx47cu4933e3Dm7BCu90xgUPv67HxQRezXI4q+XFLktE74YApGVXcDUamLhGKY0p6vvReH1aCw5s46WO0WGLWLYXm+R6MxXDnZz0InEZGOMcZOq4WFTlqouDdEJCJ6SGrSujcJS3iDuv0KkNrjciaIc5dH8ebRa/jw2HWMDs2qWLnLaUN7ez0efXQLXn1pN/btblEDg+RrQvbMbG6SIUZVqKsth9mcGUKyGCliSix+27ZG7aRlOz71yf04eKBTTVV3ldm1P9OI8cl5fHSqD9//0Xn84G/P4Y2fXcGx4zdx9tIwevumMDQ8h4lJHzyeIOZlgnyBFTmNwSgss0E1hEiGERGR9hqjPU9lunp1cxUqGypUJ2fuNSToi+DUW1cxeG1CfU5ERDoliZZYAiZfGGbtPI3nQUS0WljoJFpj0sVplDQqG7V0SW074E2pjk66TYqFQ2NevH+qDz976zIunB9UU8uj0ThcLie6u1vx0sd34ekjW7C5u0ENBpKBRVLc3LunDY8c6MTO7U1wZbsy88mnUgCtqnSqaemPP74ZH39xN57/2C60tdfAZrOovUKnpuZx8fIw3njnCr7/t+fx0zev4PjJPlzsncC4+rvIZPQC/b1lT+7NvghP7onySES9rNKB1i31eOylPdi6v0PtzyndnLKX53DPJN774QX0XxrL/gQREemZbN2Te9PXqJ27yfmRihAREa0QC51Ea8wcAKwzHEJExSkUjePCzUn87c8u43s/PI3hkSk1AEi6LcvLy/DMkR345Z8/gn2727BnVyueenIrPv/pg/j6lx/HZz91EE2NFbBa7+zqNJlMqKxw4MnHNuMXvvI4XnlhNza112W/Cvh9Ydy4PoZv/+VH+P73TuP0qQHtvkhBdWrez624uvbfQkQZUuSUAUR7n+7C5//Hp/DEx3egqbU6+1Xg4vGb+MGfvIu+yyNqGBERERWH3HmRddijbuVzIqKVYqGTaI2xo1O/1KR1bxLGBH95S5HiYiAcw6B2YnriVD/+9vWLOHN5GN5IWHvwG1BR4VQdnS9/fDc+8dIePPXEFrS3VqOh3o3mxgp0NVejujwzTEiiqfV1bhzY147PfuoAnn92O7ZvbUJ9bbkaRBSNxDHQO4n33ruOv/vpRZw6P6j9786qCe8bNkhohWSolXQssJOT6Da7w4pt+zuw74mt2HmgGzV1FbDJc197jbl5aQSXjvfi2pkB+L0hJPncISIqHtmki3R0Smen6vAMcoorEa0MC51EREuQuLrE1jlE6v78gQhu9k/jjbeu4dhHvbgxOIl5fxCJRAJlLhuefHwznn1qG/buboUju+G8zWJGZ1Ml6qtc2n0WNNZXYNfOFjz39HZ85tUDKt5eUenUvjOtpqgPDc3i1Imb+Nk7V/HWu9cwND6HYER/U8qluKmKnKyfE93Bpr02dGmvAZu2taGuvhZm7TVCxGNJTI14MDflQyyaec4v2PGCiIiKhJwnybY+sr0PY+xEtBIsdBIR0aqQ7s5QOIYzJwbwN98+hcsXejHn8Wa/ejeTyYjqahdqa8uxqaMOX/rcI/jy5w6prk8ZYCRyE9U/+OgG/uTP38f3fnoR1/qm1P16Pe+VuDpjWUR3SyaS8HlDaup6Pqf2erBHe1146pP78fiLu1FRWwajmaewRETFjOdLRLRSptdee+13sx8TrbujR4/i2KlTcO3dDZO7HAZj8Vy4SBegxS9dgdyfU6+ko9MS5rvID0KKj7FYAoFABP5AGMlYGnazBU6XDaYFE9ZlUFAimUB1bRm2bGlSQ4qamytRXi4T1Q2YnfLh+rUxHPuwB8dP9eNGzyRm54Lqz9cj1aHgDakTd6MOO1GJ1kMimkBEe20Ia8vpMsNiMavOTqvdoqavV9aWo7rJDWeZHalkWhVFUzrbuoKIiO7PkEprK6Vu09p5Ydqa6fInWigeC2J68hKOPHkIzz33XPZeKmUsdNKGKuZCp5rWPWuAidvL6E9a+/3F07CEUjBHWOh8UNLZGYnEMTLmRyQYgxkGuCudalq6xXK72GnQnu42hwkdnXXYsb1F7ecpXZ5SyPR6Q7h2ZRQfftCDN45eR9/ADMLhuCqO6pUxnoRl0geT9t9BRHeTfTfnZwOY8gQwPR+E22mG2WRSA8rM2mtHmfYa0dBWjfbtDdrHLqRTQCySKXRK0TOtvfYQEVHxkCKnUc6btGvElM2s3Rq0O7l3Cd2JhU5aiIVO2lDF3tFpDhi4v6MOSZHTOZ2EJZjiPooPJY15fwRj0z6EogmUldnVEKIcg3aiarVK8dOsPhbhcASjYzP48RuX8M57N3D+yih8gQiSRVDAMCRTqptTboloaQntotY37kXf+WHMjnlVp3hdU6UaTJR73ahpqETH9kY0balU3eJ+T1gNLWJ3JxFR8ZH4ugwqSjmtgIlbl9CdWOikhVjopA3FQicVItWNO5/KTMunhxJPpBCOxOEPRDE97cfsrB+Vbpvq7jSbTTBqz3kpXERjCYyMeXD63CCOvd+DcxeHMTLqhc8fQUrHXZw5MjnU7M1E1qU7gYiWlk6mkNCeKwFfGIH5MOamfZgZn0NYex0xW81wOG1qucrtKK9yoqquEnVN1SrOntR+NhgIZ/bRICKiosAYO90LC520EAudtKGKtdApxU1TTFshg3ZAzt5JumBIpmGKpmENyAlV9k56KFJ4mPMG0dc/jZGRWWzeVIuqShdsdqsaKhQIRDE+MY8zFwbxzrHreO+DXng8QVX81L209jiSyLo3rCaIsshJtHwSRZdC58TgLPqujiIkhU6LGRbtAle2ubBYLSgrd6G5vQ4dWxtRrr2uSEdnOBiBAUa1jYbE4YmISP8YY6elsNBJC7Hvm2gNmAOAdYZDiPTI6k/BOZXUfncsSK2FWDSBoZsz8EwHbk1UP3GqB3/+7Q/xNz84i2vXxnU9UX0hKXLKxFCJrBPRyiS114SQL4Jz713Hd/7gTXz7P/0UJ392Re3nmStkOlw27Dy0CZ/85afw8//4FTz5iT1oaq9RXyMiouLBaexEdD/s6KQNVawdneaQtoJ8h1GPLAHp5mQH0FqRAmYkHMesN4ThUQ/OnBvCaW1dvzGJ6ZkAotHienfAKJPW54JqEBERrZwMIpM3SkL+CPza68e8J4DZaR/8wYiKs1dUuWC1WVR8vbK6DJW1Faiqd6Os0ol4LIGE9hyURURE+sYYOy3Ejk5aiIVO2lDFWug0hWWx0KkraXDS+jpIJFKYmPFjaMyDGz2TOHthBMMjHgSDURUzLSYG7b/VGI3DHIhyABHRKpHXiVAggsmRWQz1TsLri8AiE9nL7OrrMtyszO1EY1sNmjrrUNtchXg0obbQkNefZDypiqZERKRf+TF2KXTeOs+SODuVHBY6aSFG14mINLlJ6xJdp7UXCsUw5w0hFksUXYEzh9EqorWTSqTgnw3i6ns38Dd/+DP8P//7j3D23euYnZzPfgdQXuHE1r3t+NL/+HF84bdexJHPHEBlvRtGM09/iYiKgTrXGvaoxW2CiCiHZ3pEq0iGEFm0ayx2c+qPIdvRySn560OKm4lEcXZWSSenDB6SE26DDFRi9xjRqpOnVVJ7DQnOhzAxMIPLJ27irf9+Em98+zg++MkFjA7NIBqLw1lmQ31LFXYc6MBTn9iLV3/hCex7agvc1WUwseBJRKRrmfRMQi0571KDH7X7iKi08QyPaBVlCp0GFV0n/ZBJ66rIyfMiWgUSn1KFzmAsew8RrSXZg9Mz6cPJty7jjb86jp9q69wHvRgfnkU0GlVvqNTUu7Hn0S688vOP4/DHd6GxvVpNbyciouIg512W2SCM4RiLnUQljoVOIip5nLRORFQcvDN+XDnRh+//4Vt490cnMDI0hlgs86aD0WhEeXkZ2jY1ontXK2x2q7qfiIiKg2wXJNsGMcZOVNpY6CSikmdIZGLrMpCI6GEYg9FMbIrDh4g2hMFggN1lwaZd9WjtqoO7ohwmo0l9TTo7o9EY5mZ8mB6bQyKuvfgTEVHx0F7nZdsgxtiJShsLnUSrRGLrxrj2AYtl+qH9royxNIxJ/tLoIWVPrM2+CE+siTaA0WSEs9yOpo4a7Hx0E577wkHsP7INdfW1MFvMiEbimJv1o//6KG6cH0Tf5VF1HxERFR/G2IlKGwudRKvEHACsMwYY2SCiG5y0TquFUSmijWV3WrHjkU34zN97Fr/8Tz6NvYd2oKqqMvtVYHzEg/d/egl//u9fx/t/dwG+uSCSvPglIipaPDcjKl0sdBKtEnZ06g8nrdNqkLg6uwaINo7DZUNzZx2OfGIv9j25BY3ttSgrdyKVTmN6woMPXr+An33nBN7/4Tn0XhzB3JQPCe0CWKLsRERUpBhjJypZLHQSUUnipHVaLRKP4gk00cZxltnR3FmL/U9tQ0tXfXYvzigmx2Zw+dRNvPnXJ/DOfz+Fi+/fQGAuhBS3KyEiKhmMsROVHhY6iagkcdI6EVFxMFvNsDmsMBgN6nOZsi7T1t/678fxl//hDVw6flNNYyciotLEGDtRaWGhk+ghSezZMg+YwpkLLNIHTlqnhyVdAdLJaQxFs/cQ0UZIJVNIJm5H0aVjMzQfw8yID2P9MwjOh1VUnYiIShRj7EQlhYVOooeUKXQaYOIbhEQlQ06QJQIlUSiJRBHRxjGZjDBbTDAYMm84GrTTW6vJDkPahCT34iQioizG2IlKAwudRERED0g6AiQCJVEoItpYDW3V2Lq/A3aHVX1utVvQsa0JNQ0V6nMiIqIcxtiJih8LnURUUmQIkc2bhCXMd3Fp5aQLQCJQEoUioo1lcVrhrHTCaM6c1hqNBti1+2wOC0wWI7KNnouqqC5Dx/YmbH6kE7Vt1ff9fiIi0jnG2ImKHgudRA9BYuvGuPYBax26YUwANm8K5hB/abQC2ZNjQ5InxUSFIhqJI+CP3DVNXQqdZW4HjKbs6a4hE3N3lNlQVVeOps4abD3Qjkf+/+39CXxc9X3v/39mRhrtqyXv+76CsQGb3YTVBEgIJJCkWdqmTdPcNLdNl7Q3uQ793962v/be3tvepKRt9kJCCAkBwhIg2GADNgYbr3jfd1uSJWsfzfzP+zsz9liWbFnWMmfm9eTxfUgazUgy+uqc7/mcz+f7WTTDrr7jMpt+9QSrHlXuyuABAJmNMnYgcxHoBC5Bzimz8PGAC54ByHyUOwHpZ/+Ww7Z26WZrajj773LI8HIbN22kK2WXUDBohaX5NnnOGLv1Y1fb73z9Hvv0n99lH/6dm2zxA1fZPZ9eaLd+Yp6VDilyzwcAZDbWdUBmItAJXAIyOv0lpynqytaDEX5huHjBxlbu/ANp6NTJJtvz/kFb/tx7tmvTgcSjZsPHV9mc66bYmMnDbdbVk+wD919l9/3ezbb4k9faNbdfZjPnT3SfqxpRbkOqS238lJE2+8opNnHWaCuvLkl8FQBAxkpW6rCuAzIKgU4AWUPl6ipbV4AauFgqcWIvJyD9tHsXqccP1dmyp96xze/utrbWiOu0PmzMEJtz3VS7/Lopdv1dl9tdv3Wdffh3F9miD8236fPGW8WQMgsGAtba2uqeX1JSbGPGj7Q5CybbiHFDLBBks04AyAbakoi914HMQaATAAAAvqbg5oFdR23f9iN27GCttbd1WElpgU2ZMdLu+ewNdtOH5rlO7Mky9qTa2jrbv/egtbW1uY+LSvPtylun2cTZIy03HCLYCQBZQKXrKmFXKTsA/yPQCQBAD3QUhS1SWWSxRGdnAOkjFo1Za3O7Hdh5zLa+t9d7vy3eeKgwz6qGl1t5VYmF83OspaXF9u08bKtf3WzP/nC5Pf2d1+2VJ96x7ev2W31No+Xk5tjQkUNs0qwx3hhteZ0CowCAzKNqHVfCTkInkBG4WgMAoAeiRXnxQGeygzOAtHNozzHbuGqH1dXUWyQSL2FXafrJmlN2eN8J27Fpn615fYu9+ovV9tS/v2q/+v4b9trP19ma17bakf01FlTDosICmzhjtF1+/TQrLiv0HiOrEwAAwC+4WgMAAEBGOHqg1ja/s9N2bNlttTV1riRdpelvvLzGnvjmy/bv//2X9uS/vmqrl262Ywe9z7e0W2N9k616eYPt2nymkdHYqcPtqptnWPWoinPK3QEAAJC+CHQCyBqRwoC1lgctFko8AADIKO2tETu6v9aW/nyN/eLfltkT33rFnv3uCnvtl2tt3Rvbbc+Ww3bsQK011Da6JkbRaMzt53loz3HbsX6/7dy435W95xeErXpUpc1YMMmGjatKfHUAAACkOwKdALJGpDBoreUhi+ZQhggAmaqxvsVWvfC+PfPd5fazb71iv35stb332nYXzFRws7NoR9QaG1psx8b9tnb5Vms42WTRaNQKivPs8uun2oRZo62gKI8SdgAAAB8g0AkAAICME41EXbamGhX1xJ5th+3tpRvtyKHj1tLSagWFYZs5d5zNXTjJJl82xvIKwolnAgAAIF0R6AQAAEDGicXi3dh7qvlUix3eU2ObVu2yI/vijYmKivNtxvwJdsv9V9mCxZfb6KnDLZQbtADJnQAAAGmJQCdwCbTXY1Q9CrjgAQDA16IdMWuoa7J1y3fYzo0HrfFUiythHzN5mF33wbl28/1XulL2EeOqrKA430I5LKMBIFMEYt5oi1ggEk08AsCvWKEBlyBSbNZWFbNoTuIBAADgWy1Nbbb5nV327vKttmntHmv2PpZkGfsHP3GtffQLt9rkOWOsqLTQfQ4A4H+B9g4LH663UH1z4hEAfkWgE7gEZHQCAJA51JioqaHFtry72159crWt+NVa27f9yOky9hFjh9hl10y2xZ+41q67e66Nmz3awuzdCQD+F4uR0QlkCAKdAAAAQIqDO47ayuffs1eefNvWLt/i9uxsOtViObk5NmzMELvpQ/Ns0f1X2RUfmGmjJg614rICC4W8ZTU3PgEAAAYVgU4AAACgk9bmNtu+bp89959v2GP/53nbsnavNZxsSnzWbPL0kXbXA1fbfZ+7yeZeP80KS/MtFGRpDQAAMJhYjQEAAACdRKMxa25stUN7jtu6N7fby0+stDeef892btzvgqDat3PYqAqbvWCS3XCvmhXNt/EzRlpxGXt3AgAADBYCnQAAAEA32lra7eiBWlvx3Fpb+tQ79varm2z/jqPWUNdowVDAho2utPmLptttDy2wK2+eYeOnj7DSyiLLyQ1ZwKel7AHvB88N51hBcZ4VlRa494NB6vIBAED6I9AJAAAAnEcsGrP2tg7bsWG/vfT4SnviWy/b6tc2WUPDKYtGo5afn2ejxw2zuz99g93z2Rts4W2zrayq2II5/lxqK0g7ZHiZ6y4/6+qJ7v1wvrovAgAApLfQkiVLvpF4Hxhwy5Yts9dXr7aiy2ZbqLTEAj7c2yrQ4V0QnAq4t0h/Qe/3FD4VdW+BixXoiFqovtm9BZBlYmaR9g5Xzt5Q12T1NafsZE2j5ebmWl5+2IpKCqywON+NsspiKxlS7NY1zadavddFXLA0XSkzNb8oz4aPGWIzr55gV98+0+bdMN2V5U+YOdL7t+Rbc1Or1RyuT7wCADJT1DsWasA/2tsa7diRDXbdtVfaokWLEo8imxHoxKAi0ImBRqATl4JAJwDt3akO7If3nbCDu44nAp25VuBdGKvEW3t0Vo2qsOETqr3P5Vhbc6t38ol5a5yAC5bq9Xo72IKhoOXmeT9vaYFVDC2xEeOrbMaVE+3au+bYjR+6wmZfPdkmzhhlw8ZWWlFFrh3ZV2u7Nx1OvBoAMhOBTv8h0InOKF0HAAAALlI0EnUZji89/pY98/3XbPlza+1Uoit7bm7IqoeW2o0fvNw++5d328f/9Ba7/t45NmrCUAvn5bjnDDY1Uxo5rsquufMyu/8LH7DP/rcP2kd+b5FdtnCqlZQUWzB58zlqFmkKWrSdPToBAED6I9AJAAAAXKRYTFkkEas5Wm9b1u61N55fZy/+5C3bsGqHNTW0WE4o6ErYx0waZrOvnGI33DXPPvjp6+2ez9xo19wxx8ZNG+Ga/ahsfCBpr0197+s+ONfu/Z0b7cZ7rrDLr51qE6ePtqGjK624tNBCITVSiv9cjd6/Zc2yLbZ3K9mcADJfsKnVcmoaLRChegfwK0rXMagoXcdAo3Qdl4LSdQBd0b6dJw6ftIO7jrnSdO3XqZbrChbm5ORYcUmRDR9dZRNmjLTx00daeVWJK3PXc0I5oUSH83zLzc913c2j3jFGgdSeUlm89gl15fN5Oe77dlUiryZDFUNLXXf4m+6dZ9ctvtyGj62y0vIiV4KfDG7GvG/e4V3k19c22s6NB+zZHy63fduPpvU+owDQF4LtHRbwRrQk32I+bSiXbShdR2cEOjGoCHRioBHoxKUg0AmgOwoCtja32ZH9NbZz0wGrOXrSBRqLSgtcFqX2xFRAUu+ri/mk2aNt/k3Tbcy0kVY5utImXT7WqkeUW244ZPU1ja7xUU/oa+o1oycNtSne16jyvoa+b/OplnOCnZXDymz6/PF2129dZxOmj4oHW7ugIOfJE6fs9WfW2DPff90FcNtbI4nPAkBmU4Czo6yAQKdPEOhEZwQ6MagIdGLAKVnFm2YB78Iv2B5/COgpAp0AzkeZmAp2xruyexdeB2pdw6Kj3tvm5iYLhbU3Zr7lF+RZYUm+lVYUueZFCkCOnjjURo6vsiFDS93rW5va3Ne6EHV5n3bVRLvy5pk2/8bpNmHGKBs5qdqqR5e7JkkKdipoqu9zxQ3TXCbnlDlj3PfvSltbux07XGNvPLfOVr2y0XZs2G9tLe0uyxMAsgGBTn8h0InOCHTivJqbm+3kyZN25MgRO3r0qB07dszq6+utw1vI5+SEztrDqTcIdGLABQPWkR90Qc7cZi7acJGiUQs1t1vAexughBNAFxQPjLR1uIzI/TuO2o6N++3w3hPW1NxksWDUgpZjUW/NEPP+y/EuoouK861qaKkbI8YMsarh5dbS1GZ13utPHIlnhXYnXBC2oWOH2I0fnm9Xf2CWzb5yoo2ZPMzGTh1moydVWzgvz2V8hrzvM3JCtV3/wcvt+rvmeo/nJr7CGclydQU5N6/ZZS88+qYrW9fPQowTQDYh0OkvBDrRGYFOnNe2bdvs5Zdfth/84Af2wx/+0H7605/a22+/bW2t7VY1ZKi3OC90e0/1FoFODJacphiBTly8YMCihWEX5Aw2kxIM4MKUUdnU0GwHd52wrWv22471B+zE8QaLeceTiiElFu5UPq6u7OrOriZH29fv7XKvzaTRM0bYvFtm2Q13zLERoyvdTWjRjWit0RTcnDR7pM24erzNvmai2x+0qKTQPaezZLm6MjkV5Dy487jLKCXICSDbEOj0FwKd6IxAJ7rU2tpqe/bssRdffNEFOvPz823EyJE2ctQoa21psYMHDti+/ftswoQJVlxc7BbUvZEJgU7H+7EDsYAF2b7KNwh0oleUwR4KuiBnqOnCJaUAoCClgoitTe3WWN9i9bVNVne8wY7sr7UDO47Y8UMnXWl5kXdRrWZBQW8tlGwqVF5dYmVDy9zHqp/RjWYFPvU8lbvPXzTDNRQaM6Ha8gvC3teJ2IkTNS47s7CwwPIL89weoWVDiq2iqtQFObtasymgqTL7Fc+vs9WvbnKZnHrMBVkBIMsQ6PQXAp3ojEAnutTQ0GDLly93gc7333/f7r77blt855228Jpr3EL73TXv2spVK23u3LlWXV3lLaa7zg64kIwIdHo/cjTfexPx/qCae1/Gj4FFoBOXItTYRqATwEVLNiyqPVJv+7cdtq1r99iJQ3UW7YhZ+ZASyysMn24QNHRUpU2+bKyVVpdYcWmB5eWpS7u5z5eUF9q0K8bZNbfPsfnXT7Xc3BxXYn7iaJ29v26HC6iGAiEX8MzxPldQkG/hcLjbG9NqnLRlzR574bE3KFcHkPUIdPoLgU50RqATXdJenI8++qjbj3PevHn2wAMP2NSpU626qsq9rampsZ07d7pMz6qqITZ69OjEKy9OxmR0ekLNBDr9hEAnLgWBTgCXzDsFKWNSjYeOHqix+tpGF9AcPrYq8QTvXOVdZKu8fdzU4TZj/nibdc141119zKRhdttHF9ikWaNO77e5c+N+l5H50k/eto1v7bL9O465fdQLivNcI6Lz2fj2Tlv+3FrbsfGA69ZOkBNANiPQ6S8EOtEZgU50Sc2HtCdnQUGBXX/99S7YWV5ebrm5uVZUVGR79+613bt3W0NDvY0dO9ZmzJiReOXFIdCJwUKgE5eCQCeAPuGdhlS2rgzKUyebrOlUq51qaLGmZu8Yk6N9NpWJmeNK14u9i251aVfm59CRlS7gWeB9vr0t4srOVy/dbG++sM72bTtiJ4+fcvtt1hypt2MHa+34wTqr8x5ramqyjli75eWFXYl8UiTSYTnhkBUPCVteQdiikdjpMnkAyDreJZ32Y9deyrFO+ygj/RDoRGcEOnGOaDRqBw8edA2IRo4cabd84BYXzMzLy0s8w9zn9+3b5wKeU6ZMcYHQi6FSKn2fpUuX2vJ33iHQiQFHoBOXgkAngL4U7YhaQ22THTtYZ4f2HLfGplYXBA1566KW5lYXDFV2Zl5+npVVFFvl0FK3T2eH9zplgm5YudNWvrTB1r+13T1XQ4HTAzuPus7vB3cdtdpjDdZQ32AtbS2WF85zZezqxq6vW15VYmOmDLWh48qssDjf+97xsndd7MfXbN77nDIBZIlk08lYbo5Fi85cAyM9EehEZ+Ri4xwtLa3W0NDoFs9Fhd5iurLKWwyffSdLe3KWlZVZJBKx9vaL7zysIGdDwyn3vQAAAGDWWN9ke94/aK//fLX96P971v75qz+xn/zLS7b8ufdsz5ZD1tZy9pqrob7Zdmw9ZC/9bKVtWbsn8ejZ9DX3bjtib7+y0V58dJU99a/L7bkfvWkbV+9wazGtyUR7eI4eO9JuWDzfPvHHd9in/+peW/SRq1wHeHWCBwAA8AMyOnGO1tY2l7H57LNP2/jxE+3aa661isoKt9F9krI5d+zY4Tqzz5kzx6666qrEZ87W2Nhoa9ascZ3bf/nLX7pSdQ1lcmqsWLHcDtbWkNGJAUdGJy4FGZ0A+oOaFSVL2RWgPFkTL0FX6fnB3cds95ZDdnjvCde1veZovW1YtcNWvbzR3l+9yxrqGrvcW1NfsyPSYa0t7dbc2GqNJ1usvqbRThyps6P7a63+RJPrCp+Xn+uNsBUU5bs9PVUmX1iaZ6GcgO3bdtRavNcCQDZRNicZnemPjE50RkYnzqE9m+JdOQMWjXZYe6Q9Xr6UQnf/lc2pcieN7rS2ttr27dtdUPNnP/vZ6fHkk0/a008/bVu2bEk8EwAAAEnqxN7S2GaHdh+3dW9us1eefNuefOQVe+b7r9mrv1htK3611pZ5b994do0Lhur5F6LnNJ9qddmhb76w3n71gxX20hOr7N3X3rf9O45YW2vEPS8UClp5RZFNmjHCZlw13gqKwu5xAACAdEegE+fIz8+zkpIit8htbDplNTXHraMjvvBN0mb2J0+etJycHNegqDulpaW2ePFi+8Y3vmE/+clPTo/HHnvM/uM/vmP33HNP4pkAAADojjIz29s63L6bq3+zyZY9vca2r9/vHtPnLlY0Et8XdPPbO23pL96x3/x8tfdxY+KzcafqWqzmYINFvO8BAADgBwQ6cQ5ldObn59vw4cOtra3Ndu/Z7TIzU504ccIOHz7snlNZWZl49FwKhOrz48ePt1mzZp0es2fPtiuumGsjRoxMPBMAAADno4Bma3O7NdQ1ufJ1laL3JsgpKtZRyXpjQ4sra1f1TuevdGDHUVu3Ypv7PgAAAH5AoBNdUqBz2rRprkR9/fr1dvToUTt16pQ1Nzfb8ePH3R6dR44cscmTp9iIESMSr+o5BVMLCwssHO4+GxQAAAD9Tx3cw/m5FotFTzcnklP1zVZ7rN51Yi8oyrNAkL3IAQBAeiPQiS6VlJTYTTfd5DIyX3rpJXvllVds3bp1tm37dnv22WftjTfecI2GFixY4IKdAAAA8KejB2psy3t77PjRWmtpOZO9eeXNM+23/+peu/MT19ik2aMtNxwi2AkAANIaXdfRJWVcFhcXu5J17cV56NAh27hxo61Zu9a2bt1qxUXFtnDhNXbLLbfasGFDE82LLp46sL++ejVd1zHg6LqOS0HXdQCZJNoRdWXswVDQ8gtzrXSI9moPWX5B2ErKCq2kvNCGjq6w4eOqrbA4L571GQzYtPkTbNiEKisbWmZDRlXY+OkjbMqcMTZu2gjvawVcJ/guW8EDgA/Qdd0f6LqOzgh0okvJvTXVTCgvL88FN9U9ff++fVZYWGg33nCTfeS++23M2FHe53vfiZNAJwZLqC3mDbMA11/oBQKdADKJYpFqOHTi0EkL5gStpLLAQsGQa0yZVxC2iqGlNn76SJfVmVfgXfR7yx2Vsy+8a66NmznKqscOsdFThtvM+RNs7sLJLtjZ4h0jD+853utmSQAw2GL5uRbNy3E3dizAdV66ItCJzgLRKCsPdK+lpcXtzamsTjUmknA47AKgGno/cAkH/Ycfftj+5yP/atWffMjCo0ZaIMc7kfhUuEaDE6BfBDpiltMcs8KjHRZs5zCIi5N7tMFyjzUkPgIA/9N6Tnt1Kptz9KRqu2rRLJt7/VSbOGt04hlmHR1Ra2poseZTLdbe3mFFZQXudXpccnJC3ojftH7jhXX28hOrbNu6vd7zaWYEwH9i3vEsWhC2tuGlFgv79zo10zWdOmKb1v3Y/uwrf2BLlixJPIpsxh6dOC81JaqqqrJJkybZjBkz3ND71dXVLtPzUoKcmaajwKy9zDsh9q6KHwMsFgpYNDdgMY6CAAC4ruvtbRGrPVpv29cfcIHK5x99w577zxW27u2ddsJ7XBme8TL2Shs1odrKK4utrKLIKqtK3Cj1PqdMT43yIcVWOazUBT8BwI8CkagFvOMiFWCAv3CJD/SReKAzRqATAAD4VrQjZo0nm23T6l32ypNv21PfWWavP/eebV6zx44drLNIe0fimedXWllsw8cMsVyyoAAAwAAi0AkAAADgHG0t7XZ03wlb/tQ79uQ3X7Jf/PurVtvDbTvGTh1u826aboUl+YlHAAAA+h+BTgAAAADn0Fb+ba0RO3m8wfZuPez226yr0b7t7YlndE8d2yurS23YmCFWXFaYeBQAAKB/EegEAAAAcF7Nja124shJO7D7qNXXnUo8en55hWGbNnecDR87xALqWgwAANDPCHQCAAAAuCDt3bnyxU22a+OhxCPnV1ZZbIt/61q7/LoplhsOEewEAAD9jkAnAAAXqaMobJHKIovlcBoFkD1amtpsy5o9dmTvicQj55eTG7Ihw8pswW2zbfEnr7My77gJAADQn7hCAwDgIkWL8uKBzhCnUQDZo70tYof3nLDDe0/YyROnrCMSTXzm/GZfPcnu+eyNNn3eBBs5scqGjim36lEVrjN7XkEumZ4AAKDPcIUGAAAAoMe2r99vy59ba6dONiUeubDqkeX2ua9/2P7gb+6zj/3xzfbAFz5g1955mY2aMNTCeTmJZwEAAFwaAp0AAAAAemz/zqP21q832Ou/Wmt7tvZsv87ccI6NHF9l0y4fb3OvmW5X3DDNFt422+bfNN0Ki/MTzwKA9BLoiFpOTaMFG1sTjwBIdwQ6AQAAAPRYzZGTtnHVTnv152/b+pU77GRto3V09KyMvaSk2EaOHm6jJw6zyXNG2+TLxlheQTjxWQBIL4FIPNAZamxLPAIg3RHoBAAAAHBR2lrabNfmQ7Zy6WZb/ptNdqq+OfGZnjtx5KTt2XLI2lrbE48AAABcGgKdAAAAAC4onJ9r46aNsEUfnm8f//Iddv/nb7Zrb59jYydUX9Q+m63NbbZjw357d9n7tub1rdZ0ipJQAADQNwh0AgAAAOiWuqKXVhbZ+OkjbN5N023xJ6+1T/7JYjcWP7jQ5swbbwWFeYlnnxGLxaytLWItLW3W3NziRt2JBtu/46itXrrJVr2yyTa/s8ta2PsOAAD0EQKdAAAAALqkIGduOGQL75xlv7vkXrv3t2+wybPHJD57fu3tHXbsaL3t23PIdu3Y7cbrL7xjT3zrZXvp8ZW26/2DiWcCAAD0DQKdALJWNMestTxokcJA4hEAAJAqFApacVmhjRw31CbNHG3VIyusoPjc7E05drDW1rz2vj31naX24//7ov3EG0/926v2zHeX26++/6Yby595zzat3mVHD9SSyQkAAPocgU6gLwXMorlmsVDiY6S1WChgreUhay/gUAgAQFcCgYCF87zFTSBo7a1Ri8XMdVhvbmq144fr7MCuY7Zn62E3NqzcYcueftee/PZv7DEFOv/51/ar771mLz+2yl59fK0b61fstOOH6izS3pH4DgAAAH2Hq3ugDylDsK0qZpHixAMAAAA+poDkicMn7b2VO053V2/wxrbNB+2Z779uj3z9Z/Z3X/ieGz/6x+fsrZc22MnjpywaiSa+AgAAwMAh0An0pdMZnbHEAwAAAP6lhkLtbRHb8/5Be/0Xq+2Jb77sxgs/WmGrf7PJtqzdezqj8/DeE1Zf0+iCo3odAGSKYFOr5XjHtwA3cYC0R6ATAAAAwHnVHKi1dcvet59/+zf2C28sffJt27X5oJ062ZR4BgBkrlBjWzzQ2UGgE0h3BDoBAAAAAAAA+B6BTgAAAAAAAAC+R6ATQNaL5Whv1YDbYxXoqZg3X2LhHG/+cCoFAADIZFrvuXUf1wtA2uPqDEDWaysJWtPQkEVzWLmg52K5IWsbXmodpQWJRwAAAJCJtN7Tuk/rPwDpjUAn0A86Cszay8xinAd9IRYKuIzOGEdEXIyAN2fCORYpzbdIZRGZnQAAABkqFopndGr9ByC9cVUG9IN4oDNGoNNHVIbigp38znCRokV51j6kyKIFYYKdAAAAmSRxY5s1HuAf/LUCgEdBzqbqkCtjBy4WZewAAACZhzUe4D9c0QP9RJmByupUdid8QBmd4YBFQ5SjoBeSd/tDnFYBAAAyBc0nAf/hrxXoJ/FAp8rYY4lH4Ad0YMelSHbkZP8mAAAAf0uu6+i0DvgLgU4ASEEHdlwKOnICAABkBtZ1gD8R6AT6GR3Y/UUd2CMFAWupDFqkkGAnLo7u/KspkZoTdRSFE48CAADAb+i0DvgTgU6gn9GB3X8U7GwtD1l7AYdIXDwFOyOVRS4LgMUxAACAz9BpHfA1/nIBAOgHlDsBAAD4D53WAX8j0AkMADqw+5NK11vLg2TjolfYwB4AAMB/6LQO+Bt/ucAAoAO7P0UKg66EncZE6C0WygAAAP7BjWrA/7jyAgCgn1D6BAAA4B9sPQT4H4FOYADRgd1/ojnmytfpwI5eSWxmHynNdw2KyOwEAABIX3RaB/yPKy5gANGB3X+SHdjbSoIWzfUWPKx50AvRojxrH1Jk0YIwwU4AAIB0Q6d1IGPwVwwAPaBAZ9NQ9utE71HGDgAAkJ5YpwGZg0AnMMDowO5PyuxURmeMoyZ6K5kpEGISAQAApBMaSAKZg79iYIAlO7BHimMWzfUeIEHQN7QAcsFOth7AJUh282TvJwAAgMGXXJvRaR3IDAQ6gUESKTZrq4q5ZjfwBwU5m6rj+3UCvUU3TwAAgPTB2gzILFytA4NEWYFkdPqMMjrDAYuG+KWh95Q1oKZEak7UURROPAoAAIDBQKd1ILMQ6AQGkwJnufGgJ/wj5q2D6MCOS6FgZ6SyyGUQsLAGAAAYBHRaBzISf9HAIFLZusrXVcYO/6ADO/oKpVIAAACDg07rQGYi0AkMptMZnbHEA/ADdWCPFASspTJokUKCneg9ytgBAAAGB53WgczEXzSQBtiv038U7GwtD1l7AYdRXJpkGXu0MC/xCAAAAPqT1l90WgcyE1foQBqgAzsAAAAADAy2DwIyF4FOIA2Q0elfKl1vLQ+63yFwKVS6rsxOyqcAAAD6F53WgczF1RSQLrxzLB3Y/SdSGLSWipBFCgh24tJEi/LcXp3as5NgJwAAQD+g0zqQ8fjrBtIEHdj9K5obsKbqkOvGDlwKun8CAAD0H9ZaQObjqhxIF6czOunA7jv63YUDFg1R+oJLlMgyiJTmU8YOAADQh7RNENUzQObjrxtIM+zX6V+xnHh2J787XCqVsbtAZ4jTNAAAQF+IFibWVwQ5gYzGXziQZujA7l8qXW8aGvJ+d0Q6AQAAAAAYaAQ6gTRDRqd/xUIBl9EZ48iKPqBsTmUdqMwKAAAAvaMMTtZUQPbgchxIR4F4sJMu3v4Tc7+7AL87XLLTi/LSArdvp/bvBAAAQM9pPaU9Od3enEV5iUcBZDICnUAaogO7f9GBHX1NgU51B1WXUAAAAPQc6ygg+3AlDqSj0xmddGD3Hf3uwgEX6GwtD5LZiUuWmolAyRUAAMCFJStjIqX5VMYAWYZAJ5DG2K/TvyKFCnTSmAh9gzJ2AACAnkvudU65OpB9CHQCaYwO7ABSUX4FAAAAAN0j0AmkMTI6/U0BapWvRwr5BaJvKLNTGZ1qegUAAIBzaasfZXMqqxNA9uEvH0h3geR+nYmP4RuxUMCVr7cXcKhF31GQ0wU7c5hXAAAApwUCbo2kChgX6GStBGQl/vKBNEcHdgCpVLau8nUt4gEAABDHGgmAEOgE0t3pjE46sPuVStfpwI4+k8hWUBdRshUAAADi5ertQ4osWhBmbQRkOY4AgE+wX6d/qQN7S0XIIgUEO9F31EWUBT0AAMhqlKsD6ISjAOATdGD3t2huwJqqQ9ZWwmEXfYcSLQAAkM1YCwHojCtuwCfI6PQ5bUEQDlg0xC8QfSiRxUBXUQAAkI1o0gigM44GgJ8oWEYHdl+L5cSzOwlYoy9pca9FvgKfAAAA2SC5/lGwEwCSCHQCPkIHdv9T6XrT0JD3u2RFhr6jci2Vbal8CwAAIBuw/gHQFQKdgJ8EkhmddGD3q1goYJGCgLVUBl03dqAvKKNBTYnUnEhdRwEAADKV1j1qPBQpzaeiBcA5CHQCPsR+nf6mYGdrecjaCzgEo+8kF/3KbmDRDwAAMlHqzd1oUV7iUQA4g6tswIfowA6gO5RxAQCATMU6B8CFEOgEfIiMzsyg0vXW8qD7fQJ9hTJ2AACQqWIhGjACOD8CnYBfeed2OrD7W6Qw6ErYaUyEvpYsY48WUtIFAAAyQCAQ77DurXEA4Hw4SgA+RQd2AAAAANlApeoqWVfpOgCcD4FOwK9OZ3TSgd3PFLBW+Tod2NEfVLquzE6yHwAAgF9pPeOaDxWEWdMAuCCOEoDPsV+nvyU7sLeVBL3fo/dL5PeIPqRupFwYAAAAX0qUqyuLkxu3AHqKIwXgc3RgzwwKdDYNZb9O9D1KvQAAgB+xhgHQGwQ6AZ8jozMzKLNTGZ0xjsroa4lsiEhpPtkQAADAFyhXB9BbHDEyWFtbm+3evds2b95sGzduPGfoczU1NRaJRBKviItGo9bS0mIHDx60bdu22aZNm2zLli3u+ceOHTvn+UgDgXiwkw7s/hZzv8cAv0f0C8rYAQCAX0QL87hBC6BXAtFolE4mGUqByYcfftgFKpuamhKPnjF//ny77bbbbPHixVZZWZl41LznNnuv3WOPP/5je/vtt13As6SkxKZMmWJXX3213X///VZdXZ149qXRz/c/H/lXq/7kQxYeNdICOdRf94r3VxyMmOXWBSz3ZOIx+I9+j+0xy6/tsLy6aOJBoA/FYhZo77DcE42WU9OYeBAAACC9tFeXWPvQksRHQPeaTh2xTet+bH/2lT+wJUuWJB5FNuP2SAZrbW11wU69nTBhgt188812552LT49rr73WJk+ebHl5eYlXxK1Zs8Z++tPHXYC0rLTMFi64xubMucxOnTplr7zyij333HO2devWxLORFk5ndHLfwtf0ewwHLBpiHwL0E8rYAQBAGtPaRGsUla4DQG9whZMFJk6caHfffbf90R992b761b88PX7rtz5lCxYssKKiIvc8lawr8/Ott960X/ziF5abm2u33nqbffGL/8U++9nP2LRp02z//v32y1/+0tatW+deg/TCfp2ZIZaj36P3S+T3iH5CGTsAAEg3WpNobeLWKN5aBQB6g6ubLBEMBq2kpNjKykpOj/z8s08e2pdTe3JqtLe32/33P2C33367TZ4y0WbNmmV33HGHK3XXnp87d+5MvArphA7smYEO7BgIdDIFAADpRGsSrU20RgGA3iLQmQWUhfnqq6/av/3bv9k3v/lN++EPf2jLli1zj6dSifv27dutvr7eKisrXCbosOHDrKCgwGV9TpiggOdsFwTVvp16vRoeIX2Q0ZkZ1IE9UhCwlsqgRQr5ZaKfUMYOAADSQLJcXWsSrU20RgGA3uKqJoOFQiErKyuzSKTDduzYac8//7w98cQT9tOf/tSeeuopW7169Vld1BW03LdvnwtkDh8+3EpLSywcVtQsrqKiwkaPHmO5uWHXrX3Pnj29DnTGYjHr6Ohw5fLoY966gA7s/qdgZ2t5yNoLOEyjf6WWsUfzcrjAAAAAA4ZydQB9jSvoDKZO6TfccIP99md/2776F39lX/v6f7fP/d7v2RVXXJFoOPRTe/LJJ622ttY9P7lHZ05OjpWXl7u3qVTqXlJSZKFQ0AU4m5ubex2o1OsaGk5ZS0tr4hH0FZWtq3xdZewA0BPJMva2MZWUjAEAgAFDuTqAvhaIRqO0aU5Tu3btso0bN7o9MRWA7ImKikq79ZZbbczYMS4guWXLFguH86yycojl5ISsvv6k+7ovvvii+7qFhYW2ZMkSmzJlqp04cdz+4z/+wz2uTNCvfvWrNm7cuMRXjtPP89BDD9nMmTPtd3/3d23hwoVWWlqa+Oy5GhsbbcOGDe5rKgM0SYFOBTlXrFhub+/YbtWffMjCo0ZaoFNwFb0XajbLORXwhveH3pF4EL6T0xT1Rvwwndt85n2gvwQiUQvVN7u3gY4z7wMAAPQFdVSPFsazN937ZHLiEjSdOmKb1v3Y/uwrf+BiGwCBzjT21ltv2a9+9Zy99NKvXal4T4wdM9b+9E//3ObPn2fVQ6sSj57t1KlTLqPz29/+titf/9a3HrErr5xvjY2n7Hvf+56tX7/e7cn59a9//axAp4KTClp+4hOfsNmzZ9vnPvc5u/rqq88b6NTPrZL5l156yd55553Eo8nS9agdP37M6nNCBDr7SbDdLHw8YKEWgp2ZIK+uw/JrohaMeIdtjtwYAIG2iIUP17u3AW/OBdq9A4l3/AYAALho2h88N+TK1LUnJ9AXCHSiMwKdaez48eN24MAhO3LksLW192wvTAUo58yeY+VlZZaT23XQsK2t3Y4ePWb/+I//YL/61bP2//3dP9q1113jzYaY/fjHP7YVK1a4QOTf//3f26RJkxKv8g4gTc22Zs1a+9znfteuuupK+/znP2+XX365FRd3XyOt/T/V3EhD2Z1J2p+zoaHRvvOdf7dHn3+OQGd/8f66gxGz3LqA5Z5MPAbfCnTELKc5ZoVHOyzYzqEbA8A7Fyi46YKcKUFPAACAi6V9wFWmrj05aYKIvkKgE51xdEljpaVlNnHiBJt/5XxbuGBBj8bcuXOtoqK82yCnRKMd1tTU6PbZDASCll+Q7z0/18LhsI0Zo2ZDuXb48GGrr29wQdEk7eW5f7+aFbVZZWWly/bUa85H+3zquePHj7dZs2adHsoIveKKuTZixMjEM9EvEo2JIsUxay/zFhdsfeNrdGPHgEt0ZleTomSjgPbqErq0AwCAHkl2VNf6Idn8kDUEgP7EESaNqeN5SUmxDamstKqqqh6NivJy12090h6xpsYmVzqubMqW5hZrbW21xqYmlym6YcN673MnXGf18opyKyjIt7y8PJs8ebIrRa+pqbWdO3fakSNHXNMhZWPu2rXTNm7c4AKhI0eOtNGjR18w0NmdYDBohYUF7t+I/tdRYNZeHrOOfIKdfpfsxt5WErRobsAFs4GBcPpCZeiZCxW6tAMAgHN0daPUWz9woxTAQOAok6Fqa+ts06b37cUXXrQ331xpu3btsf0HDrimQEuXLrXvfve7tnfvXtdUqLp6iOuonp+fb1OmTHFDwcwnn/yZ/frFl2z7NgU4N7oGRtprc8aMGTZx4sTEd4Jf0I09syjQ2TQ05P1eCTBh4NGlHQAAdId1AoDBFFqyZMk3Eu8jg5ysq7e9e/baa8tfs3fffdfefvttW7Vypa19b63rut7S0mLz58+3xYsX2/Tp062goMACgYALcKrPRLJ8fc/uXbZu3Tp7zxv79u112Z4f+tCH3GuHDBmS+G69t2zZMnt99Worumy2hUpLLBAk9t5vAolsTv0vDgbc3p3adw8+5f0O9fvU0O9RjaeAAaMMzlAwnpWht6FAPMOzKC/eOdX7dFCNiwAAQFbQmqCjvNA6ivO94a0HvLexsLdQ9dYJVH6gP7W3NdqxIxvsumuvtEWLFiUeRTYjqpShcnNzLJwXto6OiO3evctWrHjdli1bauvee891XV+wYIHdd999dvfdd1t5eXniVXFXXHGFPfjgQzZr1kyrb6i3t1a+aevXr3NNh2655RYXHJ06dWri2fAbytgzB2XsSAdnlbQnRkdpQbxcTaXtlKgBAJCZKFEHkIboup6h1O28ubnF6upq3R6b7e3xdC81B9K+msrgLCkpcV3aO/PmhGtUpP09m5qa3Pva91N7eOr5FRUV7uv0hYcfftj+5yP/Stf1gaYMQLqxZwy6sSPdBCJRb15G3fs5NY1uAACAzJLsoq63sYD3sUrUyd7EAKPrOjrjNkuGUiBSjYzURV3Zl8lu59OmTbMJEybY8OHDuwxyihoFab9ONRxScyLt46nXqXN6dXV1nwU5MYi89Ye6scdCBMUyAd3YkW6UxZHM6IyU5sc7rXqjo6h3DewAAEB6OF3JkdJF3VVw0JwQQJog0AlkMZWuK+BJybP/UcaOdKU9OylpBwDA/9yNTErUAaQ5jkpAFlMHdnViV0d2ZAa6sSOdKdDpOrB6Q+8DAAD/cOdxuqgDSHMEOjHoAqGY5ZS0WSg/kngEA0UZnWpK5JoTEXPICKll7M1DQtZaro7YiU8Cg4ySdgAA/EXn6OT5WuduStQBpDsCnRh0gWDMchXoLIxYMDdKye0AUxCsvUzZnTHK2DNEsoy9pcobFSGLFBDsRPqhpB0AgPSUemNS5+jk+VrnbgBId1xNIG3kFLVbuLLFgjnxTr0YWJSxZybt19lUHd+7E0hXlLQDAJA+OC8D8DOufJE2AqGoBXM6vHfoBD4YKGPPUAGzaDjgAp2UsSNddVfS7srkaHQAAEC/61yinjwvcw4G4DcctZBeAt6kzIm6fTsx8Chjz1yRwiBl7PCF1JJ2N4YUuQ6v7mKLfcEAAOgzlKgDyEQEOpFWFORU+brK2DF4KGPPTJSxw4/U2VUdXl0JHZ1eAQDoM5SoA8hEXO0ivSijMzfqAp25pW1kdg4SytgzFGXs8KNAwGVyuoyTgrDL8KSkHQCA3qFEHZkkUhhvwsp1DVJxNENaCuVHLLe01UJ5EYKdg4Qy9sxFGTv8ShdhCnBS0g4AQM9Roo5M4pJy8gJuKIGjpULXNKwDcQaBTqQtytjTA2XsmYkydvgdJe0AAPQMJerIJLp+aRyR4wbXMugKswLpizL2tODumFHGnnkoY4ffUdIOAMB5JSshKFFHJtD1iq5bdP2SzOgkkxNd4SiHtEcZ++DTSYUy9sxEGTsyASXtAAAkdHEjkBJ1+J2uU3S94q5bvOsX4HyYIfAFytjTA2XsmYkydmQSStoBANmM8yAyka5TdL2i6xbgQriqhT94xzPK2Aef7qRRxp6BvL+vZBl785CQG+pgCPhSNyXtyaFuswAAZJLTlQ0611HZgAySWq6u6xUqC9ETBDrhK5SxDz7K2DOXK2OvCrnhFhO6Y8rvFz52Vkl7YqgJgwuC6gKQfcoAAH7V1Y097zzHXtXIFJSro7eYLfAdytjTA2Xsmc2VhwwNeb9fIp3ILHSeBQBkAkrUkekoV0dvEeiE/3jHOcrYB5/usJHRmbnUwTBSELCWyiBl7MgoynJJZnSqCy0l7QAAv6BEHZlO1x3JrbQoV0dvEeiEb1HGnga8k46CnQp6IvMo2NlaHl9kdOQF3OB3jUyiLrSUtAMA0hol6sgG7roy3jMguZUW5eroLWYOfI0y9sGlsnWVr6uMHZlLC47GETlu6H0gE1HSDgBIR5SoIxtouyxtm8W1BvoCswj+FqCMfVAlMjrVmEgNisj2y0zK7ExmdGrxoc6H/K6RaShpBwCkG52DKFFHplO5utsuq0DVY8xvXDoCncgIlLEPro4Cs/bymHXkE+zMdK4zuzofFhDsROaipB0AMFhSb7zpHESJOjJWSrm6tssiyIm+whETGYMy9sFFGXv20IJEHRApLUE2oKQdADCQOO8gW1Cujv7CjELmCFDGPqjcHbl4GXtbZXwo0xMZSL/rcPzua7IrIp3Zkam6K2nXIMsGANAXXIl68tzinWuS5x3OMchUlKujP3HkRMahjH1wKbjZVhkfCnoq+KnAGDKPK2NPdEVU0FOZnvyukclSS9rdYN80AEAvdS5RT55bdK4BMpG2vTp733/K1dE/CHQiI1HGnh5Uxq5ydpW1I7NpsaLSE5WgANmCTrgAgN6iRB3ZRtcLjSNy3ND7QH9hdiEzBShjTwfurl1+olER67eMpruxKj1RCYpK2enMjqwQCLhMTpeRUxDvjEtJOwCgO5SoIxvpmkDXBgpuJjM6yeREf+KIiozmythLWi0QiiYewUDTia29jDL2bKAFi0pQXDk7ndmRZXSRqgAnJe0AgFSUqCOb6VpA1wTu2qCQ8BMGBjMNwICgjD270Jkd2YySdgBAEiXqyGZueyvvmsDt5Q8MEK5AkfFUtp5b0uayOzF4dDePMvYs4q1l6MyOrEVJOwBkvWSmPyXqyEap5eq6JqCqDwOJIy0yngt0lra5/Tq1bycH2cFDGXv2oTM7sh0l7QCQRbq40UWJOrIN5eoYbMw6ZA0FOtWJXR3ZMbgoY89OrnSFzuzIYpS0A0Bm4zgPUK6OwUegE1lDmZ2hvIjllrZSxj7IKGPPTnRmR9ajpB0AMs7pzH11UydzH1lKW1Qlt6uiXB2DjVU1sgpl7OnjrDL2sPZzjD+GzEZndiCuu5L25CDwCQBprKsbV97xnBtXyDre9bQyNxXcTG5XRbk6BhszEFmJMvb0oTL2luExN/Q+sged2YG4s0od6cwLAGmPEnUgTltSaWsq1vNIJ8xGZCXK2NOHsvmSGZ3K7lSWJxl+WUJ3gOnMDpydGZQY6tLryiC90VHkHSABAIOKEnXgbFq3a0sqbU2lqi0gXRDoRNaijD39aL9Ot29nPsHObEJnduBc6tLrytq9oezOZACUkkgAGECUqAPn8tbpyXJ1bUlFkBPphqMzsh5l7OlFndjVkZ0y9uykBROd2YGzKdBJSTsADDxK1IFzUa6OdMfMRNajjD3NuDuElLFnKzqzA+dS1lAyo5OSdgDoe2eVpacOStSBs1CuDj8g0Al4KGNPP5SxZy86swPd666kPXVQTgkA3ehiT2Q3UsrSUwcl6kCCS0ahXB3+wFEbSEEZe3qhjB10Zge6l1rSnjoobweArp1Vip46KEsHzotydfgJsxRIQRl7mnF3Diljz2qaA3RmB7qUWtKeOlLL2zsPspMAZBNt8XHWcTClFD11UJYOnEvXXtpGSutvytXhJ6x0gU4oY08/lLGDzuxAz6WWt58zuMgHkIG6u/GjDPfUYyA3e4Ce0TWXto/SNlJaf1OuDj/hKA90gzL29EIZO5IU6KQzO9A7lG0CyERs5QH0LbfervbW20ouAHyGQCfQDcrY04x3jqWMHaK7yXRmB3rpQo04Uks8vUH2E4B0ck4pevJYVZp/7nHNGxy/gIuTLFd3FVRh7wKMOCd8iCM/cB6Usaef1DL2aDge/OT3kn3ozA70LQUDFNRMLfF0g1J3AIOgp6XoyaEtOwBcmtRydW0bBfgVsxfoAcrY00uyjL1leMy91cfIXnRmB/oPpe4ABgOl6MDAo1wdmYKrQqAHKGNPM965V5mcyuhUZqfL8GTdm700H+jMDvQPSt0B9CNK0YHBR7k6Mg1nCqCHkmXsBDrTi07M2rNTe3dSxp7d6MwODJyLLXVPDoIUQBbr4sYJpejAIPHWyFord+Rp73vK1ZFZmMkAMoK6sVPGjiRXekNndmDAdVvqnhiUnQLZq6vjA8cEYHBojay1cuOIHMrVkXEIdAIXKVTQ4TI7leGJ9KHMTsrYkZTamZ0ydmAAdVfqnhgqR+2qTFXlqwAyw+mM785/611kfJPlDQw8rY3dGtlbKyujk3J1ZBrOLMBFUum626szL0KwM81Qxo5Uyc7syu7UIk5DcwTA4FE5aldlqsrqSg1+EAQBfOBCe/h2+jtnD19gkHnXRsrc1NpYa2StlYFMxJkG6AV1X1cXdnVjR/qhjB2ptJhTWY6G3geQfhToTC1npawVSH/dblXhPabPAUgvyXJ11sPIdMxwoDcC3h9PbtQFOiljTz+pZextlTGX5UkmX/bS3epkRqcWdnRmB9KPsrzOyQrzRnel7hpkhwH9r7uu6G5003xMWZ7K9gQw+HQNpI7qWvsmy9XJ5ESmY3UIXILUMvZguMMFPymXTg/JMva2ysS+nfkEO3FuZ3ZK2oH01l2puxsX6PCuQcAF6F53NxhSh7Kqu/z78wY3G4D0pvVtsqO61r6UqyNbcGYCLlGyjD2/usm91cdILyphVym7StqBJEraAX+7UId3NyihBbrV3ZYRqYPtIwD/0vqWjurIRlzZAZfKO28okzMYjrrMTpfhmR9JfBJpwfsdqTmRmhSplF2DzuygpB3wuQt0eHcj2RSlq7LbxCArDZnovCXniaGtIbr8u0kZ/G0A/qJ1bHJNq/UtHdWRjThzAX1Ie3Vqz07t3UkZe/pRcFOl7Bp0ZkcqStqBzKQgjQKZXZXdnh49KIFPDoI+SAeah13Nz9RxvpLz5NDWEAD8T+vV1Jv3yTWt1rdANmLmA/1AgU7K2NMbndnRHS0QKWkHskePSuATgzJepANKzgGkYu0KnI2/AqAfKLMzWcYeLm+hM3sacnc+6cyOLlDSDmSZnpTAJ8b5usAnh0qGgd6i5BxAT3QuUU+uXWk2BBDoBPpNsow9XNEa37czL0KwM80osNm5M3vUuz6lpB1JlLQDSHXeLvCJoUy6rgJPqYMgVHai5BzApaBEHegZ/iKAAZDszK6SdqSnZGf2luExStrRJS0oKQsCcCGUFaM7zA0Al4K1KNAzgWg0SooZBs3DDz9sf/edb9ro/3qv5U8YZsHczI4udbTkWKQx141YBymD6SrQYZZzSiNgoebEg0CKnKaoN86cPoMdMQs3RN3cAYALCTa2WqixLfERsoXK0snGBHAxVKLeXhAPaup9sjfP1VJz2PY9/yP7iy993pYsWZJ4FNmMQCcGVbYFOiXaHrS2mnyLRryTVCyQeJv4JNJK7kmNeEBaASyCWOhOsC1mhcc6LNge806s3scR74+av2sAAABcJJWoR3Pi1yCt5UFvsGfS+RDoRGfcDgAGWLKMPb+6ic7saU6d2VXKrqH3ge5EcwPWVB1ypURNQ0OnF6cAAADAxaBEHbg0/NUAAy3g/eHlRi0Yjp7uzB7KjyQ+iXTi7qaqOZE3IsXx7uwaHWyfhc68v+toOL45fKQgYC2V8W7tugtP4yIAAACcD13Ugb5DoBMYRMnO7GpSpOAnnb7Tl4Kb6s6uoaAnndnRHS1IVWLkOmFWhCxSEF+sKuuTOQMAAAChizrQP/gLAtKAAp2UsfuHytjpzI6eoKQdAAAAXaFEHegf/DUBaUCZncky9nB5i8vy1GNIT+7ua75Ze3m8lL29LP4YcI4AJe0AAACIo0Qd6H8EOoE0kSxjD1e0xvftzIsQ7ExjClIpwKlSdgU8FfgkcIXzoaQdAAAg+7gkiURAkxJ1oP/xlwWkoWRndpW0I/2phF2l7HRmR09R0g4AAJAdKFEHBhZ/ZUA6Cnh/nLlRF+ikjN0HvN+XmhPRmR09pjlDSTsAAEBGokQdGDwEOoE0FsqP79upMvZguIPO7GnunM7sYQWzKGnH+VHSDgAAkCF0M9tbw1GiDgwe/uKANJcsY8+vbqIzu4+ojL1leMwNStrRU5S0AwAA+JfWblrDUaIODB7++oB0F4iXsQfD0dOd2ZXpifSmLM5kRqeyO+nMjh5RFkAXJe3JoTIoAAAApA+t8bX9kNZqWrtpDUeJOjB4CHQCPpLszK69Oylj9w+VtCc7s7vgZ673IL87XMBZJe2JcfYeT4knAgAAYGDp5nRu8uZ00G0/pLWa1m4EOYHBRaAT8CEFOilj95dkZ3aVsuutPgYulgKddO0EAAAYXMkSdbfdUHUovrc6gLTAVRLgQ8rsTJaxh8tb6MzuB+6urzfC5jI7leGp7uyUtONiKEMgmdGpQCcl7QAAAAOjqxJ1rcm07RDVWkD6INDpE01NTXb06FHbs2ePbd261TZu3OjGsWPHEs84VywWs46ODqupqbVdu3bZ5s2b3di+fbsdOHDATp06lXjm2fSaxsZG27dvn/temzZtsi1btriPa2tr3ecx+JJl7OGK1vi+nXkRgp0+oUWSApzqzp4saSfYiYulDp6UtAMAAPQjl6xAiTrgJ4FoNEpkxAfeffddW758uW3YsMF27txpR44ccY//4R/+oX3hC19w73emgGRDwyn79a9/bc8++4wLVkp1dbXNnj3b7rrrLrvxxhvdY6lq6+rccx9//HFbv26dHT9+3EpKSmzevHl200032c0332wVFRWJZ1+ahx9+2P7uO9+00f/1XsufMMyCudTz9or3VxyNBK29Ps8b4cSD8AXvdxeMmOXWBSz3ZOIx4CIFOmJuHkleXYc32NYCAADgUinIqRJ1vY0lgp5kb6aXlprDtu/5H9lffOnztmTJksSjyGZkdPpEQ0ODCzgGAgErLi62/Px8l6WpLM/uKPvy5z//uS1dutROnqy32bPm2Lx582348OG2du1ae/HFF+211147J7PznXfesZ8+/rjt27vXPfe666+3adOnuyzQJ5980n29vd7nkEa8k62aE2nvTsrYfcYtmOKd2VXKrqHmRcDFoKQdAACgb1CiDvgbgU6fKCgosGHDhtmVV17psioXLlxoRUVFic+eq62tzQ4ePGg//enjtm3bVpsxfbp95jO/bb//e7/vMjlzcnJs1apV9swzz1hdXZ17jTJA6+vr7c033rBnn33Wqqqq7EMf/rB96Utfst/65CddJqgyS59//vnT2aFIL6H8+L6dKmMPhjvozO4jCm6qlF1DQU86s6O3KGkHAAC4SN66mxJ1IDMQ6PSJWbNm2Uc/+lG77777XAm5SscVrOyOMj21h6f29Jw2bbp96tOfscsvn23Tpk+1q6++2h566CErLS21N95443RGp/blXLlypdvHMxwO24MPPmi33nKLjR83zubPn2+LFy+2G264wdavX2/btm1zr0H6USd2dWTPr26iM7tPRYqNzuzoEwp00qUdAADg/OiiDmQOrnp8QtmbQ4cOdVmW2i9TQU6VsXdHgU6Vtufm5trIkSNswoTxVlJaYoWFhTZkyBCbO3eu97bKlcMrGKoy95aWFhfkbG5utrFjx9ro0aNdQFVl8vqekyZNtpkzZ7vnHjp0yO3lSWOiNORNC2VyBsPR053ZlekJ/1DmHZ3Z0Re6K2nXUEkW8woAAGQrStSBzESgM0MpGHn48GErKyuzyspKKywssGAw/utWtubo0WNcEFMl7gp01tTUuPf379/vgqiTJk2yvLw89/ykqiFVNm7MOBfcrK2tc6+JRHoXQEt2hI9GyTbsT8nO7Nq7kzJ2f9HCq3Nn9mg4vp8nv0f0RmpJuxsVIVealQyEahD4BAAAGc1bR1OiDmQ2Ap0ZSkFLZWgq0KkszlQKeJaUqKFRngs06nl6vt5X+boCnQqOdi6NLygssLKKMguFvIvjSIe1tbRbrJdN+/W91BG+paU18Qj6kwKdlLH7l0rYVcreMjxGSTv6jBb5Ks1KlrZT3g4AADIdJepA5uOKZgAk9778/ve/bw8//HCPx7PPPGvHjh7vVdakAonKmlRQUiOVSt71WDLDU5mVeq6GXqfPd1Uar+cnH1eA043E57rT3b/9r//6r+1v//ZvbcWK5Ylnoj8pszNZxh4ub6Ezu9+4O8/eCJ8paaczOy6Z5lX4TDanBuXtAAAgk0QKA2etbShRBzIfgc4BoIxJdSl/6aWX7NFHH+3xWLnqbas/2dCrfTAVlFRAUq/t/PrOZeMKeuq5GnqdPq/gqt6m0vOTjweC3vM1Ep/rTmtrq23fvt2WLl1qP/vZz06PJ5980p5++mm6tw+gZBl7uKI1vm9nXoRgpw8lS9pdZ3aVsnuDQBT6CuXtAADAt1xywJk1i4Zu4qaubShRBzIfgc4BUFxcbNdff4N98Yv/xf73P/1Tj8dDH3/QRo8d6fbUvFh6jZoInTx50jUXSpVaNq7App6n5+t9NT1qb2/vcv/N5qZmO1l70gVJc3JCFs7PdcHO81Fnd3Vr/8Y3vmE/+clPTo/HHnvM/uM/vmP33HNP4pkYSMnO7Cpphz+pM7tK2TX0PtAfKG8HAAB+kVqWzroFyF781Q8AdT4fPny4zZw50xYuWNDjMWH8eNcQqHMJeU+o0ZC+Z11dnZ04ccKamppPZ3BqP859+/a5hkUKcI4bN87tyan3x4wZ4zI81chIAc9Ux08ct7379lhOKMf7+uVd7uPZWXK/z/Hev2XWrFmnx+zZs+2KK+baiBEjLRzqsNFFJ60i7+yALPqRN6XUnEiBTsrY/UlZdcmMTmV3qju7BiXt6FPKjKC8HQAApKHzlaUnB9mbQPYh0DkAlCmprufl5WVWVVXV45HaREhByvb2iMvCVKBSWZWuxNx7rLm5xY3UDMyhQ4fahAkT3GMHDhy0Xbt2W0N9gzU1NbnA53vvrbWamhPu+yjQqcCoMjunT5/uMlAPHTrkve6AC4aq9L6hocF27NhuGzdtsPKKchsxYoRVlJefs/9nTyX/n4TDuZYb7LBRxXU2tPCUFea0WTBA0G2ghPLj+3aqjD0Y7qAzu08puKnu7BqupJ3O7OhHPSlv13Cb+zMPAQBAX/DWFJSlA+gJAp0+oQBnTU2t7dm9z44cPuoClgp+1tbW2a4du92oralLPDse6FTmpIKY2gfzRz/8gb333gZ7//2ttmrVKlc+Xl9fb9dee60LbIrK1hcok3TCBFe6/uMf/9heeeUV271nj73zzjv2/PPP2+uvv25z5syxKVOmuNf0peGFDTa14pjlhyinHkjJMvb86iY6s2cAlbHTmR0Dqavydg2VjqmEDAAA4FJRlg6gp0JLliz5RuJ9pLFNmzbbyy+/bC+8+IKteGOFbdy4wWVcKtty7959rrN5W1urDRky5PSemyobV9m8GgLt3LnTtm7dYu+te8+91d6dV155pds/U4FNlcgry1Jv29rbXRD14MGDtmPHDu8162ztmjUuE1Sl7R/60IdcsLOsrCzx0/XesmXLbNV7b9nkm0dZaXXY8sIxywlGrSMatJYOpaWh3ynpKhSLj2B8WCxgsQgLB1/yfm2ujNh7G833RjhgwYj3OyZRGv3FO4YoeyLmXYCcNbx5qBHJD7osUA3txBLkXhYAALgAlaW3loZOryEiRQFrLwq6G6zJtYZdoF8EskOk+ZTVb19n1y+40hYtWpR4FNmMSIZPHDt21NavX2dvvfWGbd68yZWSK1uzpbXF3nhzuRub39/sgpHJEvby8nK7776P2M0332xl5WWu7Pzdd99xZemXX3653X777XbTTTdZSUmJe37S/Pnz7cGHHrKx3tfXXp0rli+3999/30aNGmX333+/O3iMHTs28ey+FQ522JjiOhte1GDFua1u6DEMjGRndu3dSRm7fym4pM7sKmVvL49ZR34i+AkMIAU/VUKWWlKmzIvUkjPK2wEAAGXpAPpSIBqNkufjAwpsar9Mlaxrf86uKLCZ3GtT2Znaw1OZmSpRV1MiZX+KsjwLCgpcR/TOQU7R19dzVb6uju0KnGovTr1Gz9frers3Z2cPP/yw/csP/8nu/OurbOi0cguF41+3LepdEHfEa2/3NZTbvlPl7n0MjFiHt8BozbG2mnyLtnM/xNe8I7wyOnPrApZ7MvEYMEgCHTE3H5OC7TErPNrh3gIAgOzktsHRlje6AZqgbZgIbKInWmoO277nf2R/8aXP25IlSxKPIpsR6MSg6i7QmaqmpdCONJW4oQAoBoaCnZHGXPc2Fg2efh/+FGqOj/j7gdPvA4NJgc9wQ9QCKcHP3Oao5TSxNAEAIFOpLL294EwyRSzHXAYngU30BoFOdEaqFtJeZX6TjSutsfK8ZsrYB1CyjD1c0Xq6M7segz+d05k9rP07dac88QRgEFDeDgBAhvPO4ZSlAxhIBDrhC/mhiE2tOGrDChsSj2AgJTuza+9O+J86s7cMj7mh94F0oouf1I6qdG8HAMC/6JYOYKBxhIEvBAMxK8xpd4HOSWXH3ajIa0p8Fv0u4P0OcqMu0KksTzI7/U1ZnMmMTmV3qnERmZ1IF8roSM36iBQErKUyaM1DQqeHSt4AAED60Tk69Zytc7jO5anndrI3AfQnAp3wFZWxTyo74YY6sxfmtLkgKAZGKD9yuow9GO6gM3sGUEl7sjO7C37meg/yO0UaobwdAIA05Z17KUsHkG4IdMK3lN05teKY5Ycopx5IyTL2/Oom91Yfw9/U1bKtKl7Krrf6GEhnlLcDADD4KEsHkI44CsG31JhIDYrGldZSxj6QAvEy9mA46jI7XYZnfkrLZPiPuxvvjbC5zE5leLZVUtKO9EV5OwAAA4+ydAB+QKATvqZg55jiOlfGXpzb6gad2QdOsjO79u6kjD0zKLCpAKe6s1PSDr+gvB0AgD7mnTMpSwfgRwQ6kRFUxn5Z1SE36Mw+8BTopIw981DSDj+jvB0AgN6jLB2AX3GkQkZQFmcyo1OBTmV5ktk5cJTZmSxjD5e30Jk9U7g7+d6gpB0+RHk7AAA9R1k6gExBoBMZR53Zx5XWuP07CXYOnGQZe7iiNb5vZ16EYGcGoaQdfkd5OwAACd65jrJ0AJmKQCcyUn4oYlMrjlLGPkiSndlV0o7MQ0k7MgXl7QCAbERZOoBMxtEMGSkYiFlhTrsLdE4qO+4GndkHUMD7HeRG43t3lre4QWf2DOKyALxBSTt8rifl7Rqt5UHmNgDAtyhLB5BNCHQio6mMfVLZCTfUmb0wp80FQTEwFNxUKbuG68we7nCDkvbMQUk7MklX5e1uVIS8C8Kzy9wJfAIA0pK7IX12EJOydADZhEAnsoayO6dWHLP8EOXUg0GBzvzqJjcoac9MlLQjU+mCsamaEj8AQPqjLB1AtuOIh6yhxkRqUDSutJYy9kGgLM5gOOqGAp10Zs9AlLQjU2luh8/NjkktA6S8HQAwWHT+0XmIsnRki2RVWWt5h7UXdViU60qkINCJrKJg55jiOlfGXpzb6gad2QeeStqTndldOXtulDLnDJNcfFDSjkwVKTy7DJDydgDAQNH5JfV8o/OPzkOUpSOj6cZz56SK8qi1FUcsFiTQiTMIdCIrqYz9sqpDbtCZfXAkO7OrlF1v9TEyEyXtyAaUtwMABorOL6nnG51/dB4CMhnXFOgpVuDISsriTGZ0KtCpLE8yOweYtxZTJqdK2ZXZqQxPdWenpD0DdXX3lZJ2ZBrNc8rbAQB9TOeNZFl6cuj8knq+0fmHihlkIs3/eJWYd+1AlRh6iEAnsp46s48rrXH7dxLsHBwKbCrAqe7syZJ2gp2Z6cxihZJ2ZD7K2wEAF0vnhdTzRGpZenLo/AJkLN08PidJIn4NwboJPcEREvDkhyI2teIoZexpIFnSTmf2zEf5CbIN5e0AgAuhLB3ZjmsEXCpW14AnGIhZYU67C3ROKjvuBp3ZB4m3jlNJuwKdKmXXUPMiZKAu79aeGR0FiecBmUJznvJ2AECCjveUpQOUqKNvEegEUqiMfVLZCTfUmb0wp80FQTHwFNxUKbuGgp6uO7s3KGnPTGcWN2dGpDgWX+B4g8APMlVPytvdha6yeVjoA4A/ecdvHcc7H9spS0e20to+uc7XoEQdfYmjKNANZXdOrThm+SFKqAebAp3qzq5BSXv2iBSbK1nR0PtANuiqvN2VLg4NWTSHSCcA+JGO3zqOn3NspywdWSp1nU+JOvoagU6gG2pMpAZF40prXSk7ndkHj7I41Z1dg5L27JF6p1fZnall7dzpRcZS1k+n8vZ41k/AWirPLm9MHZFCLpQBYLBpbdK5FF1Dx28dxzsf2ylLRzbRtlTJtXxq5ZYblKijDxHoBM5DgU0FOFXKnuzMXpzbSkn7IKKkPTvFF0Znxll79yQGgU9kslgo4F08n13emDo67+nW3aAEHgD6gHcc7WkpuoaO3zqOA1nD/Y2cvVaPJy7E1/LsxY/+RKAT6KFkZ/bLqg5R0p4mKGnPXqndGJOD8nZks85dersblMADwKWjFB04P9bqGEwEOoEeSnZmV0YnJe3pgZL2LNbtXeL44C4xso0yhTpnFnU1LlQC33nQBR5Atumu/Dx1UIoOnC21LF2D6isMJgKdQC90VdJOsHNwUdKO1PJ29v0BunahEvhzRjdd4LsblMYDSCcKrHR1rDrf6K78PHVQig7E/76Sa+3UsnQN9tPHYCLQCVyiZEm7urQjPVDSDjo5An1DgcuuusB3NyiNB5BOerqtR+qg/BzomdT1NmXpSCcEOoFLlCxpV6BTpewaFXlNic9iMFDSjtQ7zBoqnVEJTWpJDeXtQA941/pddYHvblAaD6A/RQoDXR5Luhs9bdSWOig/B86lc7WyNFPX0qkVVJzLkU4IdAJ9pDK/yZWyawwvanB7eWpQ0j64KGmHnFmcnRmUtwN9rz9L47mIAjKIbqJ00bX8QkOByy6PJd2MSCGXu0Bv6Jybuk4+kzRwZi1N0gDSFUd+oB8ou1Pd2TUoaU8flLQjFeXtwOC7mNJ4BTgAZIbuupZfaHAcAAYG62T4GWcKoB8oizOZ0alAJ53Z00N3Je0auaVtZHlmme7vVMfYQB0YKBdRGq8AR1elqd0NlbgC6H8XW06u0V3X8gsNGgAB/Se1czqVT/AzAp1AP1NJe7IzuwKfhTltbl9PDK7UknaN3NJWC+VF4qXtuVFO5FkotbxdAU8FPlMXeAQ+gcGlEtSuSlO7Gxe7Nx9/40Cc/ha6+hvpblxsObkGXcuBQeb9+Sl4mbrWTe2cTlk6/IxAJzAAkp3ZVco+teKY9zFl0+kmmBO1cGWLK2vXW32M7KXSHJXopJbs0E0S8BcFX7oqfe1uUBILxPG3A2Q+1rrIZJyVgAGQ7MyujE5ldo4rrXXd2SlpTyMB7/eUGy9rV2anMjwpac9i3d7lPjMobwfSm7LFuso+624oWNNViW3nQad4+IXmqeZrV/P4fEN/C139jXQ3yMwE0l9qWbpbx1K9hAxGoBMYYApsKsCp7uyUtKcnBTYV4KSkHaniC8QzgwUikFl6XBp/EZ3iNdRwiXMHLpXOL13Nr/MNzVPN1y7n8XkGncqBzKDjRnKNmlqW7tax3LBHBuMsBgwiStrTHyXt6A4lP0B2uphO8RrqLK0O08CluNhycg3NUxdoB5CVUjuns0ZFNiHQCQyirkraK/KaEp9FWvCuDyhpR5e8uUF5O5CF9Lffw07xGuosrQ7TXZUID8ag9H5w6f/9QJSTa2iekk0MZAcdW+JNNc+sQ1M7p3PcRzYJRKNRrtQxaB5++GH7lx/+k93511fZ0GnlFgpzBN53qtz2NZS799s6cqwtyv+TdBRtD1pbTb5FI0Fv5eBdTLi3iU8CCcF2s/DxgHur+RGMxN8CwGAJtsWs8FiHd1ziYDQYkhnBLggJAL2kwGVq8FI331VppLfZJBaJWNuBg3bs0Z/YX/3BF2zJkiWJzyCbEejEoCLQeS4FNhXgFAU8FfhEGvKOnMngZjTi/c4U9GwnSR6dePMjGdw8K+gJAIPFHY9ixrbggyPmqgHItARwaZS92V6WciDXsUWXkFl2bCHQia5wVQ6kGTUrUim7xrDCBtedXYOS9jTjLSIoaccFadGZKG9X4yI1MEotKVKDIwAYUDouXUTpPaNvB+XkAHortXN6alm6G8rk5NgCOAQ6gTRWmd/kurNrDC9qoDN7mqJLO3rizN5JZwaLVAAAAJzDWw8mb5YnR2rndG6WA90j0An4hLI76cye/ujSjouR2g1Tw+2tFN+5AgAAAFlK60GtC1PXiXROB3qGQCfgEyppT3ZmVyn7mOI69xjSTICSdvScsjxT79RT3g4AAJB9UsvSNbQe1LowdZ1I53SgZwh0Aj6iwKYCnCplH1da4wKf2suTkvb01G1Je2IQ+ERnFypvZ4ELAACQGVJveKeWpWtoPci6D+gdAp2AT+WHIja14qhdVnWIknYfSC1pT46cIn5nuLDU8nZKlgAAADIDazygfxDoBHxKGZyFOe0uo5OSdh9IKWlPDgU6VdauEcqPJJ4InO3cu/0pZU3c7QcAAEh7Wq/Fq3bOrOOo2gH6B4FOIAN0VdJOsDP9KbipsnYNBT0paceFxPdvSilrYv8mAACAtJN6o1rjzD7sZ9Zx7MMO9A8CnUCGSZa0q0s7/EOBTkracbHoyAkAAJB+UsvSNbRe07oNQP8j0AlkmGRJuwKdKmXXqMhrSnwW6UpZnJS046IFzKK5Z2cMUN4OAAAw8FI7p6eWpbvhrde0bgPQ/wh0AhmqMr/JlbJrDC9qcHt5alDSnv4oaceloLwdAACgn3V7szm+/qIsHRg8BDqBLKDsTnVn16Ck3V8oacelorwdAACgb7G+AtIXgU4MuvxAu03JO2LVOQTg+ouyOJMZnQp00pndPyhpxyXrQXl7cpB9AAAAcK7UsnQNKmaA9EWgE4MuL9huk8NHbWzuCSsPNbmh4Cf6h0rak53ZFfgszGlz+3oi/VHSjr7Subw9Oc7ZT4qFOwAAyFKpndNTy9I12AMdSF8EOpE2xoVP2A1FW90Y672P/pPszK5S9qkVx7yPCSz7DSXt6A+dO4RSigUAALJV6rqItRDgHwQ6kTaUxZnM6BwfPm5T8w6T2dlPkp3ZldGpzM5xpbWuOzsl7f5BSTv6Q2rmQuqg1B0AAGQyrYGUpZm6zkmtdCF7E/APAp1IS8Ny6m1m/kG3b6cCnyXBFgtZNPFZ9CUFNhXgVHd2Str9iZJ29DdK3QEAQCbpfHNX+21q383UdQ43dAF/ItCJtFUYaLP5hbtdKbveFgbbEp9Bf6Gk3f8oacdAotQdAAD4Uec1jDqoq5M6AP8j0Im0FQpEXSanMjqV2Tkj/6Bdlr+PkvZ+1FVJe0VeU+Kz8ANK2jGQKHUHAADp7kJl6W7kek8MxJ8PwN8IdMIXFNiclnfYLi/Yd7qknWBn/0qWtA8vanCBTw327/SX7kra3ciNsphDv6HUHQAADDhvbauAZed1BmXpQHYh0AnfSZa005l9YAwrbHCl7Bp6H/6UWtKuEa5ssWAO+95iYFHqDgAA+otKz1WC3nmdQVk6kF0IdMJ3kiXt6syuUnaNYTknE59FX1MWZzKjU4FOdWfXoKTdX1JL2jVCeRHLLW11Ze25pW00LsKAoNQdAABcinjVSNfrBmVtKnvznLUGZelAViHQCd9SZ3aVsmuMC5+gM/sAqMxvct3ZNVTSTmd2/1JgUwFOlbUr4KnAJyXtGCyUugMAgFTnvzna9bpB+3CyRgBAoBMZQYFOOrMPLGV30pk9M6iEXaXslLQj3VDqDgBAdmINAKC3CHQiI6gxEZ3ZB5ZK2pOd2VXKrsZFNCvyqYB3MsilpB3ph1J3AAAyW3el6FR1AOgtAp3IGF11Zi8PNVHS3o+SndlVyj6utMYFPrWXJyXt/tVtSXtiEPhEOuhxqTt7cgEAkBYuthSdm5cAeotAJzJSsjP7DUVbKWkfIPmhiE2tOOq6s1PSnhlSS9qTQ93bgXTVucyNLqsAAKQHStEBDBQCnchIyc7syuhMlrTTmb1/KYOzMKfdZXRS0p4hUkrak0OBTpW1a4TyI4knAumhc7aIOq+qA2vncjiaFQAA0D8oRQcw2Ah0IuMlS9rVsEiBTw327+xflLRnLgU3VdauoaBnalk7HduRbnTxpKBm53I4BT8VBD3ngotSdwAAzs87T+p8ec45NDEoRQcw2Ah0Imso0KlSdo2x3vsYGJS0Zy4FOlPL2unYDr9QObvK2juXz1HqDgDA+XV3Dk0OStEBDDYCncgayuJMZnSODx933dk1KGnvX92VtCdHRV5T4pnwGzUmSi1rT+3YTnk70lo32SiUugMAEHemKqLTObG7qojE4HwJYLAR6ERWGpZT77qzayjTk87sAyO1pD05hhc1uCCoBnt5+ltqx3bK2+FHlLoDALLOBW/+dToncvMPQJoj0Imsp0AnndkHz7DCBlfWrqH3kVkob0cmoNQdAJCpOMcByDQEOpH1VNKe7MyuUvapeYdpVjSAlMWZzOhUoJOS9sxyvvJ2ZX/q80Dao9QdAOBzF12KTtUCAJ8i0Al4kp3ZVco+M/+gC3xqL09K2gdWZX4TJe0ZLrW8XQFPBT5TS9sJfMJPKHUHAKQdStEBZDkCnUAnhYE2V8qu7uyUtA8eStozn0rYVcqeWtquUnfA7ygDBAAMFs5BALIdgU6gk1Ag6jI5ldGZLGmnM/vAo6Q9CwS8k1DumbJ2DQU6U7u2U94OX6LUHQDQjzoKlI157vlEg6oCZJNQfsRySrhewNkC0WiUGeEDTU1NdurUKWtubrbW1lZrb49nPQ0dOtSqq6vd+53pefv27XNvu1JaWmplZWVWVFRkodCZK6yOjg5raWmxmpoa9/0ikYj7fGFhoRUXF7vXpT7/Ujz88MP2w0f/xv76Hytt2sxcC+el59l3S+tw2+oNafFWCS0xrRQwGPadKrd9DeXu/baOHGuLEh3IZNH2oLXV5Fs0cua+XKwj6A1W6sgcQe+UHj4ecG/P4q3QgpH4WwBA9tFNsK5uhLWXxW+SAVlFSRJqaho4szAK5Tdbx4m9tv//PG1f/d0v2pIlSxKfQTYj0OkT7777ri1fvtw2bNhgO3futCNHjrjH//AP/9C+8IUvuPc72759u/3pn/6p7dixI/HI2RYtWmT33nuvLViwwAUvk2rr6mzLli32+OOP2/p16+z48eNWUlJi8+bNs5tuusluvvlmq6ioSDz70vgl0KnApgKckhr0xMBTYFMBTlHAU4FPZDDvDOWCnClnqvaGPGuvDyc+AjKAN7+7Cmh2GwAFAGQFBTMV1OysuwAokMlUCaZtr4I5Z/o3xKIRa917iEAnzkLpuk80NDS4gGMgEHBZlfn5+bZr1y47evRo4hnnUiangpzK/pwxY4Z94AO32J13Lj49rrrqKhs1apTl5p6dnfjOO+/YTx9/3Pbt3WvDhw+3666/3qZNn24HDhywJ5980pYuXWp7vc9lEzUrUim7xvjwcTqzDyJK2rOM7tyep7xd5SqA73nznFJ3AMhe3ZWiR4pj55wbNDgHIFucbmTqtrRKNjI9c10QCNE4GOci0OkTBQUFNmzYMLvyyitdVuXChQtdyXlPTJ8+3T72sY/ZH//xH9tXv/qXp8cDD3zUZs6c6b62qGS9vr7e3nzjDXv22WetqqrKPvThD9uXvvQl+61PftKVyCuz9Pnnn3cZn9lqWE49ndnTBF3as5OCm+rarqGgZ2rXdgVF2X8KmUIXsgpqntMht7v917oYXAwDQPrQMbmrY7UCmp2P9RoKgALZRIHN1LW9ApsKcGrdz9796CkCnT4xa9Ys++hHP2r33XefKyFX6XhOTs/a5oXDYRcULS0tsbKyMyM/Py/xjLjGxkZbuXKlbd682b3mwQcftFtvucXGjxtn8+fPt8WLF9sNN9xg69evt23btiVelZ3ozJ5+6NKenRToTO3aHi9n4cYDMlt3HXW7GpHixIsAAINOx2SO1UD3WNujLxDo9AkFKtV4SFmW2i9TQU6VsfeE9up85pln7JFHHrFvf/vbbu/NVatWnd7nM0kNiBTkVAOisWPH2ujRo11AVWXy+p6TJk22mTNnW21trR06dMjt5aks0GzUVWf2y/L3UdI+iChpz07xu75nyldO3/VNlLZT3o6M1E2pe1cjniV04UE5PAD0HUrRgQtLLUtPjni11pm1PdVa6A0CnRlMwdAhQ4ZYU1OzvfvuGnv66Wfspz99wn72s5957z9ta9eudUHLZLCyra3N9u/f7143adIky8s7O+OzakiVjRszzj2/trbOdWVXR/beiMVi7utEo96BK+ad4L2P9a4fRzjWblNyD9ucvH02PfegDQk2uMdi0RhjkEZFuNEmlhx3Y1hBvRWFWt3IDUS6fD4jc4YFopZT7P2uy1pOj1BhmwVyImdGyDvmxbw/Xu+4w2Bk+ujI9y6uK3owyqLWkRe1qHdB0aOR4319LjwAZCvdcPKOg10eH70RKYp2eazVMbmrYzWDkT1D+2p2uDV5MLfdckvOrNk1guGLu4625FsgBV3XfUj7ZGoPzX/7t3+z3/u93+u2s9jhw4fthz/8oeWF823smHHusYOHDtimzRtt2bJlNnfuXPvIRz5yuou6Ggz9/d//vQtgTp061T7/+c/byJEj3eukvr7BVq9+x/7wD//AFi36gH35j75sEyaMs/yC/MQzek5BzoaGU/a3f/u39tMn/7d97X+W25TpuRYO+/uqqcOC1hQN25bWEbatdVjiUQymeJf2+G3yA6fKbX9jmXsf2SPWEfDGmft6sUjQ2mrzLNrOvT4gKeCtBgNddH7vTtD7O8o/meu9JdoJIPsoyNlS1u69jSYeOZsyNMnSBM7lOqdXtFrA+9sJeIuPgLtx2vuQVKy9w1p2H7GD33rOvvq5/0LXdTgEOgeA9r7csGGDKwvfs2dP4tELmz9vvi1YsNAqKsvP2o+zp4HOpqYm1zQoHM6zivJK91htXY1t3brFZXWqY/v48ePta1/7mo0bN879bH/3d39nJ0+edF3aP/e5z9mIESPc6+TUqUaXGfr5z/+e3XjDonigc9J4KzhPoLO7f7syOVtaWm3FiuW2cdNbduMt+VZZFbRQKDMumI5GSr1RkvgI6aK2tdDqWtnVPdsp8BlpyjXz3gLonUA0YDnNIQvQ+w1AFlIQM1LQYbEgl9LARQnFLKewvc+aCsU6ohY52WgNq7fbn3z+i/bVv/xLKy0psVCIOw3ZjEDnADhx4oT96le/shdffNHefvvtxKMX9uCDH7fPfvqzNnrsyLPKyHsa6OyOMjZffOFF+89H/9MFHx977DGbPXu2K1vv64xOfS11aX/ppZfsnXfeSTzqHZBiKl2P2vHjx6yhocH7PqNcwDQYJMMK6Yt5Cz9i3sKPmLfwM93Qb25usYMHD1hpaakNGVLlXXQHe7y/PjAYmLfwo9R5+/uf/7x95StfsRHDh7vmysheBDoHQGtrqx04cNCVktfU1iQevbAJEybY5EmT3B9p6gnmUgOdTY1NtmnT+/atb33T3nzrTfuP//iOXXHFXKupOQkrEKQAACsASURBVGH//M//bDt37nSZnH/2Z3/mmhIlHTl81N5Y8ab9+Vf/1O6440774z/5Yxs9atQ5e3mm0h6e9fX1bii7Myleut5o3/nOv9vSpcvsG9/4hs2cOfO82aHAYGPewo+Yt/Aj5i38TBfdmzZtcvN20aJF9ru/+zkrKSkiwwhpjXkLP0qdt9qW78//4i+ssuLsilhkHwKdA0B3GVSmrWY/kUjPO3IXFha60dmlBjqVGfHuO2vs3/7932zt2jX2gx/80C677DKrq6t1HdmXL1/ufmaVsaspUdLGjZvs5Zdetkce+Vd74KMP2J985Su9TgtP/j/5m7/5G3vqqV+c/hnC4dzEM4D0w7yFHzFv4UfMW/hZW1u7rVu3zj7zmU/bhz98n/23//bfLD8/j4xkpDXmLfyIeYuu8NsfAPojKywssPLyMquqqurxSA1yasHf3h45HTBVpoPKuiLeY7qLoZHaAV3POXXqlNXV1bm3yirV0Pvam3P9hnUusFleXm7FxUXuwiE/P9+mT5/ufVxshw4dsgMHDriu7C0tLS44umPHdtu4aYOVV5S7jM8K77W9vcOX/H+i76v3laHBxQvSHfMWfsS8hR8xb+Fnmquas5q7el9zWe8D6Yx5Cz9i3qIrzACfUICzpqbW9uze50rI1WhIwc/a2jrbtWO3G7U1dYlnmwtmrlmzxnVX1x2Og4cOuaH3tWfm97//fRcEvfbaa11gU4qKimzBggWuZF57a/74xz+2V155xXbv2eP219TrXn/9dZszZ45NmTLFvQYAAAAAAABIBwQ6fWLbtm2udOuRb/+rPfrYo7ZixQq35+XKlW/Z//3n/+vGCy887xoKKZtT49ixY/bmm2+6ZkP/+3/9Lzd++KMfuaCluqzfcccddvfdd1tZWZn7HsrO1MbTC6+5xn1OwdKnnnrK/uVf/sUeffRR9/XmzZtnixcvtmnTprnXAAAAAAAAAOmAQKdPHDt21NavX2dvvfWGbd68yZWSK1jZ0tpib7y53I3N7292Hd5Vwq4GRmoSpMzP999/35YuXerGpo0bXSboXXfdZQ888IDddNNNVlJSkvgucfPnz7cHH3rIxnpfXw2UVixf7r7GqFGj7P7773ebU6c2KboUyiKtqKhgs2D4CvMWfsS8hR8xb+FXmrOau13ttw+kK+Yt/Ih5i85oRuQTCmxqv0wFLrU/Z1e036b+wLXXpoKdzc3NdvLkSbfHZnt7vAmSDgIKgiq4qYuHgoIC93gqfX29RuXr+hr6Wsr21HP1OmV99lX3PTVVUnMlNVXSvp+AHzBv4UfMW/gR8xZ+pf3u//3f/91VQ6mCCvAD5i38iHmLzgh0YlDt2rXLlcjPnj3bBV4BP2Dewo+Yt/Aj5i38SltMbdy40aqrq93+94AfMG/hR8xbdEagEwAAAAAAAIDvsUcnAAAAAAAAAN8j0AkAAAAAAADA9wh0AgAAAAAAAPA9Ap0AAAAAAAAAfI9AJwAAAAAAAADfo+s6+lxHR4fV19dbU1OTtbS0WFtbm3nzzPLy8mzMmDHubVeOHj1qx44dS3x0ttzcXKuoqLCSkhLLz89PPGoWi8Wsvb3dfb+TJ0+67yV6vp6rUVhY6B4Dzqe381bP0XNramqssbHRzcdQKOSeX1RU5OZtTk5O4tlxzFsMlOPHj9uJEyfc/Na8S6V5WVpa6obmapKep3l98qTmZ537exDNz4KCAisrK7Pi4mL3GNBfNGd1TD116tTpY6vmrOZgeXmF9zb/nGMr0J8ikcjp87bWCp0Fg0E3P0eOHGnhcDjxqLn5q9cl57Ho8zqW6virY2sgEHCPA72lc7fWkw0NDe64qbmmOas16ZAhQ9x5u6u1bG/mp75ubW2te01ra6s7Xus1WrtWVla69/X3AFzIxc5bfU7rWj03uT5NpfmqeThs2DD3firmbXYh0Ik+pwPIq6++au+++65t3rzZ9uzZ4w4mkyZNsn/8x3+0yZMnJ555tm9961v2r//6r4mPzlZdXW0f/ehHbdGiRTZjxozEo+YOjEePHbMXX3jBnnvuOfe9dGAcMWKE3XDDDfaBD3zArrjiisSzge71dt42NTXb7t177PHHf2xvv/22HTx40AUqp0yZYldffbXdf//9bv6mYt5ioHz/+9+373znO24BqQVdKgXhb731VrvzzjvdXE3S8xoaTtmvf/1re/bZZ2zLli3ucc3j2bNn21133WU33nijewzoL7rwXrlypb3++uu2evVqO3LkiJuzmoP3ffh+mzlzhlUPrUo8G+h/uqH5/PPP20svvWTvvPNO4tEzdLE8c+ZMW7JkiY0fPz7xqLl5/PLLL9uqVavs8OHD7hg7btw4u+uDH7Q77rjDhnrHVl1gA5dCa9b9ew/aa68vs9eXv2YHDhywuro6F6z81Kc+Zdddd51b03bWm/mpxJQnn3zSvWbbtm1ujTFq1Ci78sor7cEHP+7N/3He30NB4tlA9y523mot8Nhjj7m1geZeZwpwzp8/3770pS/Z6NGjE4/GMW+zS8g7GX8j8T7QJ3SHRRclOlkqoKMTpt7X3ZP77rvPhg4dmnjm2RTweeGFF1xAadas2XbZZZd5709xQ8HNefOucAcsBZGSlK30+OOPu+/X3NJiU6dMccEi3XncuHGjO3jq+bor2fmuDpCqt/N21aq37ZlnnrZNmzZaYUGhTZ40xYYPH+5O0jt37nRzURc/uiuZxLzFQHnllVfcUJBy+vQZNnfuFSnH1enex3NtwoQJLoCUpIv5p576pb3xxhveovC4jR83wUaPGeMWf1u3bnWZTJqXmtNcnKM/6GLkvffes5/85CfuOKz5q8BRXn6+1Zw4Ye9v2eIyPMZ5j+kmEdlwGAi6KNZ5W3NT5/Hrr7/BBd6Tx9QpU6a64+zll1/usuR1rFy/fr0LjuqivKqqysaOHevO91pzaJ4rM0k3RlOz6oHe0Nr1wMGDtnPHDjty9IgLFClotH//fjcndQxNvfHe2/mpdcDSpUvdNZuy7yZMmGijRo5Wap4dPnLEVejp+WPHjkm8Aujexc5bZdT/5je/sR3e83WttnDhNTZr1qzTx+Fp06a5odiBrr+SmLfZh0An+pyCNHv37nWBGt0RVNBHF846oT7wwAPdBoyWLVtmGzZscJmb99//gH34w/e5RaTGwoULbOrUKe7gl9Tc3Ozuxvyv//W/3EHyxhtusAe8186bN8+KvAObDmY6SSsFffr06ZRa4rwudt6qtFdz8KmnfuGClnr+rbfcZvfd9xHvwmemWxyuXbvWnaz1WmV5CPMWA+nNN9+0TZs22c0332wf+chHvOPrx04fV6+55hp3ka5ynSTNyV27dtn/+T//x13IXzbnMu81D9q13nOrq6vcBb7+TpRtpyBp6jEZ6CvKqleAXhfgOh5r7t5+xx0uU0PzUpnGRUWF7qaoLkwoYcdA0I1P3YxU5UZZWbl95St/avfcc0/KMfVa78L8MisvL3fncK0hnn76abe+1ZrgYx/7mC2+6y6XPaQLbR1P16xZ447FunHEPMal0Jyqra3x3ra58/pVV13ljpeqGlq4cKEpkSQ1YNTb+anqpyeeeML9Haga5MEHP2bXXnu95eXle+uD3S5oOmRIpVsjcCMKF3Kx81Y3nJSRqeuziRMn2Re/+F/srrs+ePo4fNVVV7vrp7Ky0rPK0Jm32YdNCNDndOG7ePFiV7J72223ubuDqXdUzkcHJO1vVFJS7B2glNEWH/o49WAluhhXxpGyPZT9+elPf9pmeAe2mTNmuPJfBae0n6cOXDooAudzsfNW+8IoYKmhk7SC87fffrtNnjLR3VlUuY++ji7YldmZxLzFYMnPz7vgcVV3tHUhrwXmtGnT7VOf/ox34T7bpk2f6haGDz30kPtb0RxWxgfQH5R5odJgBeK1vcL1119vEydMsJtuvNG7OHnQZWpori5f/jrzEIMiFAp6x9Cis46pnY+rOofrXK5zus7tOsdr7uqcr3O/1gBaC+h4qrUBcCk0z5R9qe2PVImkLWY6l+6m6u381JpWa1utcbXWddl03tr39jtuc2thrYmT6+Ou9lAEUl3svE3Vk+NwEvM2+xDoRJ/THT/dkdHdF5VD6gCmOyM9oQuWFStW2KOPPmr/7//9P/vud79rL774orvoUcZdKp18lbauu4xqFqOMOgWmNJRBd8UV870DXant27fPZcjpzg/QnYudt5qP27dvd5ltlZUVNnHiRBs2fJgL1CvDSCURyjbSiVN3D1WCoWw55i0GmubQunXr7Gc/+5n9y7/8iz3yyCP2y1/+0j2mDONUCh7pgkal6SNHjvDm8XgrKY03x9Kc1Z3uIUOqTt9t1962QF/THlzKHNa+XNpaQdt46JisTDldAOlxHYMVlO88h4H+pmOqLoa1B/I3v/lNt1b9+c9/7jLg6hsaXMWHnqNzuM7lxcUldsXceTa0eqir3NDxVOd+3VDVukNrgkOHDiW+OtA7CuxobmkNq7WsjpvdNdLszfzUGlZrWa1ptbbVGldrXa15tfZVxr3WwloTa22sNXLnazegs4uZt6m0/lTGsfah13H4e9/7nj377LNuX/nW1jbX5EiYt9mLQCfShkp0Nfbs3mNLly6zJ376hEsx/8UvfuFK2HTRkxr00QFOF+W66ElNaZdwOM/tK1daUuruWB47fsIaGwkYoe/oxKkFok6aWhCWlpZ48+7Mfpo6YY8ePcZyc8OuPEhBIb2GeYuBFA+8F3tzsNaV+ijY+dOf/tRtxq5mQ7rDnZoRp/mpYLwWmrrA0b6cybvi2o9Tc1pzW3NZc1pzG+grujDRnlva41hzVk0CtG9cKs1DlbOL1gWai8BA0LFQx1QNXQirgYsCnDqe6rj665declsw6Ziqhm46h+tcrnP6+PETLdzp4l1rAN3w1JqAm0YYSFpbXuz8TD3va22bXA8kaQ2stbDWxFoba43M8Rl9Tcfh5JY1motqDqfjsIbiBq++utS2b99xOljJvM1eBDqRNlSi9plPf8b+5I//1P7iz75qX/zil+ymmxa5u4i6W66FZLL7r+ggpIOYMjx0JyiVMvHKK8qswLtIj0Zj1tbSbpHI2R2HgUuRzNjQiVZzMLl3UZLKhFVOobIKzVVlHek1zFsMJJUDfeQj99mX/+i/2l/91dfsz/78z932DKK9uX7wgx/Yu+++6z4WzU+V7CjQ2Xl+anGpciDNbc1lPY/FIPqS5pUCRC0trfEs+4oqKyo8e59iHSd1kaKAp46lyawNoL8py0jZxPfee6995Stfsa99/ev25S9/2e6++24XoH/uV7+yb/6/b9rOnbus8VSTO4frXK5zus7tnatEdIzVWkDzmGMpBpLWlhc7P3V81lpW7ydLhrUeSJW6JtYaWa8B+pJuNClmoK2Uvva1r9nX//t/d8fhO++80wUzn3zyZ/bII9+yo0ePueczb7MXgU6cQ2WLSv3+h3/4B3v44Yd7NP75n//FNm3c7C5Qekv7wtxz7z12/Q3X2YKFC+y66651ex5ee+21rmRSHdZ0pzxJByENHZQ6n5y1f7AeT2YixbznxbyTOTLXYMxbXdhos+quOqNr7mle6vO6EE+eNJm36Ck1vli5cqUrj+xq/nY3nn3mWTt29Lh3IRNxnSfvuusuu/766+zqq6+yBVdf7fZB0h5I6mT51ltv2fr1G7yFXTwQr6H5qrl57vwMuMeS81PznyAT+lI8ozM+D92xNSfXm2/nzkMdJ/U2OV+BgaBAp24eqTmL9o5dsGCBG4sWLXJ7x6rUV2WPKqdUI0Kdw0XHzPicdR+epuOpHk8ee4GBorVlb+Zn8pjbeT2QSmtifV5rBKCvKdCp/WO1d/dNN93k1rU6Dut9NTJWwFJ7fG/cuMFtzyDM2+x07m8ZWU97Y61cucplUGqvzJ6Mp3/5S9u7d5+1NPd+814tENXsYtz4sTZy1HD3Vhfmt912uzuAbdq4yS0gkxfXOkhp6GK+80FJ1z16PHliDnjPCwTpnpbJBmPe6mSpuahSh84095JzVSfO5EmVeYueUsaksthVltPV/O1urFz1ttWfbHDzK/W4OmzYUBsxYoTNmTPHbrnlFtd4QCU6Kl9XsF8BJs3N5ELv3PkZLytOzk/Nfz0X6Cvxi5D4MdIdWyPKODp3Huo4qbfJ+QoMhPj2HaNt6tSpbgwfNsxtr6BjqrKLdKzVfNUF9sFDB905XHTMjM9Z9+FpOp7q8eS6ABgoWlv2Zn4mj7md1wOptCbW57VGAPpaMrNex2DdsFd/g+RxWDecZs6c5faR37Rpk9uKSZi32YmzKs4xefJke+CBj9pf//X/z/73P/1Tj8Z/+/rX7Mqr5ltFRXniq/SdYUOH2ZTJ0ywvP9+Vs+mCXAcoLTh1sNNeXql7d4oOYnW1J625qdk7uAUsnJ9rOTkcuDLZQM9bnTRV1qNFoOag3qaKz9VGby7G56ruQOo1zFv0lPYsvv76G+yLX/wvXc7f7sZDH3/QRo8d6eZad6qqqm3ixEluLmq+ad5p/uk1avpy8qQ3Dzs1edFxN1lWrLms553vewAXS/MquT2Cjqk1tcetsensjHvN0+R+cZq/BDqRLpRJpMYWysZva2tx53Cdy1OPsam0BtBaQPOYYykGktaWFzs/dXzWWlbva22rNa7WA6lS18RaI+s1wEBIrh+GDq12e3trHav9kpm32YvfIs5RWlrmXQBPsPlXzreFCxb0aKgTr4JFObln71PYF1rbWr2TbaN3kd3hSih0oNKFjfbo0sbBJ06ccAezVG2trbZ7906rb6j3DnolVl01xIqKzt5vDplloOet5qE2aVepg+4Y1tc3eBc2ZzI7dSG+f7+aFbW5pi5qnqHXMG/RU5pbmiszZ87scv52NyaMH3/BAJCCRPHjatSb/7kusKQLnuT81IJPczRZ0p58jTJANbc1lzWnNbeBvqI5q2wKBYx0bFanVGVmpNJ+cWosIMpY1lwE0oGy8BXk1JzUHNY5XOdyndN379nlHUPPvrhWWaXmuDKSUptjAP1Na8uLnZ+p532tbbXGTW2ipTWw1sJaE2v9ojUyx2cMFGVjqtu6jsEK0idvxjNvsxeBTpxD3cd0R2SId0DQHZGejApvQZdM9U6mheuiWHdMdHdEF8oaOgA1N7e4CxU9T/S4Dkj19fUu8KOFoj6vt/p4166d9v6Wze6gU1ZWaskuwCrBVBafDmgHDx50Byh9nUZvHD121NasfddOnWpwByx1DtQdGmSugZ63CiRp/pWWlrruwCr/Vfm8suA0JzVvVb6mk+bIkSNduZvmMPMWPaXjnI535eVlXc7f7obmTHzB12r1J+vd5uxNjU1uXuu4qi6ru3fvsvfff999Dx1Xy8pL3d+CLmgmTJjg5v+BAwe9ebzbGrwFoOaoAp/vvbfW+3on3PfRwpGLc/QHBds1v3Rc1f7LybWB3uqYuWPHDncMnjVrlsvUAAaCjos6nrr5mFgT6LiqrCHtyakbQfq8zt0jRow83bW6oaHe1qx5x3Wv1rFUQ/NYz9dxVWWYmvNAX4i0R9yaVUNzVusBleUm52u793kFgS52fmoNq7Ws1rRa22qNq7Wu1rNa+x45fMQds7Um1tpYa10dp4Ge6Mm81TVZV8dhzT/doFe39X379ruPlV2vG07M2+wVWrJkyTcS7wN9QgchlTceP1YTv1D2Lqh1UDl+/IRds/BaC3r/NTU2W1FxocvQ1EFm27Ztbi+63bt3K6XDXdDoTuK6995zey6+8sorNn36dLfhu7KbRHchdcB69dVX3XMVKC3xDlB6/+2333bdhHVwu/nmm+2qq65yZaBAdy523ioopM7UOjmqSdbx48csFtUm2YV28NABe+655+zll192QSM1fmHeYiApYL9/70Fbt26dbVi/3pvfZi3eYrC2rta2bd1qzzzzjL3wwgtuPt588yJbsOBqF/RMbrGguag5efzYUW/hV2H1DQ3u7+FHP/qRuwjS3NS81qIQ6GuavwoeqQmhLmI0T7U22LRxo9uzVsfP+fOvtI9+9GNWVTXEHZOB/qYL6eeff96OHDnmTcegNTY3upLf7dt22I9/8phbq2r9+pnP/LbNnj3Lnet1Ma71rZpj6MI76K0djp84YU/94heuGZye8/u///uucZzeBy7ViRPeOnb/QW9u1tnrr79uGzdtdE20ykrVVTpsMe+/5E3+3szPQ4cOuUDoe941moJRuuHZUN9or732mv3quWfd9//AB262O+64wwVU2V4EPdHTeasAZefjsBJNNmzYaD/+8Y/t3XffcWvT3/md33FBy+T6gHmbfQLexX2nrYeBS6OF4GuvvW7rvYvrHdt32JGjR7yT6PtWW1Nrt9xyq3dgqbTq6iq790P3egewyS6oo4vx1atXuwwj14DF+zo6COliR9lHurOiDpfa6F2bDyfp7uNjjz3mXq80dGUj6cCk4KnK3dSxffHixS5ISmYczudi520yk23Fijfs17/+tW30LsBzvZNpWVm5t1AMxgOf3hy+5557bOHChcxbDCjdEd+1Y7cte22Zvb16peWEct0WDWr0onmp+a631113netcqQ6WScrgePrpp+3tt1d7i879NmRIleW5PRPbXRnbvHnz7Pbbb3dvXQAK6GMKsusGki5adIxUAF43fbQm0MjPK7A777zT7lx8Z2LbBQqU0P90ofy9733PO4cf8+ZcyB0TNffUwfrosSNurTrJu7D+xMc/4TLl9HkFkXRjSRfuCiQlb14e8dYBqiqZ4x17P/Hxj7vPAZdCx0atL1/9zau2fPkb7rF33/Wurby1rBq1jB49xkaPGm3Tpk9z61KtZXszP7du3WpvvvmmPfvss27tqj2/ox1RO3myziIdEZs1a7bddttt3vri2sQrgO5d7LzVtdgjjzziApN5efnuOKvt7fR1tHaorh7qtiZ74IH73fVVEvM2+5DRiT6nu4OveRfXK1eutPXr17mPdRewpLTEBX/27d/ryiR0gtUBSIGceCnlbhcs2uhd3KgsTQtKZdnpIHf33Xe7LsFKO0+lrztu/Hhra293Hdk3b97s7urocWV/6oCli/HkXUigOxc7b5OZbCrh1Un46NEjLgt08+ZNLoikEnV1tb733nvdPnKpmLfob1r0KQN51+6dtmnTRnv//c0u+1jbJagUSHPypptusvvuu891rUyli3U1KtLxd8/ePbbZe23yeKyAqAJMei2lPegvRUVFNmTIEJc1r0CnuwHlrQt0IaOS9o997CG78sr5blsHXbAAA0HZ7Lohv3PnDndc3bZtqzs2Nrc0u2Pqrd65Wzc3R3rnf93E1zlcawEF6nX81DYMOuerzF1BJK1r7/3Qh6zKm+vJDDugt5T9rpuRS5cttVdeedmtWxXAUfmujp1ay2qtqrk2duwYl6XZm/mpY7O6XCer77SG1d+E5rwCTA8++JDNmDGdNSx65GLnrbZcWLt2rSs/37p1izsO6xpKJe0TJ050a1TFDfT61JugzNvsQ0Yn+pwONMoIUtmZDiZd0UFEBypdzCilXM/T8xXw1EFNJ1xdvOh5eo7uMOpt54WgMpJ00Z7c31OvFb1OmUYaZMShJy523urEKJqrmnduH0TvIkjva54qCKTnKfOzc1kl8xb9TXNM80obrNfXx+dY6nFVZTmanwrYdzU/9VzNTwXtk38Pep0uiPQaMjnR37RnskrUNA/1Vh9rrmoOlpdXWIE3h/ujASLQneQ6IXmu15zUMVXzUsfU5FpVx8rUAHzqPNa5X7SGUCBfx9POzwd6Q+dtna91c0jn7q5ofar1pYJAyRv2vZmf+lvQ99FrFKjS34Kep/mvpi96PZn26ImLnbdaAyhQqSo4zcPOx+HkdZTmH/M2uxHoBAAAAAAAAOB7hKwBAAAAAAAA+B6BTgAAAAAAAAC+R6ATAAAAAAAAgO8R6AQAAAAAAADgewQ6AQAAAAAAAPgegU4AAAAAAAAAvkegEwAAAAAAAIDvEegEAAAAAAAA4HsEOgEAAAAAAAD4XiAajcYS7wMAAABpqa2tzRobG+3YsWNWVlZmVVVVFgwGLRAIJJ4BAACAbEdGJwAAANLe0aNH7Te/+Y196Utfsv/8z0etoeGURaPRxGcBAAAAMjoBAADgAzt37rRXX33V/sf/+B/2wAMfta9+9S+trKzEcnJyEs/oHWWKKoi6ZcsW27Ztm9XU1Lgs0eLiYhs6dKhddtllNmPGDPfcQ4cO2datW+2dd96xhoYG91hXlG1699332IgRIywczk08CgAAgP5GoBMAAABprz8Cna2tra4UftWqVfbWW2/Zu+++a4cPH3Zfs7Ky0saPH2/333+/ffCDH3TP37x5s/czLLXHH/+JC46mam+PWE3NCe9tu02ePMW+9a1v2eWXX26FhQWJZwAAAKC/EegEAABA2uuPQOeOHTvszTfftJ/85CdWXV1tV8ybZ6NGjbKCggKLdnRYbW2tzZ4926644gr3/JaWFqurq7O9e/d577e6x5KOHj3ifZ0f2759+2z06NH2t3/7tzZ58mS3jygAAAAGBoFOAACALLB3715Xdq23J06ccCXbJSUlLhg3bdo0F5zLy8s7Xcr99ttvu+feeOONLuvx/ffft/r6eisqKnLPvfLKK23YsGFWWFiY+A7xDMn9+/e7MvDt27e754dCIdc8aMqUKe77jB07NvHsM3bt2uWyJfVWr9Hem/rZlFGp102YMMEOHjx4OtC5ePFd9pnPfMZ27NhuR44csebmZpeBOXvOHJs1a5aVeq/V972QX/7yl24oC3PBggV20003ubLz3Nxci3R0WP3Jk1ZRUeGCoEn62RTk1NskvX7Llq22ZMnX3Wv1/+zTn/60DR8+PPEMAAAADITQkiVLvpF4HwAAABkmEom4LESVZ7/44ov2xhtv2MqVK90+k8poVNZiLBZz+0kqk1GBTu1V+Z//+Z/26KOPugDihg0b7OWXX3ZfQ+8rmFlaWmrl5eUuEOi+T3vEjh8/bkuXLrWXXnrJPX/16tW2fv169/X0OQUvR44c6bIwlemon01B1BUrVtgzzzxjy5YtcwFWvWbPnj0ucKrA6pgxY1wwc/fu3fbaa69ZWVmpKwnX+8uXr7C3vH/Ppo0bLer9O4YMGWJDvJ85HA67n6sr+vfq3/n000/bCy+8YDfffLPL2tSenMra1OdC3s+nj/Uzp2Zlav9OBTP19ZND3eD1b1RmqAKzH/nIR9zPfL6fAQAAAH2PQCcAAEAGU5Dz+eefd4FHZWjedttttnjxYvvABz5go8eMsfc3b7bXX19uUydPc0HN3HCuy5JUkHLNmjUuEKoszHvuucfu9F5XXFJiu3ftcsFIPV/NeuTEiRpb885a+7///H+tvb3NBQ8f+OhHbf68eS5TVB3TFRBUYFQBRD2mIOdjjz1mzz33nPvZbr/9dvd97vrgB93+lgqKKqDaOdCpn0kBxw/cfKv791xxxVw7sH+/+xrKRp07d67LIu2OApn79x50/0/WrV/ngpwKVD7xxBP25JNP2vLly9330r+vqLjYCvLzE6/s2qZNm23p0lfdPp/K5nzggQdcpqt+RgAAAAwcAp0AAAAZTM11vvvd71p7W8QWLljoAnEzZkx3wcvhw4a5oKHKwhV4rBxSaUOHVp8OdGpfTJWo6zXXXnutTZwwwcrLykw7H2lvS2U7Tpw40WVdvr9li73++mu2Zev7Nn/+fPvQhz7kyshV5q5gpTqWK9CpjEkFR1VavsP7+j/8wQ+so6PDrrnmGhe0nDNnjitVV9m3SuNVSq6Ao7qcJwOdyj7Vz3T99dfblKlTrNr7mRW8VKDz4IEDdscdd7jMzu60trTart27bPmK5bZu3TqXsaksU32vYcNGuIxP/T/YvWeP5YXDNmrUaPfzdhe41P8LldXrayxatMj9WwhyAgAADDx2RwcAAMhQKievra1z5eAKME6ZMtUF4JTlWVNT4wJ82n9yyJBKW7f+Pdu7d0/ilXHFxcUuoHj11Ve7/TKViTl//pV26623Wk5Ormu8o7079bX37NltGzaud4HNq666yo1RI0fapEmT3OsVxFQgUAFUBTzrGxpcYHLTpk0uqKksyHnz5tm4cePc99H3mzp1qnu9grCpVB6ujNGJkybYsGFDbfSoUS7oWVVV7QK7+nlS99DsrCPa4X3/k97zml15vPYTVTD27g/ebZ/+1Kft1ltudWX5Lzz/vCuNV9m9yuw7U0BUr1eZvYLCc+de4QK/AAAAGBwEOgEAADKUgpz79x2wtrZ2e+WVl+0rf/on9qlP/ZY99NBDp8ff//3f2+uvv+6CdadOnUq8Mk4BxokTJ7kAYlJ+fp4LjE6cOMF9Xo2NFARU8FJZlwpUpjbvET0vGbBUpqSa96jRz+FDh9z7CmwqeJl/gRLxpLKychs+fKTbK1MUsC3IL7Jwbtg6OqLez6HM0bO7ondHAc4777zTZYFeedWVNmXqZLvjztvt4x//uMskPXjwgG3atNGVzneWLIHfs3uf9/+u0eZdMd8mjCfQCQAAMFgIdAIAAGSo9vaIK9NW5qEyDW+55Va7+eYPuPLq5NCemA899HG7//4HbMaMGYlXximAmJ9fcDqgKHpMHysoqfcVqNTXV/m5hh5PfX6SnqssSwUH9fxUatqjPS31nJ5QGbmCpmfKwwMWCqq0PP49mpoa3ffpjl6n1yvDVD/vtKkq5R/nSvHV5EgBTu0Pqrf6OsoS7Sqjs6mpydasfddqao7biOHDbdq0qa6MHgAAAIODQCcAAECGys3Nsbz8eEBQZdW/+zufsy9/+cv2J1/5ylnjj778R/aZz37W5syJNxZKUtBQ5d0KZibpMX2cLA9XUFNfX8FHDT2e+nzR8+rr612wUEFNPV9vtbengpsKJipoqOddqlgsaq1trd73OvtnSKWfU6XpCq4qQFpSUuoCuqn0c6kLvX5WZXN29bMpi3XlqressanRZsycYaPHjPK+VnHiswAAABhoBDoBAAAyVEVluQu+hcO51th0yhoa6qyyssJGjhhx1lA2YmVFuaksPZX2n9y5c4cdP34s8Yi5knB1WN+5c5f7vJr+KDNS+3kqI1Il8OqmnkqBTDUjUrBQDYYUHFWQsay83AUd1SldXc8VJB0IyuJUqbxK5tva2+zAwX1WV1eT+GycgrLax1TZp+oUr5+zM5X6v/HGG+7fpX1I9f8AAAAAg4dAJwAAQIZSAFKBTTUGUlbiCy++4Jr/qBS7vr7BamrqbM+evbZx40bbsmWL228zlQJ56nK+atUq1/FcAcl33lltL730kjU2nnLdz6dPn+4Chyr9njVztmtQpOZHGgcOHnSBT3U2V1dylbari7syORUUHDtmjM2dO9cFRn/2s5/Zu+++656v76Pvt3XrVtuxY4cLqPYlZWsq0KqGR9pTVD9r6r9x7Xvv2bJly1xH+iFDqlxQNC/v7P1DFbjdsGGD23O0snKI6yTfOSsUAAAAAyu0ZMmSbyTeBwAAQIZRtqHGwYMHXZBTmYkqIz92/Ljt27s/HkzcucNamltcYx4NBe/UHV2BPJWYK2Cqr3Hk6FFbvny5rVixwu1xefvtt9stt9ziPh/OzbOABe2NN99wX1/ZmU3NzbZr505bs2aNC5iqIdEHP/hBt1+oAp16nZ6n4KiCoQpAqqHR0WPH3OsUTFRJuwKqCtQqEKmvM3PmLLv++htcBqpeo+zLuto6W7lypfecXXbHnXe67u8KZp6PSs81FOhVub2+lgvmev92fS0FWNXNfdGim62o6Ow9RNevX2+/+c1vXID4uuuut7vu+uA5zwEAAMDAItAJAACQwVQmPnbsWFd+rWClsiaVkfncr35lK1e+ZTt37bSOSIfNnDHbxowZYwUF+acDnQo0fupTn3LBxqefftqeeeYZ27lzpys//y3vcQUB1bBH8vLCVlJabOXlZS4TUgHRF1980QVFlUE6b948u/vuu91rkntzKlg6YcIElxFaV1fnsipffvlle8UbCsqqbFxNgZR52R+BTpXd6/+NXq/MUf28zz//vPs+6hz/0Y99zG684QYbPny4+z7arzNJP8crr7zinnfTTTfZ/PnzznkOAAAABlbAW/Ce3fYSAAAAGUdBSwUptRemSsWVSakAozI4FbhU2fnwEQroBVx25SOPPOL2n/yHf/gHy8nJdXt1KttSwcNRo0bZlVddZcO916UGE5UBuX//fpfluH37dvd8Bf/Kyspc+fe0adNcYLGzXbt22ebNm91bZYOqxF0/lwKckydPdsFQ/bxnAp0zXRZlaqCztkaBzrds5+5dducdd/Qo0CnJjE79vAcOHHDfR42K9HNefvnlbh/Prr6OAsb6/6Sg7ezZs8/pWA8AAICBR6ATAAAApynwlwx0KsPy29/+d5s37worLi5KPAMAAABIT2wiBAAAAAAAAMD3CHQCAAAAAAAA8D0CnQAAADhNzXSS+3Bqf0y9r30wAQAAgHTHHp0AAAA4TZ3Z1ZBHndPV6Vxdz9W0iGAnAAAA0h2BTgAAAAAAAAC+x615AAAAAAAAAL5HoBMAAAAAAACA7xHoBAAAAAAAAOB7BDoBAAAAAAAA+B6BTgAAAAAAAAC+R6ATAAAAAAAAgO8R6AQAAAAAAADgewQ6AQAAAAAAAPgegU4AAAAAAAAAvkegEwAAAAAAAIDvEegEAAAAAAAA4HsEOgEAAAAAAAD4nNn/HwHjUv9wTbDuAAAAAElFTkSuQmCC)"
      ],
      "metadata": {
        "id": "cX3bqaQq0t1Y"
      }
    },
    {
      "cell_type": "markdown",
      "source": [
        "* as you can see here it is not uniform, is taking lot of random jumps due to random rows selection\n",
        "* batch gd would be more like a line unlike this"
      ],
      "metadata": {
        "id": "5tzyzdeo0y_I"
      }
    },
    {
      "cell_type": "code",
      "source": [
        "sgd = SGDRegressor(learning_rate=0.01,epochs=40)"
      ],
      "metadata": {
        "id": "P-eVB7Cjz3W-"
      },
      "execution_count": null,
      "outputs": []
    },
    {
      "cell_type": "code",
      "source": [
        "start = time.time()\n",
        "sgd.fit(X_train,y_train)\n",
        "print(\"The time taken is\",time.time() - start)"
      ],
      "metadata": {
        "colab": {
          "base_uri": "https://localhost:8080/"
        },
        "id": "g5g9sJzIz5wj",
        "outputId": "84daf73f-98a4-4a8b-b6e6-92b41ba4fbf9"
      },
      "execution_count": null,
      "outputs": [
        {
          "output_type": "stream",
          "name": "stdout",
          "text": [
            "163.3860878219235 [  58.90809618  -45.03697286  312.89313923  224.25984209   29.76720415\n",
            "  -12.75115172 -158.23863797  126.91243465  298.06819671  115.89291253]\n",
            "The time taken is 0.14112162590026855\n"
          ]
        }
      ]
    },
    {
      "cell_type": "code",
      "source": [
        "y_pred = sgd.predict(X_test)"
      ],
      "metadata": {
        "id": "KzbwJXtyz88q"
      },
      "execution_count": null,
      "outputs": []
    },
    {
      "cell_type": "code",
      "source": [
        "r2_score(y_test,y_pred)"
      ],
      "metadata": {
        "colab": {
          "base_uri": "https://localhost:8080/"
        },
        "id": "63ZKFEvMz-0h",
        "outputId": "842a64a7-f719-43dd-bd9b-ff0bf0003177"
      },
      "execution_count": null,
      "outputs": [
        {
          "output_type": "execute_result",
          "data": {
            "text/plain": [
              "0.3984528661166985"
            ]
          },
          "metadata": {},
          "execution_count": 12
        }
      ]
    },
    {
      "cell_type": "code",
      "source": [
        "from sklearn.linear_model import SGDRegressor"
      ],
      "metadata": {
        "id": "7yG1NXSz0AHO"
      },
      "execution_count": null,
      "outputs": []
    },
    {
      "cell_type": "code",
      "source": [
        "reg = SGDRegressor(max_iter=100,learning_rate='constant',eta0=0.01)\n",
        "reg.fit(X_train,y_train)\n",
        "y_pred = reg.predict(X_test)\n",
        "r2_score(y_test,y_pred)"
      ],
      "metadata": {
        "colab": {
          "base_uri": "https://localhost:8080/"
        },
        "id": "WBwpf2Hg0IGH",
        "outputId": "8df99871-9350-472a-c39a-8caaff9c9597"
      },
      "execution_count": null,
      "outputs": [
        {
          "output_type": "stream",
          "name": "stderr",
          "text": [
            "/usr/local/lib/python3.11/dist-packages/sklearn/linear_model/_stochastic_gradient.py:1608: ConvergenceWarning: Maximum number of iteration reached before convergence. Consider increasing max_iter to improve the fit.\n",
            "  warnings.warn(\n"
          ]
        },
        {
          "output_type": "execute_result",
          "data": {
            "text/plain": [
              "0.43237358690578476"
            ]
          },
          "metadata": {},
          "execution_count": 14
        }
      ]
    }
  ]
}