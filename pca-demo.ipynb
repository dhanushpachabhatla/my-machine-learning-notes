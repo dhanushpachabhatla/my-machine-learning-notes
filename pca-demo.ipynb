{
 "cells": [
  {
   "cell_type": "code",
   "execution_count": 1,
   "id": "b99847f4",
   "metadata": {
    "_cell_guid": "b1076dfc-b9ad-4769-8c92-a6c4dae69d19",
    "_uuid": "8f2839f25d086af736a60e9eeb907d3b93b6e0e5",
    "execution": {
     "iopub.execute_input": "2025-05-25T06:45:13.014366Z",
     "iopub.status.busy": "2025-05-25T06:45:13.013190Z",
     "iopub.status.idle": "2025-05-25T06:45:15.104788Z",
     "shell.execute_reply": "2025-05-25T06:45:15.103426Z"
    },
    "papermill": {
     "duration": 2.100485,
     "end_time": "2025-05-25T06:45:15.106731",
     "exception": false,
     "start_time": "2025-05-25T06:45:13.006246",
     "status": "completed"
    },
    "tags": []
   },
   "outputs": [
    {
     "name": "stdout",
     "output_type": "stream",
     "text": [
      "/kaggle/input/digit-recognizer/sample_submission.csv\n",
      "/kaggle/input/digit-recognizer/train.csv\n",
      "/kaggle/input/digit-recognizer/test.csv\n"
     ]
    }
   ],
   "source": [
    "# This Python 3 environment comes with many helpful analytics libraries installed\n",
    "# It is defined by the kaggle/python Docker image: https://github.com/kaggle/docker-python\n",
    "# For example, here's several helpful packages to load\n",
    "\n",
    "import numpy as np # linear algebra\n",
    "import pandas as pd # data processing, CSV file I/O (e.g. pd.read_csv)\n",
    "\n",
    "# Input data files are available in the read-only \"../input/\" directory\n",
    "# For example, running this (by clicking run or pressing Shift+Enter) will list all files under the input directory\n",
    "\n",
    "import os\n",
    "for dirname, _, filenames in os.walk('/kaggle/input'):\n",
    "    for filename in filenames:\n",
    "        print(os.path.join(dirname, filename))\n",
    "\n",
    "# You can write up to 20GB to the current directory (/kaggle/working/) that gets preserved as output when you create a version using \"Save & Run All\" \n",
    "# You can also write temporary files to /kaggle/temp/, but they won't be saved outside of the current session"
   ]
  },
  {
   "cell_type": "code",
   "execution_count": 2,
   "id": "5b2a43c7",
   "metadata": {
    "execution": {
     "iopub.execute_input": "2025-05-25T06:45:15.118493Z",
     "iopub.status.busy": "2025-05-25T06:45:15.118050Z",
     "iopub.status.idle": "2025-05-25T06:45:18.613187Z",
     "shell.execute_reply": "2025-05-25T06:45:18.612026Z"
    },
    "papermill": {
     "duration": 3.503046,
     "end_time": "2025-05-25T06:45:18.615074",
     "exception": false,
     "start_time": "2025-05-25T06:45:15.112028",
     "status": "completed"
    },
    "tags": []
   },
   "outputs": [],
   "source": [
    "df = pd.read_csv('/kaggle/input/digit-recognizer/train.csv')"
   ]
  },
  {
   "cell_type": "code",
   "execution_count": 3,
   "id": "86c176e9",
   "metadata": {
    "execution": {
     "iopub.execute_input": "2025-05-25T06:45:18.626109Z",
     "iopub.status.busy": "2025-05-25T06:45:18.625773Z",
     "iopub.status.idle": "2025-05-25T06:45:18.632462Z",
     "shell.execute_reply": "2025-05-25T06:45:18.631567Z"
    },
    "papermill": {
     "duration": 0.013844,
     "end_time": "2025-05-25T06:45:18.633864",
     "exception": false,
     "start_time": "2025-05-25T06:45:18.620020",
     "status": "completed"
    },
    "tags": []
   },
   "outputs": [
    {
     "data": {
      "text/plain": [
       "(42000, 785)"
      ]
     },
     "execution_count": 3,
     "metadata": {},
     "output_type": "execute_result"
    }
   ],
   "source": [
    "df.shape"
   ]
  },
  {
   "cell_type": "code",
   "execution_count": 4,
   "id": "44c821d2",
   "metadata": {
    "execution": {
     "iopub.execute_input": "2025-05-25T06:45:18.645344Z",
     "iopub.status.busy": "2025-05-25T06:45:18.644651Z",
     "iopub.status.idle": "2025-05-25T06:45:18.685925Z",
     "shell.execute_reply": "2025-05-25T06:45:18.684835Z"
    },
    "papermill": {
     "duration": 0.049414,
     "end_time": "2025-05-25T06:45:18.688105",
     "exception": false,
     "start_time": "2025-05-25T06:45:18.638691",
     "status": "completed"
    },
    "tags": []
   },
   "outputs": [
    {
     "data": {
      "text/html": [
       "<div>\n",
       "<style scoped>\n",
       "    .dataframe tbody tr th:only-of-type {\n",
       "        vertical-align: middle;\n",
       "    }\n",
       "\n",
       "    .dataframe tbody tr th {\n",
       "        vertical-align: top;\n",
       "    }\n",
       "\n",
       "    .dataframe thead th {\n",
       "        text-align: right;\n",
       "    }\n",
       "</style>\n",
       "<table border=\"1\" class=\"dataframe\">\n",
       "  <thead>\n",
       "    <tr style=\"text-align: right;\">\n",
       "      <th></th>\n",
       "      <th>label</th>\n",
       "      <th>pixel0</th>\n",
       "      <th>pixel1</th>\n",
       "      <th>pixel2</th>\n",
       "      <th>pixel3</th>\n",
       "      <th>pixel4</th>\n",
       "      <th>pixel5</th>\n",
       "      <th>pixel6</th>\n",
       "      <th>pixel7</th>\n",
       "      <th>pixel8</th>\n",
       "      <th>...</th>\n",
       "      <th>pixel774</th>\n",
       "      <th>pixel775</th>\n",
       "      <th>pixel776</th>\n",
       "      <th>pixel777</th>\n",
       "      <th>pixel778</th>\n",
       "      <th>pixel779</th>\n",
       "      <th>pixel780</th>\n",
       "      <th>pixel781</th>\n",
       "      <th>pixel782</th>\n",
       "      <th>pixel783</th>\n",
       "    </tr>\n",
       "  </thead>\n",
       "  <tbody>\n",
       "    <tr>\n",
       "      <th>6382</th>\n",
       "      <td>7</td>\n",
       "      <td>0</td>\n",
       "      <td>0</td>\n",
       "      <td>0</td>\n",
       "      <td>0</td>\n",
       "      <td>0</td>\n",
       "      <td>0</td>\n",
       "      <td>0</td>\n",
       "      <td>0</td>\n",
       "      <td>0</td>\n",
       "      <td>...</td>\n",
       "      <td>0</td>\n",
       "      <td>0</td>\n",
       "      <td>0</td>\n",
       "      <td>0</td>\n",
       "      <td>0</td>\n",
       "      <td>0</td>\n",
       "      <td>0</td>\n",
       "      <td>0</td>\n",
       "      <td>0</td>\n",
       "      <td>0</td>\n",
       "    </tr>\n",
       "    <tr>\n",
       "      <th>11182</th>\n",
       "      <td>7</td>\n",
       "      <td>0</td>\n",
       "      <td>0</td>\n",
       "      <td>0</td>\n",
       "      <td>0</td>\n",
       "      <td>0</td>\n",
       "      <td>0</td>\n",
       "      <td>0</td>\n",
       "      <td>0</td>\n",
       "      <td>0</td>\n",
       "      <td>...</td>\n",
       "      <td>0</td>\n",
       "      <td>0</td>\n",
       "      <td>0</td>\n",
       "      <td>0</td>\n",
       "      <td>0</td>\n",
       "      <td>0</td>\n",
       "      <td>0</td>\n",
       "      <td>0</td>\n",
       "      <td>0</td>\n",
       "      <td>0</td>\n",
       "    </tr>\n",
       "    <tr>\n",
       "      <th>41558</th>\n",
       "      <td>4</td>\n",
       "      <td>0</td>\n",
       "      <td>0</td>\n",
       "      <td>0</td>\n",
       "      <td>0</td>\n",
       "      <td>0</td>\n",
       "      <td>0</td>\n",
       "      <td>0</td>\n",
       "      <td>0</td>\n",
       "      <td>0</td>\n",
       "      <td>...</td>\n",
       "      <td>0</td>\n",
       "      <td>0</td>\n",
       "      <td>0</td>\n",
       "      <td>0</td>\n",
       "      <td>0</td>\n",
       "      <td>0</td>\n",
       "      <td>0</td>\n",
       "      <td>0</td>\n",
       "      <td>0</td>\n",
       "      <td>0</td>\n",
       "    </tr>\n",
       "    <tr>\n",
       "      <th>31182</th>\n",
       "      <td>8</td>\n",
       "      <td>0</td>\n",
       "      <td>0</td>\n",
       "      <td>0</td>\n",
       "      <td>0</td>\n",
       "      <td>0</td>\n",
       "      <td>0</td>\n",
       "      <td>0</td>\n",
       "      <td>0</td>\n",
       "      <td>0</td>\n",
       "      <td>...</td>\n",
       "      <td>0</td>\n",
       "      <td>0</td>\n",
       "      <td>0</td>\n",
       "      <td>0</td>\n",
       "      <td>0</td>\n",
       "      <td>0</td>\n",
       "      <td>0</td>\n",
       "      <td>0</td>\n",
       "      <td>0</td>\n",
       "      <td>0</td>\n",
       "    </tr>\n",
       "  </tbody>\n",
       "</table>\n",
       "<p>4 rows × 785 columns</p>\n",
       "</div>"
      ],
      "text/plain": [
       "       label  pixel0  pixel1  pixel2  pixel3  pixel4  pixel5  pixel6  pixel7  \\\n",
       "6382       7       0       0       0       0       0       0       0       0   \n",
       "11182      7       0       0       0       0       0       0       0       0   \n",
       "41558      4       0       0       0       0       0       0       0       0   \n",
       "31182      8       0       0       0       0       0       0       0       0   \n",
       "\n",
       "       pixel8  ...  pixel774  pixel775  pixel776  pixel777  pixel778  \\\n",
       "6382        0  ...         0         0         0         0         0   \n",
       "11182       0  ...         0         0         0         0         0   \n",
       "41558       0  ...         0         0         0         0         0   \n",
       "31182       0  ...         0         0         0         0         0   \n",
       "\n",
       "       pixel779  pixel780  pixel781  pixel782  pixel783  \n",
       "6382          0         0         0         0         0  \n",
       "11182         0         0         0         0         0  \n",
       "41558         0         0         0         0         0  \n",
       "31182         0         0         0         0         0  \n",
       "\n",
       "[4 rows x 785 columns]"
      ]
     },
     "execution_count": 4,
     "metadata": {},
     "output_type": "execute_result"
    }
   ],
   "source": [
    "df.sample(4)"
   ]
  },
  {
   "cell_type": "code",
   "execution_count": 5,
   "id": "7dc8b33f",
   "metadata": {
    "execution": {
     "iopub.execute_input": "2025-05-25T06:45:18.699911Z",
     "iopub.status.busy": "2025-05-25T06:45:18.699571Z",
     "iopub.status.idle": "2025-05-25T06:45:18.705108Z",
     "shell.execute_reply": "2025-05-25T06:45:18.704144Z"
    },
    "papermill": {
     "duration": 0.013227,
     "end_time": "2025-05-25T06:45:18.706825",
     "exception": false,
     "start_time": "2025-05-25T06:45:18.693598",
     "status": "completed"
    },
    "tags": []
   },
   "outputs": [],
   "source": [
    "import matplotlib.pyplot as plt"
   ]
  },
  {
   "cell_type": "code",
   "execution_count": 6,
   "id": "cf4d92c7",
   "metadata": {
    "execution": {
     "iopub.execute_input": "2025-05-25T06:45:18.718294Z",
     "iopub.status.busy": "2025-05-25T06:45:18.717932Z",
     "iopub.status.idle": "2025-05-25T06:45:19.030094Z",
     "shell.execute_reply": "2025-05-25T06:45:19.029052Z"
    },
    "papermill": {
     "duration": 0.319637,
     "end_time": "2025-05-25T06:45:19.031809",
     "exception": false,
     "start_time": "2025-05-25T06:45:18.712172",
     "status": "completed"
    },
    "tags": []
   },
   "outputs": [
    {
     "data": {
      "text/plain": [
       "<matplotlib.image.AxesImage at 0x7ba09eb7fb90>"
      ]
     },
     "execution_count": 6,
     "metadata": {},
     "output_type": "execute_result"
    },
    {
     "data": {
      "image/png": "[encoded data removed]",
      "text/plain": [
       "<Figure size 640x480 with 1 Axes>"
      ]
     },
     "metadata": {},
     "output_type": "display_data"
    }
   ],
   "source": [
    "plt.imshow(df.iloc[1306,1:].values.reshape(28,28))"
   ]
  },
  {
   "cell_type": "code",
   "execution_count": 7,
   "id": "c3181a23",
   "metadata": {
    "execution": {
     "iopub.execute_input": "2025-05-25T06:45:19.044410Z",
     "iopub.status.busy": "2025-05-25T06:45:19.044096Z",
     "iopub.status.idle": "2025-05-25T06:45:19.049337Z",
     "shell.execute_reply": "2025-05-25T06:45:19.048170Z"
    },
    "papermill": {
     "duration": 0.013105,
     "end_time": "2025-05-25T06:45:19.051006",
     "exception": false,
     "start_time": "2025-05-25T06:45:19.037901",
     "status": "completed"
    },
    "tags": []
   },
   "outputs": [],
   "source": [
    "X = df.iloc[:,1:]\n",
    "Y = df.iloc[:,0]"
   ]
  },
  {
   "cell_type": "code",
   "execution_count": 8,
   "id": "587d75d6",
   "metadata": {
    "execution": {
     "iopub.execute_input": "2025-05-25T06:45:19.062710Z",
     "iopub.status.busy": "2025-05-25T06:45:19.062363Z",
     "iopub.status.idle": "2025-05-25T06:45:21.174222Z",
     "shell.execute_reply": "2025-05-25T06:45:21.173188Z"
    },
    "papermill": {
     "duration": 2.119665,
     "end_time": "2025-05-25T06:45:21.175872",
     "exception": false,
     "start_time": "2025-05-25T06:45:19.056207",
     "status": "completed"
    },
    "tags": []
   },
   "outputs": [],
   "source": [
    "from sklearn.model_selection import train_test_split\n",
    "X_train , X_test, Y_train , Y_test = train_test_split(X,Y,test_size = 0.2, random_state = 42 )"
   ]
  },
  {
   "cell_type": "code",
   "execution_count": 9,
   "id": "07b59ef2",
   "metadata": {
    "execution": {
     "iopub.execute_input": "2025-05-25T06:45:21.187548Z",
     "iopub.status.busy": "2025-05-25T06:45:21.187105Z",
     "iopub.status.idle": "2025-05-25T06:45:21.193037Z",
     "shell.execute_reply": "2025-05-25T06:45:21.192069Z"
    },
    "papermill": {
     "duration": 0.013413,
     "end_time": "2025-05-25T06:45:21.194514",
     "exception": false,
     "start_time": "2025-05-25T06:45:21.181101",
     "status": "completed"
    },
    "tags": []
   },
   "outputs": [
    {
     "data": {
      "text/plain": [
       "(33600, 784)"
      ]
     },
     "execution_count": 9,
     "metadata": {},
     "output_type": "execute_result"
    }
   ],
   "source": [
    "X_train.shape"
   ]
  },
  {
   "cell_type": "code",
   "execution_count": 10,
   "id": "685cf42b",
   "metadata": {
    "execution": {
     "iopub.execute_input": "2025-05-25T06:45:21.206156Z",
     "iopub.status.busy": "2025-05-25T06:45:21.205811Z",
     "iopub.status.idle": "2025-05-25T06:45:21.211901Z",
     "shell.execute_reply": "2025-05-25T06:45:21.210764Z"
    },
    "papermill": {
     "duration": 0.013647,
     "end_time": "2025-05-25T06:45:21.213531",
     "exception": false,
     "start_time": "2025-05-25T06:45:21.199884",
     "status": "completed"
    },
    "tags": []
   },
   "outputs": [
    {
     "data": {
      "text/plain": [
       "(8400, 784)"
      ]
     },
     "execution_count": 10,
     "metadata": {},
     "output_type": "execute_result"
    }
   ],
   "source": [
    "X_test.shape"
   ]
  },
  {
   "cell_type": "code",
   "execution_count": 11,
   "id": "1c1d6c49",
   "metadata": {
    "execution": {
     "iopub.execute_input": "2025-05-25T06:45:21.225327Z",
     "iopub.status.busy": "2025-05-25T06:45:21.225024Z",
     "iopub.status.idle": "2025-05-25T06:45:21.483028Z",
     "shell.execute_reply": "2025-05-25T06:45:21.481994Z"
    },
    "papermill": {
     "duration": 0.266074,
     "end_time": "2025-05-25T06:45:21.485102",
     "exception": false,
     "start_time": "2025-05-25T06:45:21.219028",
     "status": "completed"
    },
    "tags": []
   },
   "outputs": [],
   "source": [
    "from sklearn.neighbors import KNeighborsClassifier"
   ]
  },
  {
   "cell_type": "code",
   "execution_count": 12,
   "id": "73cbbb4c",
   "metadata": {
    "execution": {
     "iopub.execute_input": "2025-05-25T06:45:21.497182Z",
     "iopub.status.busy": "2025-05-25T06:45:21.496818Z",
     "iopub.status.idle": "2025-05-25T06:45:21.501340Z",
     "shell.execute_reply": "2025-05-25T06:45:21.500401Z"
    },
    "papermill": {
     "duration": 0.012018,
     "end_time": "2025-05-25T06:45:21.502690",
     "exception": false,
     "start_time": "2025-05-25T06:45:21.490672",
     "status": "completed"
    },
    "tags": []
   },
   "outputs": [],
   "source": [
    "knn = KNeighborsClassifier()"
   ]
  },
  {
   "cell_type": "code",
   "execution_count": 13,
   "id": "f92ef2fd",
   "metadata": {
    "execution": {
     "iopub.execute_input": "2025-05-25T06:45:21.515692Z",
     "iopub.status.busy": "2025-05-25T06:45:21.515370Z",
     "iopub.status.idle": "2025-05-25T06:45:21.677680Z",
     "shell.execute_reply": "2025-05-25T06:45:21.676741Z"
    },
    "papermill": {
     "duration": 0.171052,
     "end_time": "2025-05-25T06:45:21.679586",
     "exception": false,
     "start_time": "2025-05-25T06:45:21.508534",
     "status": "completed"
    },
    "tags": []
   },
   "outputs": [
    {
     "data": {
      "text/html": [
       "<style>#sk-container-id-1 {color: black;background-color: white;}#sk-container-id-1 pre{padding: 0;}#sk-container-id-1 div.sk-toggleable {background-color: white;}#sk-container-id-1 label.sk-toggleable__label {cursor: pointer;display: block;width: 100%;margin-bottom: 0;padding: 0.3em;box-sizing: border-box;text-align: center;}#sk-container-id-1 label.sk-toggleable__label-arrow:before {content: \"▸\";float: left;margin-right: 0.25em;color: #696969;}#sk-container-id-1 label.sk-toggleable__label-arrow:hover:before {color: black;}#sk-container-id-1 div.sk-estimator:hover label.sk-toggleable__label-arrow:before {color: black;}#sk-container-id-1 div.sk-toggleable__content {max-height: 0;max-width: 0;overflow: hidden;text-align: left;background-color: #f0f8ff;}#sk-container-id-1 div.sk-toggleable__content pre {margin: 0.2em;color: black;border-radius: 0.25em;background-color: #f0f8ff;}#sk-container-id-1 input.sk-toggleable__control:checked~div.sk-toggleable__content {max-height: 200px;max-width: 100%;overflow: auto;}#sk-container-id-1 input.sk-toggleable__control:checked~label.sk-toggleable__label-arrow:before {content: \"▾\";}#sk-container-id-1 div.sk-estimator input.sk-toggleable__control:checked~label.sk-toggleable__label {background-color: #d4ebff;}#sk-container-id-1 div.sk-label input.sk-toggleable__control:checked~label.sk-toggleable__label {background-color: #d4ebff;}#sk-container-id-1 input.sk-hidden--visually {border: 0;clip: rect(1px 1px 1px 1px);clip: rect(1px, 1px, 1px, 1px);height: 1px;margin: -1px;overflow: hidden;padding: 0;position: absolute;width: 1px;}#sk-container-id-1 div.sk-estimator {font-family: monospace;background-color: #f0f8ff;border: 1px dotted black;border-radius: 0.25em;box-sizing: border-box;margin-bottom: 0.5em;}#sk-container-id-1 div.sk-estimator:hover {background-color: #d4ebff;}#sk-container-id-1 div.sk-parallel-item::after {content: \"\";width: 100%;border-bottom: 1px solid gray;flex-grow: 1;}#sk-container-id-1 div.sk-label:hover label.sk-toggleable__label {background-color: #d4ebff;}#sk-container-id-1 div.sk-serial::before {content: \"\";position: absolute;border-left: 1px solid gray;box-sizing: border-box;top: 0;bottom: 0;left: 50%;z-index: 0;}#sk-container-id-1 div.sk-serial {display: flex;flex-direction: column;align-items: center;background-color: white;padding-right: 0.2em;padding-left: 0.2em;position: relative;}#sk-container-id-1 div.sk-item {position: relative;z-index: 1;}#sk-container-id-1 div.sk-parallel {display: flex;align-items: stretch;justify-content: center;background-color: white;position: relative;}#sk-container-id-1 div.sk-item::before, #sk-container-id-1 div.sk-parallel-item::before {content: \"\";position: absolute;border-left: 1px solid gray;box-sizing: border-box;top: 0;bottom: 0;left: 50%;z-index: -1;}#sk-container-id-1 div.sk-parallel-item {display: flex;flex-direction: column;z-index: 1;position: relative;background-color: white;}#sk-container-id-1 div.sk-parallel-item:first-child::after {align-self: flex-end;width: 50%;}#sk-container-id-1 div.sk-parallel-item:last-child::after {align-self: flex-start;width: 50%;}#sk-container-id-1 div.sk-parallel-item:only-child::after {width: 0;}#sk-container-id-1 div.sk-dashed-wrapped {border: 1px dashed gray;margin: 0 0.4em 0.5em 0.4em;box-sizing: border-box;padding-bottom: 0.4em;background-color: white;}#sk-container-id-1 div.sk-label label {font-family: monospace;font-weight: bold;display: inline-block;line-height: 1.2em;}#sk-container-id-1 div.sk-label-container {text-align: center;}#sk-container-id-1 div.sk-container {/* jupyter's `normalize.less` sets `[hidden] { display: none; }` but bootstrap.min.css set `[hidden] { display: none !important; }` so we also need the `!important` here to be able to override the default hidden behavior on the sphinx rendered scikit-learn.org. See: https://github.com/scikit-learn/scikit-learn/issues/21755 */display: inline-block !important;position: relative;}#sk-container-id-1 div.sk-text-repr-fallback {display: none;}</style><div id=\"sk-container-id-1\" class=\"sk-top-container\"><div class=\"sk-text-repr-fallback\"><pre>KNeighborsClassifier()</pre><b>In a Jupyter environment, please rerun this cell to show the HTML representation or trust the notebook. <br />On GitHub, the HTML representation is unable to render, please try loading this page with nbviewer.org.</b></div><div class=\"sk-container\" hidden><div class=\"sk-item\"><div class=\"sk-estimator sk-toggleable\"><input class=\"sk-toggleable__control sk-hidden--visually\" id=\"sk-estimator-id-1\" type=\"checkbox\" checked><label for=\"sk-estimator-id-1\" class=\"sk-toggleable__label sk-toggleable__label-arrow\">KNeighborsClassifier</label><div class=\"sk-toggleable__content\"><pre>KNeighborsClassifier()</pre></div></div></div></div></div>"
      ],
      "text/plain": [
       "KNeighborsClassifier()"
      ]
     },
     "execution_count": 13,
     "metadata": {},
     "output_type": "execute_result"
    }
   ],
   "source": [
    "knn.fit(X_train,Y_train)"
   ]
  },
  {
   "cell_type": "code",
   "execution_count": 14,
   "id": "9af1584d",
   "metadata": {
    "execution": {
     "iopub.execute_input": "2025-05-25T06:45:21.692481Z",
     "iopub.status.busy": "2025-05-25T06:45:21.692150Z",
     "iopub.status.idle": "2025-05-25T06:45:34.654017Z",
     "shell.execute_reply": "2025-05-25T06:45:34.653130Z"
    },
    "papermill": {
     "duration": 12.970333,
     "end_time": "2025-05-25T06:45:34.655711",
     "exception": false,
     "start_time": "2025-05-25T06:45:21.685378",
     "status": "completed"
    },
    "tags": []
   },
   "outputs": [],
   "source": [
    "y_pred = knn.predict(X_test)"
   ]
  },
  {
   "cell_type": "code",
   "execution_count": 15,
   "id": "5feb907d",
   "metadata": {
    "execution": {
     "iopub.execute_input": "2025-05-25T06:45:34.667769Z",
     "iopub.status.busy": "2025-05-25T06:45:34.667484Z",
     "iopub.status.idle": "2025-05-25T06:45:34.676343Z",
     "shell.execute_reply": "2025-05-25T06:45:34.675322Z"
    },
    "papermill": {
     "duration": 0.016569,
     "end_time": "2025-05-25T06:45:34.677913",
     "exception": false,
     "start_time": "2025-05-25T06:45:34.661344",
     "status": "completed"
    },
    "tags": []
   },
   "outputs": [
    {
     "data": {
      "text/plain": [
       "0.9648809523809524"
      ]
     },
     "execution_count": 15,
     "metadata": {},
     "output_type": "execute_result"
    }
   ],
   "source": [
    "from sklearn.metrics import accuracy_score\n",
    "accuracy_score(Y_test, y_pred)"
   ]
  },
  {
   "cell_type": "code",
   "execution_count": 16,
   "id": "1ddefbc4",
   "metadata": {
    "execution": {
     "iopub.execute_input": "2025-05-25T06:45:34.689997Z",
     "iopub.status.busy": "2025-05-25T06:45:34.689681Z",
     "iopub.status.idle": "2025-05-25T06:45:34.694570Z",
     "shell.execute_reply": "2025-05-25T06:45:34.693702Z"
    },
    "papermill": {
     "duration": 0.012611,
     "end_time": "2025-05-25T06:45:34.696113",
     "exception": false,
     "start_time": "2025-05-25T06:45:34.683502",
     "status": "completed"
    },
    "tags": []
   },
   "outputs": [],
   "source": [
    "from sklearn.preprocessing import StandardScaler\n",
    "scaler = StandardScaler()"
   ]
  },
  {
   "cell_type": "code",
   "execution_count": 17,
   "id": "84e76bd5",
   "metadata": {
    "execution": {
     "iopub.execute_input": "2025-05-25T06:45:34.709087Z",
     "iopub.status.busy": "2025-05-25T06:45:34.708736Z",
     "iopub.status.idle": "2025-05-25T06:45:35.318324Z",
     "shell.execute_reply": "2025-05-25T06:45:35.317477Z"
    },
    "papermill": {
     "duration": 0.617829,
     "end_time": "2025-05-25T06:45:35.319953",
     "exception": false,
     "start_time": "2025-05-25T06:45:34.702124",
     "status": "completed"
    },
    "tags": []
   },
   "outputs": [],
   "source": [
    "X_train = scaler.fit_transform(X_train)\n",
    "X_test = scaler.transform(X_test)"
   ]
  },
  {
   "cell_type": "code",
   "execution_count": 18,
   "id": "37344eff",
   "metadata": {
    "execution": {
     "iopub.execute_input": "2025-05-25T06:45:35.332374Z",
     "iopub.status.busy": "2025-05-25T06:45:35.332062Z",
     "iopub.status.idle": "2025-05-25T06:45:35.336949Z",
     "shell.execute_reply": "2025-05-25T06:45:35.335878Z"
    },
    "papermill": {
     "duration": 0.012953,
     "end_time": "2025-05-25T06:45:35.338691",
     "exception": false,
     "start_time": "2025-05-25T06:45:35.325738",
     "status": "completed"
    },
    "tags": []
   },
   "outputs": [],
   "source": [
    "from sklearn.decomposition import PCA\n",
    "pca = PCA(n_components = 100)"
   ]
  },
  {
   "cell_type": "code",
   "execution_count": 19,
   "id": "7a486ddb",
   "metadata": {
    "execution": {
     "iopub.execute_input": "2025-05-25T06:45:35.351154Z",
     "iopub.status.busy": "2025-05-25T06:45:35.350800Z",
     "iopub.status.idle": "2025-05-25T06:45:38.296425Z",
     "shell.execute_reply": "2025-05-25T06:45:38.295187Z"
    },
    "papermill": {
     "duration": 2.953929,
     "end_time": "2025-05-25T06:45:38.298311",
     "exception": false,
     "start_time": "2025-05-25T06:45:35.344382",
     "status": "completed"
    },
    "tags": []
   },
   "outputs": [],
   "source": [
    "X_train = pca.fit_transform(X_train)\n",
    "X_test = pca.transform(X_test)"
   ]
  },
  {
   "cell_type": "code",
   "execution_count": 20,
   "id": "9c42adbb",
   "metadata": {
    "execution": {
     "iopub.execute_input": "2025-05-25T06:45:38.311633Z",
     "iopub.status.busy": "2025-05-25T06:45:38.310719Z",
     "iopub.status.idle": "2025-05-25T06:45:38.318108Z",
     "shell.execute_reply": "2025-05-25T06:45:38.316897Z"
    },
    "papermill": {
     "duration": 0.015712,
     "end_time": "2025-05-25T06:45:38.319770",
     "exception": false,
     "start_time": "2025-05-25T06:45:38.304058",
     "status": "completed"
    },
    "tags": []
   },
   "outputs": [
    {
     "data": {
      "text/plain": [
       "(33600, 100)"
      ]
     },
     "execution_count": 20,
     "metadata": {},
     "output_type": "execute_result"
    }
   ],
   "source": [
    "X_train.shape"
   ]
  },
  {
   "cell_type": "code",
   "execution_count": 21,
   "id": "2089c0ef",
   "metadata": {
    "execution": {
     "iopub.execute_input": "2025-05-25T06:45:38.333290Z",
     "iopub.status.busy": "2025-05-25T06:45:38.332852Z",
     "iopub.status.idle": "2025-05-25T06:45:38.352225Z",
     "shell.execute_reply": "2025-05-25T06:45:38.351245Z"
    },
    "papermill": {
     "duration": 0.028209,
     "end_time": "2025-05-25T06:45:38.353816",
     "exception": false,
     "start_time": "2025-05-25T06:45:38.325607",
     "status": "completed"
    },
    "tags": []
   },
   "outputs": [
    {
     "data": {
      "text/html": [
       "<style>#sk-container-id-2 {color: black;background-color: white;}#sk-container-id-2 pre{padding: 0;}#sk-container-id-2 div.sk-toggleable {background-color: white;}#sk-container-id-2 label.sk-toggleable__label {cursor: pointer;display: block;width: 100%;margin-bottom: 0;padding: 0.3em;box-sizing: border-box;text-align: center;}#sk-container-id-2 label.sk-toggleable__label-arrow:before {content: \"▸\";float: left;margin-right: 0.25em;color: #696969;}#sk-container-id-2 label.sk-toggleable__label-arrow:hover:before {color: black;}#sk-container-id-2 div.sk-estimator:hover label.sk-toggleable__label-arrow:before {color: black;}#sk-container-id-2 div.sk-toggleable__content {max-height: 0;max-width: 0;overflow: hidden;text-align: left;background-color: #f0f8ff;}#sk-container-id-2 div.sk-toggleable__content pre {margin: 0.2em;color: black;border-radius: 0.25em;background-color: #f0f8ff;}#sk-container-id-2 input.sk-toggleable__control:checked~div.sk-toggleable__content {max-height: 200px;max-width: 100%;overflow: auto;}#sk-container-id-2 input.sk-toggleable__control:checked~label.sk-toggleable__label-arrow:before {content: \"▾\";}#sk-container-id-2 div.sk-estimator input.sk-toggleable__control:checked~label.sk-toggleable__label {background-color: #d4ebff;}#sk-container-id-2 div.sk-label input.sk-toggleable__control:checked~label.sk-toggleable__label {background-color: #d4ebff;}#sk-container-id-2 input.sk-hidden--visually {border: 0;clip: rect(1px 1px 1px 1px);clip: rect(1px, 1px, 1px, 1px);height: 1px;margin: -1px;overflow: hidden;padding: 0;position: absolute;width: 1px;}#sk-container-id-2 div.sk-estimator {font-family: monospace;background-color: #f0f8ff;border: 1px dotted black;border-radius: 0.25em;box-sizing: border-box;margin-bottom: 0.5em;}#sk-container-id-2 div.sk-estimator:hover {background-color: #d4ebff;}#sk-container-id-2 div.sk-parallel-item::after {content: \"\";width: 100%;border-bottom: 1px solid gray;flex-grow: 1;}#sk-container-id-2 div.sk-label:hover label.sk-toggleable__label {background-color: #d4ebff;}#sk-container-id-2 div.sk-serial::before {content: \"\";position: absolute;border-left: 1px solid gray;box-sizing: border-box;top: 0;bottom: 0;left: 50%;z-index: 0;}#sk-container-id-2 div.sk-serial {display: flex;flex-direction: column;align-items: center;background-color: white;padding-right: 0.2em;padding-left: 0.2em;position: relative;}#sk-container-id-2 div.sk-item {position: relative;z-index: 1;}#sk-container-id-2 div.sk-parallel {display: flex;align-items: stretch;justify-content: center;background-color: white;position: relative;}#sk-container-id-2 div.sk-item::before, #sk-container-id-2 div.sk-parallel-item::before {content: \"\";position: absolute;border-left: 1px solid gray;box-sizing: border-box;top: 0;bottom: 0;left: 50%;z-index: -1;}#sk-container-id-2 div.sk-parallel-item {display: flex;flex-direction: column;z-index: 1;position: relative;background-color: white;}#sk-container-id-2 div.sk-parallel-item:first-child::after {align-self: flex-end;width: 50%;}#sk-container-id-2 div.sk-parallel-item:last-child::after {align-self: flex-start;width: 50%;}#sk-container-id-2 div.sk-parallel-item:only-child::after {width: 0;}#sk-container-id-2 div.sk-dashed-wrapped {border: 1px dashed gray;margin: 0 0.4em 0.5em 0.4em;box-sizing: border-box;padding-bottom: 0.4em;background-color: white;}#sk-container-id-2 div.sk-label label {font-family: monospace;font-weight: bold;display: inline-block;line-height: 1.2em;}#sk-container-id-2 div.sk-label-container {text-align: center;}#sk-container-id-2 div.sk-container {/* jupyter's `normalize.less` sets `[hidden] { display: none; }` but bootstrap.min.css set `[hidden] { display: none !important; }` so we also need the `!important` here to be able to override the default hidden behavior on the sphinx rendered scikit-learn.org. See: https://github.com/scikit-learn/scikit-learn/issues/21755 */display: inline-block !important;position: relative;}#sk-container-id-2 div.sk-text-repr-fallback {display: none;}</style><div id=\"sk-container-id-2\" class=\"sk-top-container\"><div class=\"sk-text-repr-fallback\"><pre>KNeighborsClassifier()</pre><b>In a Jupyter environment, please rerun this cell to show the HTML representation or trust the notebook. <br />On GitHub, the HTML representation is unable to render, please try loading this page with nbviewer.org.</b></div><div class=\"sk-container\" hidden><div class=\"sk-item\"><div class=\"sk-estimator sk-toggleable\"><input class=\"sk-toggleable__control sk-hidden--visually\" id=\"sk-estimator-id-2\" type=\"checkbox\" checked><label for=\"sk-estimator-id-2\" class=\"sk-toggleable__label sk-toggleable__label-arrow\">KNeighborsClassifier</label><div class=\"sk-toggleable__content\"><pre>KNeighborsClassifier()</pre></div></div></div></div></div>"
      ],
      "text/plain": [
       "KNeighborsClassifier()"
      ]
     },
     "execution_count": 21,
     "metadata": {},
     "output_type": "execute_result"
    }
   ],
   "source": [
    "from sklearn.neighbors import KNeighborsClassifier\n",
    "knn = KNeighborsClassifier()\n",
    "knn.fit(X_train,Y_train)"
   ]
  },
  {
   "cell_type": "code",
   "execution_count": 22,
   "id": "a451c109",
   "metadata": {
    "execution": {
     "iopub.execute_input": "2025-05-25T06:45:38.367183Z",
     "iopub.status.busy": "2025-05-25T06:45:38.366835Z",
     "iopub.status.idle": "2025-05-25T06:45:40.011304Z",
     "shell.execute_reply": "2025-05-25T06:45:40.009900Z"
    },
    "papermill": {
     "duration": 1.653314,
     "end_time": "2025-05-25T06:45:40.013172",
     "exception": false,
     "start_time": "2025-05-25T06:45:38.359858",
     "status": "completed"
    },
    "tags": []
   },
   "outputs": [],
   "source": [
    "y_pred = knn.predict(X_test)"
   ]
  },
  {
   "cell_type": "markdown",
   "id": "e23b4f3c",
   "metadata": {
    "papermill": {
     "duration": 0.006064,
     "end_time": "2025-05-25T06:45:40.025796",
     "exception": false,
     "start_time": "2025-05-25T06:45:40.019732",
     "status": "completed"
    },
    "tags": []
   },
   "source": [
    "even with 100, we got 95% accuracy which is 1% less than accuracy got from 748 features"
   ]
  },
  {
   "cell_type": "code",
   "execution_count": 23,
   "id": "f0c88b2c",
   "metadata": {
    "execution": {
     "iopub.execute_input": "2025-05-25T06:45:40.038594Z",
     "iopub.status.busy": "2025-05-25T06:45:40.038298Z",
     "iopub.status.idle": "2025-05-25T06:45:40.046911Z",
     "shell.execute_reply": "2025-05-25T06:45:40.045985Z"
    },
    "papermill": {
     "duration": 0.017104,
     "end_time": "2025-05-25T06:45:40.048653",
     "exception": false,
     "start_time": "2025-05-25T06:45:40.031549",
     "status": "completed"
    },
    "tags": []
   },
   "outputs": [
    {
     "data": {
      "text/plain": [
       "0.9523809523809523"
      ]
     },
     "execution_count": 23,
     "metadata": {},
     "output_type": "execute_result"
    }
   ],
   "source": [
    "from sklearn.metrics import accuracy_score\n",
    "accuracy_score(Y_test, y_pred)"
   ]
  },
  {
   "cell_type": "code",
   "execution_count": 24,
   "id": "a8bc3ff0",
   "metadata": {
    "execution": {
     "iopub.execute_input": "2025-05-25T06:45:40.062153Z",
     "iopub.status.busy": "2025-05-25T06:45:40.061767Z",
     "iopub.status.idle": "2025-05-25T06:45:40.069371Z",
     "shell.execute_reply": "2025-05-25T06:45:40.068192Z"
    },
    "papermill": {
     "duration": 0.016311,
     "end_time": "2025-05-25T06:45:40.070910",
     "exception": false,
     "start_time": "2025-05-25T06:45:40.054599",
     "status": "completed"
    },
    "tags": []
   },
   "outputs": [
    {
     "data": {
      "text/plain": [
       "array([[-2.71863016e+00, -4.89826948e-01,  1.13548195e+00, ...,\n",
       "         7.89491170e-02,  1.79698732e-01,  6.19834733e-01],\n",
       "       [-6.76979740e-01, -6.75362986e+00, -2.33590338e+00, ...,\n",
       "         3.70516247e-01, -9.81649073e-01,  8.80430576e-01],\n",
       "       [-3.03323303e+00,  6.50981675e+00,  7.49182488e+00, ...,\n",
       "        -1.09342720e+00, -2.15876766e+00, -4.34683068e-03],\n",
       "       ...,\n",
       "       [ 2.14883487e+00,  7.80786254e-01, -7.47386872e-01, ...,\n",
       "         1.18870295e+00, -4.41223433e-01,  2.02439223e-01],\n",
       "       [ 1.05956686e+00,  9.47676248e-01,  3.94974557e+00, ...,\n",
       "        -1.39832488e+00, -3.51940146e-01, -1.64389248e-01],\n",
       "       [ 1.77025855e+01,  1.96187828e+00, -4.94354852e+00, ...,\n",
       "        -7.82362697e-01, -6.64821696e-01,  2.76924901e+00]])"
      ]
     },
     "execution_count": 24,
     "metadata": {},
     "output_type": "execute_result"
    }
   ],
   "source": [
    "X_train"
   ]
  }
 ],
 "metadata": {
  "kaggle": {
   "accelerator": "none",
   "dataSources": [
    {
     "databundleVersionId": 861823,
     "sourceId": 3004,
     "sourceType": "competition"
    }
   ],
   "dockerImageVersionId": 31040,
   "isGpuEnabled": false,
   "isInternetEnabled": true,
   "language": "python",
   "sourceType": "notebook"
  },
  "kernelspec": {
   "display_name": "Python 3",
   "language": "python",
   "name": "python3"
  },
  "language_info": {
   "codemirror_mode": {
    "name": "ipython",
    "version": 3
   },
   "file_extension": ".py",
   "mimetype": "text/x-python",
   "name": "python",
   "nbconvert_exporter": "python",
   "pygments_lexer": "ipython3",
   "version": "3.11.11"
  },
  "papermill": {
   "default_parameters": {},
   "duration": 32.946936,
   "end_time": "2025-05-25T06:45:40.798241",
   "environment_variables": {},
   "exception": null,
   "input_path": "__notebook__.ipynb",
   "output_path": "__notebook__.ipynb",
   "parameters": {},
   "start_time": "2025-05-25T06:45:07.851305",
   "version": "2.6.0"
  }
 },
 "nbformat": 4,
 "nbformat_minor": 5
}
